{
 "cells": [
  {
   "cell_type": "markdown",
   "metadata": {},
   "source": [
    "# Code alongs - Python summary part 1\n"
   ]
  },
  {
   "cell_type": "code",
   "execution_count": null,
   "metadata": {},
   "outputs": [],
   "source": [
    "name = \"Milton\"\n",
    "age = 22\n",
    "number_of_children = 0\n",
    "loves_math = True\n",
    "name, age, number_of_children, loves_math"
   ]
  },
  {
   "cell_type": "code",
   "execution_count": null,
   "metadata": {},
   "outputs": [],
   "source": [
    "print(f\"My name is {name} and I'm {age} years old\")\n",
    "print(f\"{type(age) = }\")"
   ]
  },
  {
   "cell_type": "code",
   "execution_count": 10,
   "metadata": {},
   "outputs": [
    {
     "data": {
      "text/plain": [
       "('Milton', 22, 0, True)"
      ]
     },
     "execution_count": 10,
     "metadata": {},
     "output_type": "execute_result"
    }
   ],
   "source": [
    "interests = (\"Gym\", \"Spela\", \"TV\")\n",
    "person = (\"Milton\", 22, 0, True)\n",
    "\n",
    "person"
   ]
  },
  {
   "cell_type": "code",
   "execution_count": 36,
   "metadata": {},
   "outputs": [
    {
     "name": "stdout",
     "output_type": "stream",
     "text": [
      "<class 'str'>\n",
      "<class 'int'>\n",
      "<class 'int'>\n",
      "<class 'bool'>\n"
     ]
    }
   ],
   "source": [
    "for type_ in person:\n",
    "    print(type(type_))"
   ]
  },
  {
   "cell_type": "markdown",
   "metadata": {},
   "source": [
    "# Index with [] operator"
   ]
  },
  {
   "cell_type": "code",
   "execution_count": 18,
   "metadata": {},
   "outputs": [
    {
     "name": "stdout",
     "output_type": "stream",
     "text": [
      "person[0] = 'Milton'\n",
      "person[1] = 22\n",
      "person[2] = 0\n",
      "person[3] = True\n"
     ]
    }
   ],
   "source": [
    "print(f\"{person[0] = }\")\n",
    "print(f\"{person[1] = }\")\n",
    "print(f\"{person[2] = }\")\n",
    "print(f\"{person[3] = }\")"
   ]
  },
  {
   "cell_type": "markdown",
   "metadata": {},
   "source": [
    "# Slicing a list\n",
    "\n",
    "- Extract a sublist from a list using : operator (colon, operator)\n",
    "- [2 : 3]\n",
    "- $2 \\le x < 3$"
   ]
  },
  {
   "cell_type": "code",
   "execution_count": 11,
   "metadata": {},
   "outputs": [
    {
     "data": {
      "text/plain": [
       "('Gym', 'Spela', 'TV')"
      ]
     },
     "execution_count": 11,
     "metadata": {},
     "output_type": "execute_result"
    }
   ],
   "source": [
    "interests "
   ]
  },
  {
   "cell_type": "code",
   "execution_count": 14,
   "metadata": {},
   "outputs": [
    {
     "data": {
      "text/plain": [
       "('Spela',)"
      ]
     },
     "execution_count": 14,
     "metadata": {},
     "output_type": "execute_result"
    }
   ],
   "source": [
    "interests [1 : 2]"
   ]
  },
  {
   "cell_type": "markdown",
   "metadata": {},
   "source": [
    "if-statment"
   ]
  },
  {
   "cell_type": "code",
   "execution_count": 35,
   "metadata": {},
   "outputs": [
    {
     "name": "stdout",
     "output_type": "stream",
     "text": [
      "Barn\n"
     ]
    }
   ],
   "source": [
    "age = int(input(\"Enter your age: \"))\n",
    "if age >= 18:\n",
    "    print(\"Vuxen\")\n",
    "else:\n",
    "    print(\"Barn\")"
   ]
  },
  {
   "cell_type": "markdown",
   "metadata": {},
   "source": [
    "## IF"
   ]
  },
  {
   "cell_type": "code",
   "execution_count": 16,
   "metadata": {},
   "outputs": [
    {
     "name": "stdout",
     "output_type": "stream",
     "text": [
      "Accuracy id 0.3 with Bad performance.\n"
     ]
    }
   ],
   "source": [
    "accuracy = .3\n",
    "\n",
    "if accuracy > .9:\n",
    "    model_performance = \"Good\"\n",
    "elif accuracy > .5:\n",
    "    model_performance = \"Moderate\"\n",
    "else:\n",
    "    model_performance = \"Bad\"\n",
    "    \n",
    "print(f\"Accuracy id {accuracy} with {model_performance} performance.\")"
   ]
  },
  {
   "cell_type": "code",
   "execution_count": 19,
   "metadata": {},
   "outputs": [
    {
     "data": {
      "text/plain": [
       "'Bad'"
      ]
     },
     "execution_count": 19,
     "metadata": {},
     "output_type": "execute_result"
    }
   ],
   "source": [
    "performance = \"Good\" if accuracy > .5 else \"Bad\"\n",
    "performance"
   ]
  },
  {
   "cell_type": "markdown",
   "metadata": {},
   "source": [
    "## While-LOOP\n",
    "Example - oil leakage\n",
    "There is an oil leakage causing the bird population in an island to 1/2 in each year. From start there were 80000 birds, how many years does it take for it to have 1/10 remaining?"
   ]
  },
  {
   "cell_type": "code",
   "execution_count": 26,
   "metadata": {},
   "outputs": [
    {
     "name": "stdout",
     "output_type": "stream",
     "text": [
      "Det tar 4 år.\n"
     ]
    }
   ],
   "source": [
    "birds = 80000\n",
    "years = 0\n",
    "while birds > 8000:\n",
    "    years += 1\n",
    "    birds /= 2\n",
    "\n",
    "print(f\"Det tar {years} år.\")\n",
    "    "
   ]
  },
  {
   "cell_type": "markdown",
   "metadata": {},
   "source": [
    "## For-Statments"
   ]
  },
  {
   "cell_type": "code",
   "execution_count": 27,
   "metadata": {},
   "outputs": [
    {
     "name": "stdout",
     "output_type": "stream",
     "text": [
      "K-means\n",
      "PCA\n",
      "GMM\n"
     ]
    }
   ],
   "source": [
    "unsupervised_abbrevations = [\"K-means\", \"PCA\", \"GMM\"]\n",
    "unsupervised_algorithms = [\"K-means clustering\", \"Principal component analysis\", \"Gaussian Mixture Models\"]\n",
    "\n",
    "for abbreviation in unsupervised_abbrevations:\n",
    "    print(abbreviation)\n",
    "\n"
   ]
  },
  {
   "cell_type": "code",
   "execution_count": 33,
   "metadata": {},
   "outputs": [
    {
     "name": "stdout",
     "output_type": "stream",
     "text": [
      "1 K-means\n",
      "2 PCA\n",
      "3 GMM\n",
      "1 K-means\n",
      "2 PCA\n",
      "3 GMM\n"
     ]
    }
   ],
   "source": [
    "for i, abbreviation in enumerate(unsupervised_abbrevations):\n",
    "    print(i + 1, abbreviation)\n",
    "\n",
    "for i, abbreviation in enumerate(unsupervised_abbrevations, 1):\n",
    "    print(i, abbreviation)"
   ]
  },
  {
   "cell_type": "code",
   "execution_count": 40,
   "metadata": {},
   "outputs": [
    {
     "name": "stdout",
     "output_type": "stream",
     "text": [
      "Abbreviation: K-means clustering\n",
      "Abbreviation: Principal component analysis\n",
      "Abbreviation: Gaussian Mixture Models\n"
     ]
    }
   ],
   "source": [
    "for (abbreviation, full_name) in zip(unsupervised_abbrevations, unsupervised_algorithms):\n",
    "    print(f\"Abbreviation: {full_name}\")"
   ]
  },
  {
   "cell_type": "markdown",
   "metadata": {},
   "source": []
  },
  {
   "cell_type": "code",
   "execution_count": 57,
   "metadata": {},
   "outputs": [
    {
     "data": {
      "text/plain": [
       "{'name': 'Milton', 'age': 22, 'loves_math': True}"
      ]
     },
     "execution_count": 57,
     "metadata": {},
     "output_type": "execute_result"
    }
   ],
   "source": [
    "person1 = dict(name = \"Milton\", age = 22, loves_math = True)\n",
    "person1"
   ]
  },
  {
   "cell_type": "code",
   "execution_count": 48,
   "metadata": {},
   "outputs": [
    {
     "data": {
      "text/plain": [
       "dict_keys(['Name', 'Age', 'loves_math'])"
      ]
     },
     "execution_count": 48,
     "metadata": {},
     "output_type": "execute_result"
    }
   ],
   "source": [
    "person1.keys()"
   ]
  },
  {
   "cell_type": "code",
   "execution_count": 54,
   "metadata": {},
   "outputs": [
    {
     "data": {
      "text/plain": [
       "('Milton', True)"
      ]
     },
     "execution_count": 54,
     "metadata": {},
     "output_type": "execute_result"
    }
   ],
   "source": [
    "person1[\"name\"], person1[\"loves_math\"]"
   ]
  },
  {
   "cell_type": "code",
   "execution_count": 58,
   "metadata": {},
   "outputs": [
    {
     "name": "stdout",
     "output_type": "stream",
     "text": [
      "name : Milton\n",
      "age : 22\n",
      "loves_math : True\n"
     ]
    }
   ],
   "source": [
    "for key in person1:\n",
    "    print(key, \":\", person1[key])"
   ]
  },
  {
   "cell_type": "code",
   "execution_count": 61,
   "metadata": {},
   "outputs": [
    {
     "name": "stdout",
     "output_type": "stream",
     "text": [
      "name: Milton\n",
      "age: 22\n",
      "loves_math: True\n"
     ]
    }
   ],
   "source": [
    "for key, value in person1.items():\n",
    "    print(f\"{key}: {value}\")"
   ]
  }
 ],
 "metadata": {
  "kernelspec": {
   "display_name": "venv",
   "language": "python",
   "name": "python3"
  },
  "language_info": {
   "codemirror_mode": {
    "name": "ipython",
    "version": 3
   },
   "file_extension": ".py",
   "mimetype": "text/x-python",
   "name": "python",
   "nbconvert_exporter": "python",
   "pygments_lexer": "ipython3",
   "version": "3.11.7"
  }
 },
 "nbformat": 4,
 "nbformat_minor": 2
}
