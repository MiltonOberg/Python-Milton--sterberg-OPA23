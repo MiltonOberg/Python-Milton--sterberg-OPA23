{
 "cells": [
  {
   "cell_type": "markdown",
   "metadata": {},
   "source": [
    "## Strings and file handling"
   ]
  },
  {
   "cell_type": "code",
   "execution_count": 22,
   "metadata": {},
   "outputs": [
    {
     "data": {
      "text/plain": [
       "'s'"
      ]
     },
     "execution_count": 22,
     "metadata": {},
     "output_type": "execute_result"
    }
   ],
   "source": [
    "text = \"test word\"\n",
    "text[2] #inclusive 0"
   ]
  },
  {
   "cell_type": "code",
   "execution_count": 23,
   "metadata": {},
   "outputs": [
    {
     "data": {
      "text/plain": [
       "9"
      ]
     },
     "execution_count": 23,
     "metadata": {},
     "output_type": "execute_result"
    }
   ],
   "source": [
    "len(text) #räknar char, så mellanslag gills"
   ]
  },
  {
   "cell_type": "code",
   "execution_count": 24,
   "metadata": {},
   "outputs": [
    {
     "name": "stdout",
     "output_type": "stream",
     "text": [
      "2\n"
     ]
    }
   ],
   "source": [
    "\n",
    "split_text2 = len(text.split())\n",
    "print(split_text2)"
   ]
  },
  {
   "cell_type": "code",
   "execution_count": 25,
   "metadata": {},
   "outputs": [
    {
     "name": "stdout",
     "output_type": "stream",
     "text": [
      "not palindrome\n"
     ]
    }
   ],
   "source": [
    "name = \"Milton\"\n",
    "\n",
    "if name.lower() == \"\".join(reversed(name)).lower():\n",
    "    print(\"palindrome\")\n",
    "else:\n",
    "    print(\"not palindrome\")"
   ]
  },
  {
   "cell_type": "code",
   "execution_count": 26,
   "metadata": {},
   "outputs": [
    {
     "data": {
      "text/plain": [
       "'MiltonMiltonMilton'"
      ]
     },
     "execution_count": 26,
     "metadata": {},
     "output_type": "execute_result"
    }
   ],
   "source": [
    "name * 3"
   ]
  },
  {
   "cell_type": "markdown",
   "metadata": {},
   "source": [
    "## File handling"
   ]
  },
  {
   "cell_type": "code",
   "execution_count": 27,
   "metadata": {},
   "outputs": [
    {
     "name": "stdout",
     "output_type": "stream",
     "text": [
      "SUperViseD    LEARNinG IS a    PaRt    oF MaCHinE    LEARniNG,   wheRE aLgORithms    LEARn FRom a tRAINIng    DaTa Set. THese   aLgORithms   TRY   TO    MaKE   SeNSe   Of    ThE    DaTa   BY    MaTChiNG    INpUtS   TO    CoRResPonDInG   OutpUTs. In    suPERviseD    LEARNing,    EACH    DaTa   PoINt in    ThE   tRAINIng    Set    IS    LaBELEd WiTH    ThE    CoRReCT    OutpUT,    WHich   aLLOWS   thE ALgORithM    To    LEARn   FRom ThE    ExAMPles. THis   alLOWS   thE    ALgORithM    To    MaKe    PREDIcTions    On    UnSEEN    DaTa, BaSED On    ITs    TRaiNIng. iT    IS    USEd FoR    taSKS SuCH    AS CLaSSIFICaTion, WheRE ThE    GoAL    IS    To    aSSIGn    a LaBEL To    InpUt DaTa,    anD REGrESsIoN, WheRE ThE    GoAL    IS    To    PREDIcT    a CoNtINuoUS    OutpUT VaRIabLE. SuPERviseD    LEARNing    HaS    MaNY    APPLIcatIoNS In    ArEas LIke    Image ReCOGNitiON, NatuRaL    LaNGuaGE PRoCESSINg,    anD FiNaNCiaL FoRECasting.\n"
     ]
    }
   ],
   "source": [
    "text_path = \"../data/ml_text_raw.txt\"\n",
    "with open(text_path, \"r\") as file:\n",
    "    raw_text = file.read()\n",
    "print(raw_text)"
   ]
  },
  {
   "cell_type": "code",
   "execution_count": 28,
   "metadata": {},
   "outputs": [
    {
     "data": {
      "text/plain": [
       "'SUperViseD LEARNinG IS a PaRt oF MaCHinE LEARniNG, wheRE aLgORithms LEARn FRom a tRAINIng DaTa Set. THese aLgORithms TRY TO MaKE SeNSe Of ThE DaTa BY MaTChiNG INpUtS TO CoRResPonDInG OutpUTs. In suPERviseD LEARNing, EACH DaTa PoINt in ThE tRAINIng Set IS LaBELEd WiTH ThE CoRReCT OutpUT, WHich aLLOWS thE ALgORithM To LEARn FRom ThE ExAMPles. THis alLOWS thE ALgORithM To MaKe PREDIcTions On UnSEEN DaTa, BaSED On ITs TRaiNIng. iT IS USEd FoR taSKS SuCH AS CLaSSIFICaTion, WheRE ThE GoAL IS To aSSIGn a LaBEL To InpUt DaTa, anD REGrESsIoN, WheRE ThE GoAL IS To PREDIcT a CoNtINuoUS OutpUT VaRIabLE. SuPERviseD LEARNing HaS MaNY APPLIcatIoNS In ArEas LIke Image ReCOGNitiON, NatuRaL LaNGuaGE PRoCESSINg, anD FiNaNCiaL FoRECasting.'"
      ]
     },
     "execution_count": 28,
     "metadata": {},
     "output_type": "execute_result"
    }
   ],
   "source": [
    "import re #regular expression\n",
    "\n",
    "text_fixed_space = re.sub(r\"[ ]{2,}\", \" \", raw_text)\n",
    "\n",
    "text_fixed_space"
   ]
  },
  {
   "cell_type": "code",
   "execution_count": 29,
   "metadata": {},
   "outputs": [
    {
     "data": {
      "text/plain": [
       "['Supervised learning is a part of machine learning, where algorithms learn from a training data set',\n",
       " 'These algorithms try to make sense of the data by matching inputs to corresponding outputs',\n",
       " 'In supervised learning, each data point in the training set is labeled with the correct output, which allows the algorithm to learn from the examples',\n",
       " 'This allows the algorithm to make predictions on unseen data, based on its training',\n",
       " 'It is used for tasks such as classification, where the goal is to assign a label to input data, and regression, where the goal is to predict a continuous output variable',\n",
       " 'Supervised learning has many applications in areas like image recognition, natural language processing, and financial forecasting.']"
      ]
     },
     "execution_count": 29,
     "metadata": {},
     "output_type": "execute_result"
    }
   ],
   "source": [
    "sentences = [sentence.capitalize() for sentence in text_fixed_space.split(\". \")]\n",
    "sentences\n"
   ]
  },
  {
   "cell_type": "code",
   "execution_count": 30,
   "metadata": {},
   "outputs": [
    {
     "name": "stdout",
     "output_type": "stream",
     "text": [
      "Supervised learning is a part of machine learning, where algorithms learn from a training data set.\n",
      "\n",
      "These algorithms try to make sense of the data by matching inputs to corresponding outputs.\n",
      "\n",
      "In supervised learning, each data point in the training set is labeled with the correct output, which allows the algorithm to learn from the examples.\n",
      "\n",
      "This allows the algorithm to make predictions on unseen data, based on its training.\n",
      "\n",
      "It is used for tasks such as classification, where the goal is to assign a label to input data, and regression, where the goal is to predict a continuous output variable.\n",
      "\n",
      "Supervised learning has many applications in areas like image recognition, natural language processing, and financial forecasting.\n"
     ]
    }
   ],
   "source": [
    "clean_text = \".\\n\\n\".join(sentences)\n",
    "print(clean_text)"
   ]
  },
  {
   "cell_type": "code",
   "execution_count": 31,
   "metadata": {},
   "outputs": [],
   "source": [
    "\n",
    "\n",
    "saved_path = \"../data/ml_text_cleaned-txt\"\n",
    "with open(saved_path, \"w\") as file:\n",
    "    file.write(clean_text)"
   ]
  },
  {
   "cell_type": "code",
   "execution_count": 32,
   "metadata": {},
   "outputs": [],
   "source": [
    "with open(saved_path, \"a\") as file:\n",
    "    file.write(\"\\n\\nCleaned by Milton\")"
   ]
  },
  {
   "cell_type": "code",
   "execution_count": null,
   "metadata": {},
   "outputs": [],
   "source": []
  }
 ],
 "metadata": {
  "kernelspec": {
   "display_name": "venv",
   "language": "python",
   "name": "python3"
  },
  "language_info": {
   "codemirror_mode": {
    "name": "ipython",
    "version": 3
   },
   "file_extension": ".py",
   "mimetype": "text/x-python",
   "name": "python",
   "nbconvert_exporter": "python",
   "pygments_lexer": "ipython3",
   "version": "3.11.8"
  }
 },
 "nbformat": 4,
 "nbformat_minor": 2
}
