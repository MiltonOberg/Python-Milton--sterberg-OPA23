{
 "cells": [
  {
   "cell_type": "markdown",
   "metadata": {},
   "source": [
    "## OOP fundametals"
   ]
  },
  {
   "cell_type": "code",
   "execution_count": 1,
   "metadata": {},
   "outputs": [
    {
     "name": "stdout",
     "output_type": "stream",
     "text": [
      "dunder init running\n"
     ]
    },
    {
     "data": {
      "text/plain": [
       "<__main__.Antagning at 0x22398a91ad0>"
      ]
     },
     "execution_count": 1,
     "metadata": {},
     "output_type": "execute_result"
    }
   ],
   "source": [
    "class Antagning:\n",
    "    #dunder init (special method, lite som en konstruktor)\n",
    "    def __init__(self, school, program, name, accept):\n",
    "        print(\"dunder init running\")\n",
    "        self.school = school\n",
    "        self.program = program\n",
    "        self.name = name\n",
    "        self.accept = accept\n",
    "        \n",
    "\n",
    "#intsanceiated an instance from the class Antagning and assigned it to student1\n",
    "student1 = Antagning(\"Handelsakademin\", \"OOP\", \"Milton\", \"True\")\n",
    "student1\n",
    "        "
   ]
  },
  {
   "cell_type": "code",
   "execution_count": 4,
   "metadata": {},
   "outputs": [
    {
     "data": {
      "text/plain": [
       "('Milton', 'True')"
      ]
     },
     "execution_count": 4,
     "metadata": {},
     "output_type": "execute_result"
    }
   ],
   "source": [
    "student1.name, student1.accept"
   ]
  },
  {
   "cell_type": "code",
   "execution_count": 6,
   "metadata": {},
   "outputs": [
    {
     "data": {
      "text/plain": [
       "('Milton', 'AI')"
      ]
     },
     "execution_count": 6,
     "metadata": {},
     "output_type": "execute_result"
    }
   ],
   "source": [
    "student1.program = \"AI\"\n",
    "student1.name, student1.program"
   ]
  },
  {
   "cell_type": "code",
   "execution_count": 10,
   "metadata": {},
   "outputs": [
    {
     "name": "stdout",
     "output_type": "stream",
     "text": [
      "dunder init running\n"
     ]
    },
    {
     "data": {
      "text/plain": [
       "<__main__.Antagning at 0x22398e16cd0>"
      ]
     },
     "execution_count": 10,
     "metadata": {},
     "output_type": "execute_result"
    }
   ],
   "source": [
    "student2 = Antagning(\"Handelsakademin\", \"OOP\", \"Kalle\", True)\n",
    "student2"
   ]
  },
  {
   "cell_type": "code",
   "execution_count": 9,
   "metadata": {},
   "outputs": [
    {
     "name": "stdout",
     "output_type": "stream",
     "text": [
      "dunder init running\n"
     ]
    },
    {
     "data": {
      "text/plain": [
       "<__main__.Antagning at 0x22398e47f90>"
      ]
     },
     "execution_count": 9,
     "metadata": {},
     "output_type": "execute_result"
    }
   ],
   "source": [
    "student3 = Antagning(\"Handelsakademin\", \"AI\", \"Lisa\",  \"Yes\")\n",
    "student3"
   ]
  },
  {
   "cell_type": "markdown",
   "metadata": {},
   "source": [
    "## __repr__\n",
    "- dunder \"repper\" - method for representing an instance"
   ]
  },
  {
   "cell_type": "code",
   "execution_count": 13,
   "metadata": {},
   "outputs": [
    {
     "name": "stdout",
     "output_type": "stream",
     "text": [
      "dunder init running\n"
     ]
    },
    {
     "data": {
      "text/plain": [
       "<__main__.Antagning at 0x22398e168d0>"
      ]
     },
     "execution_count": 13,
     "metadata": {},
     "output_type": "execute_result"
    }
   ],
   "source": [
    "class Antagning:\n",
    "    #dunder init (special method, lite som en konstruktor)\n",
    "    def __init__(self, school, program, name, accept):\n",
    "        print(\"dunder init running\")\n",
    "        self.school = school\n",
    "        self.program = program\n",
    "        self.name = name\n",
    "        self.accept = accept\n",
    "        \n",
    "        #used for other developers and yourself\n",
    "        def __repr__(self) -> str:\n",
    "            return f\"Antegning(school = '{self.school}', program = '{self.program}', name = '{self.name}', accept = '{self.accepted}')\"\n",
    "\n",
    "student4 = Antagning(\"Handelsakademin\", \"AI\", \"Magnus\", True)\n",
    "student4\n"
   ]
  },
  {
   "cell_type": "markdown",
   "metadata": {},
   "source": [
    "## Encapsulation"
   ]
  },
  {
   "cell_type": "code",
   "execution_count": 14,
   "metadata": {},
   "outputs": [
    {
     "data": {
      "text/plain": [
       "Patient('Milton', 'dum')"
      ]
     },
     "execution_count": 14,
     "metadata": {},
     "output_type": "execute_result"
    }
   ],
   "source": [
    "class Patient:\n",
    "    def __init__(self, name, diagnosis) -> None:\n",
    "        self._name = name\n",
    "        self.__diagnosis = diagnosis\n",
    "        \n",
    "    \n",
    "    def __repr__(self):\n",
    "        return f\"Patient('{self._name}', '{self.__diagnosis}')\"\n",
    "\n",
    "patient1 = Patient(\"Milton\", \"dum\")\n",
    "patient1"
   ]
  },
  {
   "cell_type": "code",
   "execution_count": 15,
   "metadata": {},
   "outputs": [
    {
     "data": {
      "text/plain": [
       "'Milton'"
      ]
     },
     "execution_count": 15,
     "metadata": {},
     "output_type": "execute_result"
    }
   ],
   "source": [
    "#We can acces attributes, but shouldn't\n",
    "patient1._name"
   ]
  },
  {
   "cell_type": "code",
   "execution_count": 17,
   "metadata": {},
   "outputs": [
    {
     "data": {
      "text/plain": [
       "{'_name': 'Milton', '_Patient__diagnosis': 'dum'}"
      ]
     },
     "execution_count": 17,
     "metadata": {},
     "output_type": "execute_result"
    }
   ],
   "source": [
    "# då går det inte att nå den. name mangling gjjort av python\n",
    "patient1.__dict__"
   ]
  },
  {
   "cell_type": "code",
   "execution_count": 18,
   "metadata": {},
   "outputs": [
    {
     "data": {
      "text/plain": [
       "'dum'"
      ]
     },
     "execution_count": 18,
     "metadata": {},
     "output_type": "execute_result"
    }
   ],
   "source": [
    "patient1._Patient__diagnosis"
   ]
  },
  {
   "cell_type": "markdown",
   "metadata": {},
   "source": [
    "## Lager example"
   ]
  },
  {
   "cell_type": "code",
   "execution_count": 25,
   "metadata": {},
   "outputs": [
    {
     "data": {
      "text/plain": [
       "'You have 30 riksdaler and 10 skilling'"
      ]
     },
     "execution_count": 25,
     "metadata": {},
     "output_type": "execute_result"
    }
   ],
   "source": [
    "from numbers import Number\n",
    "class Oldcoinstash:\n",
    "    def __init__(self, owner) -> None:\n",
    "        self.owner = owner\n",
    "        \n",
    "        #private (_)\n",
    "        self._riksdaler = 0\n",
    "        self._skilling = 0\n",
    "        \n",
    "        \n",
    "    def deposit(self, riksdaler, skilling):\n",
    "        if not isinstance(riksdaler, Number) or not isinstance(skilling, Number):\n",
    "            raise ValueError(f\"Riksdaler and skilling needs to be a number\")\n",
    "        if riksdaler <= 0 or skilling <= 0:\n",
    "            raise ValueError(f\"Error: You tried to deposit {riksdaler} riksdaler and {skilling} skilling\")\n",
    "        \n",
    "        self._riksdaler += riksdaler\n",
    "        self._skilling += skilling\n",
    "\n",
    "    def withdraw(self, riksdaler, skilling) -> None:\n",
    "        if not isinstance(riksdaler, Number) or not isinstance(skilling, Number):\n",
    "            raise ValueError(f\"Riksdaler and skilling needs to be a number\")\n",
    "        if riksdaler <= 0 or skilling <= 0:\n",
    "            raise ValueError(f\"Error: You tried to deposit {riksdaler} riksdaler and {skilling} skilling\")\n",
    "        \n",
    "        self._riksdaler -= riksdaler\n",
    "        self._skilling -= skilling\n",
    "    \n",
    "    def Checkbalance(self): \n",
    "        return f\"You have {self._riksdaler} riksdaler and {self._skilling} skilling\"\n",
    "    \n",
    "stash1 = Oldcoinstash(\"Milton\")\n",
    "stash1.deposit(34, 12)\n",
    "stash1.Checkbalance()\n",
    "stash1.withdraw(4, 2)\n",
    "stash1.Checkbalance()\n"
   ]
  },
  {
   "cell_type": "markdown",
   "metadata": {},
   "source": [
    "## Property"
   ]
  },
  {
   "cell_type": "code",
   "execution_count": 52,
   "metadata": {},
   "outputs": [
    {
     "name": "stdout",
     "output_type": "stream",
     "text": [
      "property 'name' of 'Student' object has no setter\n",
      "Milton\n"
     ]
    },
    {
     "data": {
      "text/plain": [
       "50"
      ]
     },
     "execution_count": 52,
     "metadata": {},
     "output_type": "execute_result"
    }
   ],
   "source": [
    "from numbers import Number\n",
    "\n",
    "class Student:\n",
    "    \"\"\"Student class for representing students with name, age and active\"\"\"\n",
    "    def __init__(self, name: str, age: int, active: bool) -> None:\n",
    "        self._name = name\n",
    "        self.age = age\n",
    "        self._active = active\n",
    "        \n",
    "    @property\n",
    "    def name(self):\n",
    "        \"\"\"Read-only property cant set name\"\"\"\n",
    "        return self._name\n",
    "    \n",
    "    \n",
    "    @property\n",
    "    def age(self):\n",
    "        return self._age\n",
    "    \n",
    "    \n",
    "    @age.setter\n",
    "    def age(self, value: float):\n",
    "        \"\"\"Setter for age with error handling\"\"\"\n",
    "        if not isinstance(value, Number):\n",
    "            raise TypeError(f\"Age must be a number not '{type(value)}'\")\n",
    "        if not (0 <= value <= 125):\n",
    "            raise ValueError(f\"Age must be between 0-125\")\n",
    "        \n",
    "        self._age = value\n",
    "    \n",
    "student1 = Student(\"Milton\", 22, True)\n",
    "try:\n",
    "    student1.name = \"Kalle\"\n",
    "except AttributeError as err:\n",
    "    print(err)\n",
    "print(student1.name)\n",
    "\n",
    "student1.age = 23\n",
    "student1.age\n",
    "\n",
    "try:\n",
    "    student1.age = 126\n",
    "except ValueError as err:\n",
    "    print(err)\n",
    "    \n",
    "try:\n",
    "    student1.age = 50\n",
    "except ValueError as err:\n",
    "    print(err)\n",
    "student1.age\n"
   ]
  },
  {
   "cell_type": "code",
   "execution_count": null,
   "metadata": {},
   "outputs": [],
   "source": []
  }
 ],
 "metadata": {
  "kernelspec": {
   "display_name": "venv",
   "language": "python",
   "name": "python3"
  },
  "language_info": {
   "codemirror_mode": {
    "name": "ipython",
    "version": 3
   },
   "file_extension": ".py",
   "mimetype": "text/x-python",
   "name": "python",
   "nbconvert_exporter": "python",
   "pygments_lexer": "ipython3",
   "version": "3.11.8"
  }
 },
 "nbformat": 4,
 "nbformat_minor": 2
}
