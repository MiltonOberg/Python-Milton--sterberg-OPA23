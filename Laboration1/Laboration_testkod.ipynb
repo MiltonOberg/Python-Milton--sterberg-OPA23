{
 "cells": [
  {
   "cell_type": "code",
   "execution_count": 3,
   "metadata": {},
   "outputs": [],
   "source": [
    "from numbers import Number\n",
    "class Pikachu:\n",
    "    def __init__(self, width: float, height: float):\n",
    "        self._width = width\n",
    "        self._height = height\n",
    "        \n",
    "    def add_pikachu(self, height:int , width:int):\n",
    "        if not isinstance(height, Number) and not isinstance(width, Number):\n",
    "            raise(f\"Height and width must be a number, not '{type(height, width)}'\")\n",
    "            \n",
    "    @property\n",
    "    def height(self):\n",
    "        return self._height\n",
    "    \n",
    "    @property\n",
    "    def width(self):\n",
    "        return self._width\n",
    "\n",
    "class Pichu:\n",
    "    def __init__(self, width: float, height: float):\n",
    "        self._width = width\n",
    "        self._height = height\n",
    "        \n",
    "    def add_pichu(self, height:int , width:int):\n",
    "        if not isinstance(height, Number) and not isinstance(width, Number):\n",
    "            raise(f\"Height and width must be a number, not '{type(height, width)}'\")\n",
    "    \n",
    "    @property\n",
    "    def height(self):\n",
    "        return self._height\n",
    "    \n",
    "    @property\n",
    "    def width(self):\n",
    "        return self._width"
   ]
  },
  {
   "cell_type": "code",
   "execution_count": 5,
   "metadata": {},
   "outputs": [
    {
     "data": {
      "text/plain": [
       "(25, 10)"
      ]
     },
     "execution_count": 5,
     "metadata": {},
     "output_type": "execute_result"
    }
   ],
   "source": [
    "p = Pikachu(10, 25)\n",
    "p.height, p.width\n"
   ]
  },
  {
   "cell_type": "code",
   "execution_count": 12,
   "metadata": {},
   "outputs": [
    {
     "data": {
      "text/plain": [
       "['(width (cm), height (cm))',\n",
       " '(20.11541438766307, 28.701809671168824)',\n",
       " '(15.200086041781336, 27.095070307714877)',\n",
       " '(17.200234546952956, 27.669778220491132)',\n",
       " '(16.785685905190583, 34.36654587712494)',\n",
       " '(20.8917697133121, 31.480353852465935)',\n",
       " '(20.41359589938329, 31.091310056669883)',\n",
       " '(22.137436541638763, 26.71138648198097)',\n",
       " '(15.695510661035328, 32.291267979503495)',\n",
       " '(18.375374557482164, 26.634024937619284)',\n",
       " '(15.238377755504562, 28.794554417576478)',\n",
       " '(16.749103798428827, 34.895233506365955)',\n",
       " '(19.042842304826898, 31.399997598540928)',\n",
       " '(15.212287757470909, 30.569497437746463)',\n",
       " '(16.59070120549319, 31.846142509898748)',\n",
       " '(20.199075502236184, 33.4285192018981)',\n",
       " '(19.35953184482573, 32.75999911546245)',\n",
       " '(16.763524976325574, 27.290480719641042)',\n",
       " '(19.71412547100727, 25.321002439040377)',\n",
       " '(21.475443653422612, 28.154530480590818)',\n",
       " '(15.051990077424488, 27.67740875975703)',\n",
       " '(21.446554014662464, 27.109828435863264)',\n",
       " '(20.585115159905815, 34.429097143350546)',\n",
       " '(17.722004132143937, 33.76367626472669)',\n",
       " '(16.24383599849425, 28.14677880798478)',\n",
       " '(22.65770457765425, 31.5543866529488)',\n",
       " '(17.692756360901015, 28.95631901060664)',\n",
       " '(15.741966747041182, 34.14547589740543)',\n",
       " '(15.773731014667712, 29.588518525873987)',\n",
       " '(21.779954930779677, 27.648801664980525)',\n",
       " '(19.82980825093513, 27.466275076939834)',\n",
       " '(21.45702618619504, 30.61368134163151)',\n",
       " '(20.837854293550542, 27.627416085229353)',\n",
       " '(19.289824731637605, 30.845859902235404)',\n",
       " '(22.784926111834963, 33.97822883602477)',\n",
       " '(18.02827501766683, 28.994005051403974)',\n",
       " '(19.416325050185815, 27.193207591572833)',\n",
       " '(21.63523731402396, 34.97537606495111)',\n",
       " '(19.94815801891397, 30.095262936764644)',\n",
       " '(21.89365520248622, 25.90909412173794)',\n",
       " '(19.618817162054096, 25.471163754247346)',\n",
       " '(20.63657468971939, 26.096491303506593)',\n",
       " '(15.366595069245298, 31.2744604170309)',\n",
       " '(16.823186205212373, 32.920793643629644)',\n",
       " '(17.315103708816856, 29.22159966799684)',\n",
       " '(15.63833581538902, 25.63527706151957)',\n",
       " '(16.862327090888243, 28.816192865065368)',\n",
       " '(15.808011435277834, 34.96121380240097)',\n",
       " '(17.223788824880735, 30.29114345099137)',\n",
       " '(20.085475554115202, 34.71078377613618)',\n",
       " '(17.918657431760675, 33.60779702234498)',\n",
       " '']"
      ]
     },
     "execution_count": 12,
     "metadata": {},
     "output_type": "execute_result"
    }
   ],
   "source": [
    "stats_path = \"../data/pikachu.txt\"\n",
    "with open(stats_path, \"r\") as file:\n",
    "    pikachu_stats = file.read()\n",
    "pikachu_stats = pikachu_stats.split(\"\\n\")\n",
    "stats_path = \"../data/pichu.txt\"\n",
    "with open(stats_path, \"r\") as file:\n",
    "    pichu_stats = file.read()\n",
    "pichu_stats = pichu_stats.split(\"\\n\")\n",
    "pichu_stats\n",
    "pikachu_stats"
   ]
  },
  {
   "cell_type": "markdown",
   "metadata": {},
   "source": [
    "## Main"
   ]
  },
  {
   "cell_type": "code",
   "execution_count": null,
   "metadata": {},
   "outputs": [],
   "source": []
  }
 ],
 "metadata": {
  "kernelspec": {
   "display_name": "venv",
   "language": "python",
   "name": "python3"
  },
  "language_info": {
   "codemirror_mode": {
    "name": "ipython",
    "version": 3
   },
   "file_extension": ".py",
   "mimetype": "text/x-python",
   "name": "python",
   "nbconvert_exporter": "python",
   "pygments_lexer": "ipython3",
   "version": "3.11.8"
  }
 },
 "nbformat": 4,
 "nbformat_minor": 2
}
