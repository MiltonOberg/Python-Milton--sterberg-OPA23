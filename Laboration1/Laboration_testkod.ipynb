{
 "cells": [
  {
   "cell_type": "markdown",
   "metadata": {},
   "source": [
    "## Classes for Pikachu and Pichu"
   ]
  },
  {
   "cell_type": "code",
   "execution_count": 18,
   "metadata": {},
   "outputs": [],
   "source": [
    "from numbers import Number\n",
    "class Pikachu:\n",
    "    def __init__(self, width: float, height: float):\n",
    "        self._width = width\n",
    "        self._height = height\n",
    "        \n",
    "    def add_pikachu(self, height:float , width:float):\n",
    "        if not isinstance(height, Number) and not isinstance(width, Number):\n",
    "            raise(f\"Height and width must be a number, not '{type(height, width)}'\")\n",
    "            \n",
    "    @property\n",
    "    def height(self):\n",
    "        return self._height\n",
    "    \n",
    "    @property\n",
    "    def width(self):\n",
    "        return self._width\n",
    "\n",
    "class Pichu:\n",
    "    def __init__(self, width: float, height: float):\n",
    "        self._width = width\n",
    "        self._height = height\n",
    "        \n",
    "    def add_pichu(self, height:float , width:float):\n",
    "        if not isinstance(height, Number) and not isinstance(width, Number):\n",
    "            raise(f\"Height and width must be a number, not '{type(height, width)}'\")\n",
    "    \n",
    "    @property\n",
    "    def height(self):\n",
    "        return self._height\n",
    "    \n",
    "    @property\n",
    "    def width(self):\n",
    "        return self._width\n",
    "    "
   ]
  },
  {
   "cell_type": "markdown",
   "metadata": {},
   "source": [
    "## Fetching file and cleaning the data"
   ]
  },
  {
   "cell_type": "code",
   "execution_count": 19,
   "metadata": {},
   "outputs": [],
   "source": [
    "stats_path = \"../data/pikachu.txt\"                      #fetching file Data for Pikachu\n",
    "with open(stats_path, \"r\") as file:\n",
    "    pikachu_stats = file.read()                         #reads in file to a string\n",
    "pikachu_stats = pikachu_stats.split(\"\\n\")               #splits to every new row\n",
    "pikachu_stats = pikachu_stats[1:]                       #Taking away the first row (description)\n",
    "\n",
    "if pikachu_stats[-1] == \"\":                             #can be good incase the last row is empty, which it was\n",
    "    pikachu_stats.pop()                                 #deletes last row if it is empty tip from GPT\n",
    "pikachu_tuple = [eval(item) for item in pikachu_stats]  #using eval to take every object/row and transforming it to tuple (cordinates)\n",
    "\n",
    "pikachu_width, pikachu_height = zip(*pikachu_tuple)     #opening up tuple and transfering it over to a x, y variable\n",
    "\n",
    "stats_path = \"../data/pichu.txt\"                        #doing the same for Pichu\n",
    "with open(stats_path, \"r\") as file:\n",
    "    pichu_stats = file.read()\n",
    "pichu_stats = pichu_stats.split(\"\\n\")\n",
    "pichu_stats = pichu_stats[1:]\n",
    "\n",
    "if pichu_stats[-1] == \"\":\n",
    "    pichu_stats.pop()\n",
    "pichu_tuple = [eval(item) for item in pichu_stats]\n",
    "\n",
    "pichu_width, pichu_height = zip(*pichu_tuple)"
   ]
  },
  {
   "cell_type": "markdown",
   "metadata": {},
   "source": [
    "## Plotting Pikachu and Pichu"
   ]
  },
  {
   "cell_type": "code",
   "execution_count": 20,
   "metadata": {},
   "outputs": [
    {
     "data": {
      "text/plain": [
       "<matplotlib.legend.Legend at 0x25ed756eb90>"
      ]
     },
     "execution_count": 20,
     "metadata": {},
     "output_type": "execute_result"
    },
    {
     "data": {
      "image/png": "[encoded data removed]",
      "text/plain": [
       "<Figure size 600x600 with 1 Axes>"
      ]
     },
     "metadata": {},
     "output_type": "display_data"
    }
   ],
   "source": [
    "import matplotlib.pyplot as plt\n",
    "\n",
    "plt.figure(figsize = (6, 6))\n",
    "plt.scatter(pikachu_width, pikachu_height, color = \"blue\", label = \"Pikachu\")   #print for pinchu graf\n",
    "plt.scatter(pichu_width, pichu_height, color = \"red\", label = \"Pichu\")          #print for pichu graf\n",
    "plt.xlabel(\"Width\")\n",
    "plt.ylabel(\"Height\")\n",
    "plt.legend(loc = \"lower right\")"
   ]
  },
  {
   "cell_type": "markdown",
   "metadata": {},
   "source": [
    "## Pikachu and Pichu mean dimensions"
   ]
  },
  {
   "cell_type": "code",
   "execution_count": 21,
   "metadata": {},
   "outputs": [
    {
     "name": "stdout",
     "output_type": "stream",
     "text": [
      "Pikachu mean width: 23.945665818409296\n",
      "Pikachu mean height: 39.82285079667779\n",
      "Pichu mean width: 18.60547397404892\n",
      "Pichu mean height: 30.084542394967194\n"
     ]
    }
   ],
   "source": [
    "##Pikachu\n",
    "width_sum_pikachu = 0\n",
    "height_sum_pikachu = 0\n",
    "i = 0\n",
    "for width, height in pikachu_tuple:         #Sum pikachu dimensions\n",
    "    width_sum_pikachu += width             \n",
    "    height_sum_pikachu += height\n",
    "    i += 1\n",
    "    \n",
    "width_mean_pikachu = width_sum_pikachu / i                     #Mean calculations\n",
    "height_mean_pikachu = height_sum_pikachu / i\n",
    "\n",
    "##Pichu\n",
    "width_sum_pichu = 0\n",
    "height_sum_pichu = 0\n",
    "i = 0\n",
    "\n",
    "for width, height in pichu_tuple:\n",
    "    width_sum_pichu += width\n",
    "    height_sum_pichu += height\n",
    "    i += 1\n",
    "    \n",
    "width_mean_pichu = width_sum_pichu / i\n",
    "height_mean_pichu = height_sum_pichu / i\n",
    "\n",
    "\n",
    "print(f\"Pikachu mean width: {width_mean_pikachu}\\nPikachu mean height: {height_mean_pikachu}\")\n",
    "print(f\"Pichu mean width: {width_mean_pichu}\\nPichu mean height: {height_mean_pichu}\")"
   ]
  },
  {
   "cell_type": "markdown",
   "metadata": {},
   "source": [
    "## Adding unidentified"
   ]
  },
  {
   "cell_type": "code",
   "execution_count": 23,
   "metadata": {},
   "outputs": [
    {
     "name": "stdout",
     "output_type": "stream",
     "text": [
      "You most likly found a Pikachu!\n"
     ]
    }
   ],
   "source": [
    "import numpy as np\n",
    "unidentified_width, unidentified_height = (24, 37)\n",
    "#Formula to count distance from GPT\n",
    "unidentified_distance_pikachu = np.sqrt((width_mean_pikachu - unidentified_width)**2 + (height_mean_pikachu - unidentified_height)**2) \n",
    "unidentified_distance_pichu = np.sqrt((width_mean_pichu - unidentified_width)**2 + (height_mean_pichu - unidentified_height)**2)\n",
    "\n",
    "if unidentified_distance_pikachu < unidentified_distance_pichu:             #If Pikachu distance is smaler then Pichu's\n",
    "    print(f\"You most likly found a Pikachu!\")\n",
    "elif unidentified_distance_pichu < unidentified_distance_pikachu:           #If Pichu distance is smaler then Pikachu's\n",
    "    print(f\"You most likly found a Pichu!\")\n",
    "else:\n",
    "    print(F\"I am unshore if you found a Pikachu or Pichu...\")               #If the distance are the same"
   ]
  },
  {
   "cell_type": "markdown",
   "metadata": {},
   "source": [
    "## User interface"
   ]
  },
  {
   "cell_type": "code",
   "execution_count": 26,
   "metadata": {},
   "outputs": [
    {
     "name": "stdout",
     "output_type": "stream",
     "text": [
      "You most likly found a Pikachu!\n"
     ]
    }
   ],
   "source": [
    "unidentified_width = float(input(\"Enter width of entity: \"))\n",
    "unidentified_height = float(input(\"Enter height of entity: \"))\n",
    "\n",
    "unidentified_distance_pikachu = np.sqrt((width_mean_pikachu - unidentified_width)**2 + (height_mean_pikachu - unidentified_height)**2) \n",
    "unidentified_distance_pichu = np.sqrt((width_mean_pichu - unidentified_width)**2 + (height_mean_pichu - unidentified_height)**2)\n",
    "\n",
    "if unidentified_distance_pikachu < unidentified_distance_pichu:             #If Pikachu distance is smaler then Pichu's\n",
    "    print(f\"You most likly found a Pikachu!\")\n",
    "elif unidentified_distance_pichu < unidentified_distance_pikachu:           #If Pichu distance is smaler then Pikachu's\n",
    "    print(f\"You most likly found a Pichu!\")\n",
    "else:\n",
    "    print(F\"I am unshore if you found a Pikachu or Pichu...\")   "
   ]
  },
  {
   "cell_type": "code",
   "execution_count": null,
   "metadata": {},
   "outputs": [],
   "source": []
  }
 ],
 "metadata": {
  "kernelspec": {
   "display_name": "venv",
   "language": "python",
   "name": "python3"
  },
  "language_info": {
   "codemirror_mode": {
    "name": "ipython",
    "version": 3
   },
   "file_extension": ".py",
   "mimetype": "text/x-python",
   "name": "python",
   "nbconvert_exporter": "python",
   "pygments_lexer": "ipython3",
   "version": "3.11.8"
  }
 },
 "nbformat": 4,
 "nbformat_minor": 2
}
