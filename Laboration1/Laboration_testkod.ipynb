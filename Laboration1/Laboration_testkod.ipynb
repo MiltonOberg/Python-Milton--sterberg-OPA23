{
 "cells": [
  {
   "cell_type": "markdown",
   "metadata": {},
   "source": [
    "## Cleaning method\n"
   ]
  },
  {
   "cell_type": "code",
   "execution_count": 29,
   "metadata": {},
   "outputs": [
    {
     "data": {
      "text/plain": [
       "'def clean(stats_path):\\n    \\n    with open(stats_path, \"r\") as file:\\n        raw_stats = file.read()\\n\\n    entity_stats = [line.strip() for line in raw_stats.split(\"\\n\")]\\n    entity_stats = [re.sub(r\"[, ]\", \",\", line) for line in entity_stats]\\n    entity_stats = [re.sub(r\"[ ]{1:}\", \"\", line) for line in entity_stats]\\n    print(entity_stats)\\n    if not re.search(r\"\\\\((\\\\d+, \\\\d+)\\\\)\", entity_stats[0]):\\n        entity_stats = entity_stats[1:]                         #Taking away the first row (description) from list\\n    \\n    for line in entity_stats:\\n        if line == \"\":\\n            line.pop()\\n    \\n    _tuple = [eval(item) for item in entity_stats]          #using eval to take every object/row and transforming it to tuple (cordinates)\\n                                                                #Eval tip from teacher, further information about eval from GPT\\n    _width, _height = zip(*_tuple)                              #opening up tuple and transfering it over to a x, y variable\\n    \\n    return _width, _height'"
      ]
     },
     "execution_count": 29,
     "metadata": {},
     "output_type": "execute_result"
    }
   ],
   "source": [
    "import re                           #regular expression\n",
    "\"\"\"def clean(stats_path):\n",
    "    \n",
    "    with open(stats_path, \"r\") as file:\n",
    "        raw_stats = file.read()\n",
    "\n",
    "    entity_stats = [line.strip() for line in raw_stats.split(\"\\n\")]\n",
    "    entity_stats = [re.sub(r\"[, ]\", \",\", line) for line in entity_stats]\n",
    "    entity_stats = [re.sub(r\"[ ]{1:}\", \"\", line) for line in entity_stats]\n",
    "    print(entity_stats)\n",
    "    if not re.search(r\"\\((\\d+, \\d+)\\)\", entity_stats[0]):\n",
    "        entity_stats = entity_stats[1:]                         #Taking away the first row (description) from list\n",
    "    \n",
    "    for line in entity_stats:\n",
    "        if line == \"\":\n",
    "            line.pop()\n",
    "    \n",
    "    _tuple = [eval(item) for item in entity_stats]          #using eval to take every object/row and transforming it to tuple (cordinates)\n",
    "                                                                #Eval tip from teacher, further information about eval from GPT\n",
    "    _width, _height = zip(*_tuple)                              #opening up tuple and transfering it over to a x, y variable\n",
    "    \n",
    "    return _width, _height\"\"\""
   ]
  },
  {
   "cell_type": "markdown",
   "metadata": {},
   "source": [
    "## Fetching data/files"
   ]
  },
  {
   "cell_type": "code",
   "execution_count": 31,
   "metadata": {},
   "outputs": [
    {
     "data": {
      "text/plain": [
       "'print(f\"Pikachu width: {pikachu_width}\\nPikachu height: {pikachu_height}\\nPichu width: {pichu_width}\\nPikachu height: {pichu_height}\")\\nprint(f\"Test punkter width: {test_width}\\nTest punkter height: {test_height}\")'"
      ]
     },
     "execution_count": 31,
     "metadata": {},
     "output_type": "execute_result"
    }
   ],
   "source": []
  },
  {
   "cell_type": "markdown",
   "metadata": {},
   "source": [
    "## Fetching existing data/files"
   ]
  },
  {
   "cell_type": "code",
   "execution_count": 33,
   "metadata": {},
   "outputs": [
    {
     "data": {
      "text/plain": [
       "'print(f\"Pikachu width: {pikachu_width}\\nPikachu height: {pikachu_height}\\nPichu width: {pichu_width}\\nPikachu height: {pichu_height}\")\\nprint(f\"Test punkter width: {test_width}\\nTest punkter height: {test_height}\")'"
      ]
     },
     "execution_count": 33,
     "metadata": {},
     "output_type": "execute_result"
    }
   ],
   "source": [
    "from_file = True\n",
    "stats_path = \"../data/pikachu.txt\" \n",
    "pikachu_width, pikachu_height = clean_data(stats_path, from_file)\n",
    "\n",
    "stats_path = \"../data/pichu.txt\"\n",
    "pichu_width, pichu_height = clean_data(stats_path, from_file)\n",
    "\n",
    "stats_path = \"../Data/test_points.txt\"\n",
    "test_width, test_height = clean_data(stats_path, from_file)\n",
    "\n",
    "\"\"\"print(f\"Pikachu width: {pikachu_width}\\nPikachu height: {pikachu_height}\\nPichu width: {pichu_width}\\nPikachu height: {pichu_height}\")\n",
    "print(f\"Test punkter width: {test_width}\\nTest punkter height: {test_height}\")\"\"\""
   ]
  },
  {
   "cell_type": "markdown",
   "metadata": {},
   "source": [
    "## Fetching file and cleaning the data"
   ]
  },
  {
   "cell_type": "code",
   "execution_count": 3,
   "metadata": {},
   "outputs": [
    {
     "name": "stdout",
     "output_type": "stream",
     "text": [
      "['(20.11541438766307, 28.701809671168824)', '(15.200086041781336, 27.095070307714877)', '(17.200234546952956, 27.669778220491132)', '(16.785685905190583, 34.36654587712494)', '(20.8917697133121, 31.480353852465935)', '(20.41359589938329, 31.091310056669883)', '(22.137436541638763, 26.71138648198097)', '(15.695510661035328, 32.291267979503495)', '(18.375374557482164, 26.634024937619284)', '(15.238377755504562, 28.794554417576478)', '(16.749103798428827, 34.895233506365955)', '(19.042842304826898, 31.399997598540928)', '(15.212287757470909, 30.569497437746463)', '(16.59070120549319, 31.846142509898748)', '(20.199075502236184, 33.4285192018981)', '(19.35953184482573, 32.75999911546245)', '(16.763524976325574, 27.290480719641042)', '(19.71412547100727, 25.321002439040377)', '(21.475443653422612, 28.154530480590818)', '(15.051990077424488, 27.67740875975703)', '(21.446554014662464, 27.109828435863264)', '(20.585115159905815, 34.429097143350546)', '(17.722004132143937, 33.76367626472669)', '(16.24383599849425, 28.14677880798478)', '(22.65770457765425, 31.5543866529488)', '(17.692756360901015, 28.95631901060664)', '(15.741966747041182, 34.14547589740543)', '(15.773731014667712, 29.588518525873987)', '(21.779954930779677, 27.648801664980525)', '(19.82980825093513, 27.466275076939834)', '(21.45702618619504, 30.61368134163151)', '(20.837854293550542, 27.627416085229353)', '(19.289824731637605, 30.845859902235404)', '(22.784926111834963, 33.97822883602477)', '(18.02827501766683, 28.994005051403974)', '(19.416325050185815, 27.193207591572833)', '(21.63523731402396, 34.97537606495111)', '(19.94815801891397, 30.095262936764644)', '(21.89365520248622, 25.90909412173794)', '(19.618817162054096, 25.471163754247346)', '(20.63657468971939, 26.096491303506593)', '(15.366595069245298, 31.2744604170309)', '(16.823186205212373, 32.920793643629644)', '(17.315103708816856, 29.22159966799684)', '(15.63833581538902, 25.63527706151957)', '(16.862327090888243, 28.816192865065368)', '(15.808011435277834, 34.96121380240097)', '(17.223788824880735, 30.29114345099137)', '(20.085475554115202, 34.71078377613618)', '(17.918657431760675, 33.60779702234498)']\n",
      "(20.11541438766307, 15.200086041781336, 17.200234546952956, 16.785685905190583, 20.8917697133121, 20.41359589938329, 22.137436541638763, 15.695510661035328, 18.375374557482164, 15.238377755504562, 16.749103798428827, 19.042842304826898, 15.212287757470909, 16.59070120549319, 20.199075502236184, 19.35953184482573, 16.763524976325574, 19.71412547100727, 21.475443653422612, 15.051990077424488, 21.446554014662464, 20.585115159905815, 17.722004132143937, 16.24383599849425, 22.65770457765425, 17.692756360901015, 15.741966747041182, 15.773731014667712, 21.779954930779677, 19.82980825093513, 21.45702618619504, 20.837854293550542, 19.289824731637605, 22.784926111834963, 18.02827501766683, 19.416325050185815, 21.63523731402396, 19.94815801891397, 21.89365520248622, 19.618817162054096, 20.63657468971939, 15.366595069245298, 16.823186205212373, 17.315103708816856, 15.63833581538902, 16.862327090888243, 15.808011435277834, 17.223788824880735, 20.085475554115202, 17.918657431760675) (28.701809671168824, 27.095070307714877, 27.669778220491132, 34.36654587712494, 31.480353852465935, 31.091310056669883, 26.71138648198097, 32.291267979503495, 26.634024937619284, 28.794554417576478, 34.895233506365955, 31.399997598540928, 30.569497437746463, 31.846142509898748, 33.4285192018981, 32.75999911546245, 27.290480719641042, 25.321002439040377, 28.154530480590818, 27.67740875975703, 27.109828435863264, 34.429097143350546, 33.76367626472669, 28.14677880798478, 31.5543866529488, 28.95631901060664, 34.14547589740543, 29.588518525873987, 27.648801664980525, 27.466275076939834, 30.61368134163151, 27.627416085229353, 30.845859902235404, 33.97822883602477, 28.994005051403974, 27.193207591572833, 34.97537606495111, 30.095262936764644, 25.90909412173794, 25.471163754247346, 26.096491303506593, 31.2744604170309, 32.920793643629644, 29.22159966799684, 25.63527706151957, 28.816192865065368, 34.96121380240097, 30.29114345099137, 34.71078377613618, 33.60779702234498)\n",
      "(25, 15, 26, 22)\n"
     ]
    }
   ],
   "source": [
    "#Pikachu\n",
    "stats_path = \"../data/pikachu.txt\"                      #fetching file Data for Pikachu\n",
    "\n",
    "with open(stats_path, \"r\") as file:\n",
    "    raw_pikachu = file.read()                       \n",
    "\n",
    "pikachu_stats = raw_pikachu.split(\"\\n\")                 #Splitting string by every row and making list\n",
    "pikachu_stats = pikachu_stats[1:]                       #Taking away the first row (description) from list\n",
    "\n",
    "if pikachu_stats[-1] == \"\":                             #can be good incase the last row is empty, which it was\n",
    "    pikachu_stats.pop()                                 #deletes last row if it is empty, help from GPT\n",
    "\n",
    "pikachu_tuple = [eval(item) for item in pikachu_stats]  #using eval to take every object/row and transforming it to tuple (cordinates)\n",
    "                                                        #Eval tip from teacher, further information about eval from GPT\n",
    "pikachu_width, pikachu_height = zip(*pikachu_tuple)     #opening up tuple and transfering it over to a x, y variable\n",
    "\n",
    "\n",
    "#Pichu\n",
    "stats_path = \"../data/pichu.txt\"                        #doing the same for Pichu\n",
    "\n",
    "with open(stats_path, \"r\") as file:\n",
    "    raw_pichu = file.read()\n",
    "\n",
    "pichu_stats = raw_pichu.split(\"\\n\")\n",
    "pichu_stats = pichu_stats[1:]\n",
    "\n",
    "if pichu_stats[-1] == \"\":\n",
    "    pichu_stats.pop()\n",
    "print(pichu_stats)\n",
    "pichu_tuple = [eval(item) for item in pichu_stats]\n",
    "pichu_width, pichu_height = zip(*pichu_tuple)\n",
    "\n",
    "print(pichu_width, pichu_height)\n",
    "\n",
    "#test punkter\n",
    "stats_path = \"../Data/test_points.txt\"\n",
    "with open(stats_path, \"r\") as file:\n",
    "    testpunkter_raw = file.read()\n",
    "\n",
    "testpunkter = testpunkter_raw.replace(\", \", \",\")            #tar bort oregelbunda mellanrum\n",
    "testpunkter = testpunkter.replace(\"),(\", \"), (\")            #Makes space inbetween every cordinate\n",
    "test_list = testpunkter.split(\", \")                         #Making list splitting every \", \"\n",
    "\n",
    "\n",
    "test_tuple = [eval(item) for item in test_list]             #tuple\n",
    "test_width, test_height = zip(*test_tuple)                  \n",
    "\n",
    "print(test_width)"
   ]
  },
  {
   "cell_type": "markdown",
   "metadata": {},
   "source": [
    "## Code I used earlier to look for 1 nearest point"
   ]
  },
  {
   "cell_type": "code",
   "execution_count": null,
   "metadata": {},
   "outputs": [],
   "source": [
    "\"\"\"Methods and classes are moved to Labb1.ipynb\"\"\"\n",
    "entity_width, entity_height = clean_data(entity_dimensions, from_file= False)\n",
    "\n",
    "width_pikachu, height_pikachu = clean_data(stats_path_pikachu, from_file= True)\n",
    "width_pichu, height_pichu = clean_data(stats_path_pichu, from_file= True)\n",
    "\n",
    "width_mean_pikachu, height_mean_pikachu = mean_files(width_pikachu, height_pikachu)\n",
    "width_mean_pichu, height_mean_pichu = mean_files(width_pichu, height_pichu)\n",
    "    \n",
    "entity_distance_pikachu = np.sqrt((width_mean_pikachu - entity_width)**2 + (height_mean_pikachu - entity_height)**2) \n",
    "entity_distance_pichu = np.sqrt((width_mean_pichu - entity_width)**2 + (height_mean_pichu - entity_height)**2)\n",
    "\n",
    "if entity_distance_pikachu < entity_distance_pichu:\n",
    "    print(f\"You most likly found a Pikachu!\")\n",
    "    \n",
    "    entity = Entity(entity_width, entity_height)\n",
    "\n",
    "elif entity_distance_pichu < entity_distance_pikachu:\n",
    "    print(f\"You most likly found a Pichu!\")\n",
    "    \n",
    "    entity = Entity(entity_width, entity_height)\n",
    "\n",
    "else:\n",
    "    print(F\"I am unshore if you found a Pikachu or Pichu...\")"
   ]
  },
  {
   "cell_type": "markdown",
   "metadata": {},
   "source": [
    "## Plotting Pikachu, pichu and test"
   ]
  },
  {
   "cell_type": "code",
   "execution_count": 4,
   "metadata": {},
   "outputs": [
    {
     "data": {
      "text/plain": [
       "<matplotlib.legend.Legend at 0x233f3662f10>"
      ]
     },
     "execution_count": 4,
     "metadata": {},
     "output_type": "execute_result"
    },
    {
     "data": {
      "image/png": "[encoded data removed]",
      "text/plain": [
       "<Figure size 600x600 with 1 Axes>"
      ]
     },
     "metadata": {},
     "output_type": "display_data"
    }
   ],
   "source": [
    "import matplotlib.pyplot as plt\n",
    "\n",
    "plt.figure(figsize = (6, 6))\n",
    "plt.scatter(pikachu_width, pikachu_height, color = \"blue\", label = \"Pikachu\")   #print for pinchu graf\n",
    "plt.scatter(pichu_width, pichu_height, color = \"red\", label = \"Pichu\")          #print for pichu graf\n",
    "plt.scatter(test_width, test_height, color = \"orange\", label = \"Test punkter\")\n",
    "plt.xlabel(\"Width\")\n",
    "plt.ylabel(\"Height\")\n",
    "plt.legend(loc = \"lower right\")"
   ]
  },
  {
   "cell_type": "markdown",
   "metadata": {},
   "source": [
    "## Pikachu and Pichu mean dimensions"
   ]
  },
  {
   "cell_type": "code",
   "execution_count": 37,
   "metadata": {},
   "outputs": [
    {
     "name": "stdout",
     "output_type": "stream",
     "text": [
      "Pikachu mean width: 23.945665818409296\n",
      "Pikachu mean height: 39.82285079667779\n",
      "Pichu mean width: 18.60547397404892\n",
      "Pichu mean height: 30.084542394967194\n"
     ]
    }
   ],
   "source": [
    "\"\"\"Ide to calculate which one is closer from GPT\"\"\"\n",
    "\n",
    "##Pikachu\n",
    "width_sum_pikachu = 0\n",
    "height_sum_pikachu = 0\n",
    "i = 0\n",
    "\n",
    "for width, height in pikachu_tuple:                 #Sum of dimensions\n",
    "    width_sum_pikachu += width             \n",
    "    height_sum_pikachu += height\n",
    "    i += 1\n",
    "    \n",
    "width_mean_pikachu = width_sum_pikachu / i          #Mean calculation for pikachu\n",
    "height_mean_pikachu = height_sum_pikachu / i\n",
    "\n",
    "##Pichu\n",
    "width_sum_pichu = 0\n",
    "height_sum_pichu = 0\n",
    "i = 0\n",
    "\n",
    "for width, height in pichu_tuple:\n",
    "    width_sum_pichu += width\n",
    "    height_sum_pichu += height\n",
    "    i += 1\n",
    "    \n",
    "width_mean_pichu = width_sum_pichu / i\n",
    "height_mean_pichu = height_sum_pichu / i\n",
    "\n",
    "\n",
    "print(f\"Pikachu mean width: {width_mean_pikachu}\\nPikachu mean height: {height_mean_pikachu}\")\n",
    "print(f\"Pichu mean width: {width_mean_pichu}\\nPichu mean height: {height_mean_pichu}\")"
   ]
  },
  {
   "cell_type": "markdown",
   "metadata": {},
   "source": [
    "## Adding unidentified"
   ]
  },
  {
   "cell_type": "code",
   "execution_count": 38,
   "metadata": {},
   "outputs": [
    {
     "name": "stdout",
     "output_type": "stream",
     "text": [
      "You most likly found a Pikachu!\n"
     ]
    }
   ],
   "source": [
    "import numpy as np\n",
    "\n",
    "unidentified_width, unidentified_height = (24, 37)\n",
    "\n",
    "#Formula to count distance from GPT even though i did it it exercises...\n",
    "unidentified_distance_pikachu = np.sqrt((width_mean_pikachu - unidentified_width)**2 + (height_mean_pikachu - unidentified_height)**2) \n",
    "unidentified_distance_pichu = np.sqrt((width_mean_pichu - unidentified_width)**2 + (height_mean_pichu - unidentified_height)**2)\n",
    "\n",
    "if unidentified_distance_pikachu < unidentified_distance_pichu:             #If Pikachu distance is smaler then Pichu's\n",
    "    print(f\"You most likly found a Pikachu!\")\n",
    "\n",
    "elif unidentified_distance_pichu < unidentified_distance_pikachu:           #If Pichu distance is smaler then Pikachu's\n",
    "    print(f\"You most likly found a Pichu!\")\n",
    "\n",
    "else:\n",
    "    print(F\"I am unshore if you found a Pikachu or Pichu...\")               #If the distance are the same"
   ]
  },
  {
   "cell_type": "markdown",
   "metadata": {},
   "source": [
    "## User interface"
   ]
  },
  {
   "cell_type": "code",
   "execution_count": null,
   "metadata": {},
   "outputs": [],
   "source": [
    "\n",
    "\n"
   ]
  },
  {
   "cell_type": "markdown",
   "metadata": {},
   "source": [
    "## Plotting entity find"
   ]
  },
  {
   "cell_type": "code",
   "execution_count": 39,
   "metadata": {},
   "outputs": [
    {
     "ename": "NameError",
     "evalue": "name 'entity' is not defined",
     "output_type": "error",
     "traceback": [
      "\u001b[1;31m---------------------------------------------------------------------------\u001b[0m",
      "\u001b[1;31mNameError\u001b[0m                                 Traceback (most recent call last)",
      "Cell \u001b[1;32mIn[39], line 7\u001b[0m\n\u001b[0;32m      5\u001b[0m plt\u001b[38;5;241m.\u001b[39mscatter(pikachu_width, pikachu_height, color \u001b[38;5;241m=\u001b[39m \u001b[38;5;124m\"\u001b[39m\u001b[38;5;124mblue\u001b[39m\u001b[38;5;124m\"\u001b[39m, label \u001b[38;5;241m=\u001b[39m \u001b[38;5;124m\"\u001b[39m\u001b[38;5;124mPikachu\u001b[39m\u001b[38;5;124m\"\u001b[39m)   \u001b[38;5;66;03m#print for pinchu graf\u001b[39;00m\n\u001b[0;32m      6\u001b[0m plt\u001b[38;5;241m.\u001b[39mscatter(pichu_width, pichu_height, color \u001b[38;5;241m=\u001b[39m \u001b[38;5;124m\"\u001b[39m\u001b[38;5;124mred\u001b[39m\u001b[38;5;124m\"\u001b[39m, label \u001b[38;5;241m=\u001b[39m \u001b[38;5;124m\"\u001b[39m\u001b[38;5;124mPichu\u001b[39m\u001b[38;5;124m\"\u001b[39m)          \u001b[38;5;66;03m#print for pichu graf\u001b[39;00m\n\u001b[1;32m----> 7\u001b[0m plt\u001b[38;5;241m.\u001b[39mscatter(\u001b[43mentity\u001b[49m\u001b[38;5;241m.\u001b[39mwidth, entity\u001b[38;5;241m.\u001b[39mheight, color \u001b[38;5;241m=\u001b[39m \u001b[38;5;124m\"\u001b[39m\u001b[38;5;124mgreen\u001b[39m\u001b[38;5;124m\"\u001b[39m, label \u001b[38;5;241m=\u001b[39m \u001b[38;5;124m\"\u001b[39m\u001b[38;5;124mYour find\u001b[39m\u001b[38;5;124m\"\u001b[39m)\n\u001b[0;32m      8\u001b[0m plt\u001b[38;5;241m.\u001b[39mxlabel(\u001b[38;5;124m\"\u001b[39m\u001b[38;5;124mWidth\u001b[39m\u001b[38;5;124m\"\u001b[39m)\n\u001b[0;32m      9\u001b[0m plt\u001b[38;5;241m.\u001b[39mylabel(\u001b[38;5;124m\"\u001b[39m\u001b[38;5;124mHeight\u001b[39m\u001b[38;5;124m\"\u001b[39m)\n",
      "\u001b[1;31mNameError\u001b[0m: name 'entity' is not defined"
     ]
    },
    {
     "data": {
      "image/png": "[encoded data removed]",
      "text/plain": [
       "<Figure size 600x600 with 1 Axes>"
      ]
     },
     "metadata": {},
     "output_type": "display_data"
    }
   ],
   "source": [
    "import matplotlib.pyplot as plt\n",
    "\"\"\"Help from exercises\"\"\"   ## kanske en en if(om det var pkachu eller pichu så går den över till rätt objekt)\n",
    "                            ## En egen metod som jag slänger in i plotting metoden\n",
    "plt.figure(figsize = (6, 6))\n",
    "plt.scatter(pikachu_width, pikachu_height, color = \"blue\", label = \"Pikachu\")   #print for pinchu graf\n",
    "plt.scatter(pichu_width, pichu_height, color = \"red\", label = \"Pichu\")          #print for pichu graf\n",
    "plt.scatter(entity.width, entity.height, color = \"green\", label = \"Your find\")\n",
    "plt.xlabel(\"Width\")\n",
    "plt.ylabel(\"Height\")\n",
    "plt.legend(loc = \"lower right\")"
   ]
  },
  {
   "cell_type": "code",
   "execution_count": null,
   "metadata": {},
   "outputs": [],
   "source": []
  }
 ],
 "metadata": {
  "kernelspec": {
   "display_name": "venv",
   "language": "python",
   "name": "python3"
  },
  "language_info": {
   "codemirror_mode": {
    "name": "ipython",
    "version": 3
   },
   "file_extension": ".py",
   "mimetype": "text/x-python",
   "name": "python",
   "nbconvert_exporter": "python",
   "pygments_lexer": "ipython3",
   "version": "3.11.8"
  }
 },
 "nbformat": 4,
 "nbformat_minor": 2
}
