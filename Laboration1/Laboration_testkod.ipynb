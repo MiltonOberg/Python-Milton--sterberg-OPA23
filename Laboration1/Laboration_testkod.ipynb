{
 "cells": [
  {
   "cell_type": "markdown",
   "metadata": {},
   "source": [
    "## Classes for Pikachu and Pichu"
   ]
  },
  {
   "cell_type": "code",
   "execution_count": 2,
   "metadata": {},
   "outputs": [],
   "source": [
    "from numbers import Number\n",
    "\n",
    "class Pikachu:\n",
    "    def __init__(self, width: float, height: float):\n",
    "        self._width = width\n",
    "        self._height = height\n",
    "        \n",
    "    def add_pikachu(self, height:float , width:float):\n",
    "        if not isinstance(height, Number) and not isinstance(width, Number):\n",
    "            raise(f\"Height and width must be a number, not '{type(height, width)}'\")\n",
    "            \n",
    "    @property\n",
    "    def height(self):\n",
    "        return self._height\n",
    "    \n",
    "    @property\n",
    "    def width(self):\n",
    "        return self._width\n",
    "\n",
    "class Pichu:\n",
    "    def __init__(self, width: float, height: float):\n",
    "        self._width = width\n",
    "        self._height = height\n",
    "        \n",
    "    def add_pichu(self, height:float , width:float):\n",
    "        if not isinstance(height, Number) and not isinstance(width, Number):\n",
    "            raise(f\"Height and width must be a number, not '{type(height, width)}'\")\n",
    "    \n",
    "    @property\n",
    "    def height(self):\n",
    "        return self._height\n",
    "    \n",
    "    @property\n",
    "    def width(self):\n",
    "        return self._width\n",
    "    \n",
    "class Entity:\n",
    "    def __init__(self, width: float, height: float):\n",
    "        self._width = width\n",
    "        self._height = height\n",
    "    \n",
    "    def add_pichu(self, height:float , width:float):\n",
    "        if not isinstance(height, Number) and not isinstance(width, Number):\n",
    "            raise(f\"Height and width must be a number, not '{type(height, width)}'\")\n",
    "    \n",
    "    @property\n",
    "    def height(self):\n",
    "        return self._height\n",
    "    \n",
    "    @property\n",
    "    def width(self):\n",
    "        return self._width\n",
    "    "
   ]
  },
  {
   "cell_type": "markdown",
   "metadata": {},
   "source": [
    "## Cleaning method\n"
   ]
  },
  {
   "cell_type": "code",
   "execution_count": 3,
   "metadata": {},
   "outputs": [
    {
     "data": {
      "text/plain": [
       "'def clean(stats_path):\\n    \\n    with open(stats_path, \"r\") as file:\\n        raw_stats = file.read()\\n\\n    entity_stats = [line.strip() for line in raw_stats.split(\"\\n\")]\\n    entity_stats = [re.sub(r\"[, ]\", \",\", line) for line in entity_stats]\\n    entity_stats = [re.sub(r\"[ ]{1:}\", \"\", line) for line in entity_stats]\\n    print(entity_stats)\\n    if not re.search(r\"\\\\((\\\\d+, \\\\d+)\\\\)\", entity_stats[0]):\\n        entity_stats = entity_stats[1:]                         #Taking away the first row (description) from list\\n    \\n    for line in entity_stats:\\n        if line == \"\":\\n            line.pop()\\n    \\n    _tuple = [eval(item) for item in entity_stats]          #using eval to take every object/row and transforming it to tuple (cordinates)\\n                                                                #Eval tip from teacher, further information about eval from GPT\\n    _width, _height = zip(*_tuple)                              #opening up tuple and transfering it over to a x, y variable\\n    \\n    return _width, _height'"
      ]
     },
     "execution_count": 3,
     "metadata": {},
     "output_type": "execute_result"
    }
   ],
   "source": [
    "import re                           #regular expression\n",
    "\"\"\"def clean(stats_path):\n",
    "    \n",
    "    with open(stats_path, \"r\") as file:\n",
    "        raw_stats = file.read()\n",
    "\n",
    "    entity_stats = [line.strip() for line in raw_stats.split(\"\\n\")]\n",
    "    entity_stats = [re.sub(r\"[, ]\", \",\", line) for line in entity_stats]\n",
    "    entity_stats = [re.sub(r\"[ ]{1:}\", \"\", line) for line in entity_stats]\n",
    "    print(entity_stats)\n",
    "    if not re.search(r\"\\((\\d+, \\d+)\\)\", entity_stats[0]):\n",
    "        entity_stats = entity_stats[1:]                         #Taking away the first row (description) from list\n",
    "    \n",
    "    for line in entity_stats:\n",
    "        if line == \"\":\n",
    "            line.pop()\n",
    "    \n",
    "    _tuple = [eval(item) for item in entity_stats]          #using eval to take every object/row and transforming it to tuple (cordinates)\n",
    "                                                                #Eval tip from teacher, further information about eval from GPT\n",
    "    _width, _height = zip(*_tuple)                              #opening up tuple and transfering it over to a x, y variable\n",
    "    \n",
    "    return _width, _height\"\"\""
   ]
  },
  {
   "cell_type": "code",
   "execution_count": 4,
   "metadata": {},
   "outputs": [],
   "source": [
    "import re\n",
    "import numpy as np\n",
    "def clean_data(stats_path, from_file):\n",
    "    if from_file:\n",
    "        with open(stats_path, \"r\") as file:\n",
    "            raw_stats = file.read()\n",
    "    else:\n",
    "        raw_stats = stats_path\n",
    "    \n",
    "    nospace_dimentions = re.sub(r\"[ ]{1,}\", \"\", raw_stats)\n",
    "    dimentions = re.sub(r\"[\\n]\", \",\", nospace_dimentions)\n",
    "    \n",
    "    dimentions = dimentions.split(\"),(\")\n",
    "    dimentions =  [x.strip(\"()\") for x in dimentions]\n",
    "    \n",
    "    pattern = re.compile(r\"^-?\\d+(\\.\\d+)?,-?\\d+(\\.\\d+)?$\")\n",
    "    clean_dimensions = [x for x in dimentions if pattern.match(x)]\n",
    "    \n",
    "    cordinates = [eval(cordinate) for cordinate in clean_dimensions]\n",
    "    _width, _height = zip(*cordinates)\n",
    "    width = np.mean(_width)\n",
    "    height = np.mean(_height)\n",
    "    return width, height"
   ]
  },
  {
   "cell_type": "markdown",
   "metadata": {},
   "source": [
    "## Read in existing data"
   ]
  },
  {
   "cell_type": "code",
   "execution_count": 5,
   "metadata": {},
   "outputs": [],
   "source": [
    "stats_path_pikachu = \"../data/pikachu.txt\"\n",
    "\n",
    "stats_path_pichu = \"../data/pichu.txt\""
   ]
  },
  {
   "cell_type": "markdown",
   "metadata": {},
   "source": [
    "## User Interface"
   ]
  },
  {
   "cell_type": "code",
   "execution_count": 6,
   "metadata": {},
   "outputs": [],
   "source": [
    "def ui_console():\n",
    "    import numpy as np\n",
    "    \n",
    "    from_file = False\n",
    "    entity_width = float(input(\"Enter width of entity: \"))\n",
    "    entity_height = float(input(\"Enter height of entity: \"))\n",
    "    entity_dimensions = (f\"({entity_width}, {entity_height})\")\n",
    "    entity_width, entity_height = clean_data(entity_dimensions, from_file)\n",
    "    \n",
    "    from_file = True\n",
    "    width_mean_pikachu, height_mean_pikachu = clean_data(stats_path_pikachu, from_file)\n",
    "    width_mean_pichu, height_mean_pichu = clean_data(stats_path_pichu, from_file)\n",
    "        \n",
    "    entity_distance_pikachu = np.sqrt((width_mean_pikachu - entity_width)**2 + (height_mean_pikachu - entity_height)**2) \n",
    "    entity_distance_pichu = np.sqrt((width_mean_pichu - entity_width)**2 + (height_mean_pichu - entity_height)**2)\n",
    "\n",
    "    if entity_distance_pikachu < entity_distance_pichu:\n",
    "        print(f\"You most likly found a Pikachu!\")\n",
    "        entity = Entity(entity_width, entity_height)\n",
    "\n",
    "    elif entity_distance_pichu < entity_distance_pikachu:\n",
    "        print(f\"You most likly found a Pichu!\")\n",
    "        entity = Entity(entity_width, entity_height)\n",
    "\n",
    "    else:\n",
    "        print(F\"I am unshore if you found a Pikachu or Pichu...\")\n",
    "    \n",
    "    return entity.width, entity.height"
   ]
  },
  {
   "cell_type": "code",
   "execution_count": 7,
   "metadata": {},
   "outputs": [
    {
     "data": {
      "text/plain": [
       "'print(f\"Pikachu width: {pikachu_width}\\nPikachu height: {pikachu_height}\\nPichu width: {pichu_width}\\nPikachu height: {pichu_height}\")\\nprint(f\"Test punkter width: {test_width}\\nTest punkter height: {test_height}\")'"
      ]
     },
     "execution_count": 7,
     "metadata": {},
     "output_type": "execute_result"
    }
   ],
   "source": [
    "from_file = True\n",
    "stats_path = \"../data/pikachu.txt\" \n",
    "pikachu_width, pikachu_height = clean_data(stats_path, from_file)\n",
    "\n",
    "stats_path = \"../data/pichu.txt\"\n",
    "pichu_width, pichu_height = clean_data(stats_path, from_file)\n",
    "\n",
    "stats_path = \"../Data/test_points.txt\"\n",
    "test_width, test_height = clean_data(stats_path, from_file)\n",
    "\n",
    "\"\"\"print(f\"Pikachu width: {pikachu_width}\\nPikachu height: {pikachu_height}\\nPichu width: {pichu_width}\\nPikachu height: {pichu_height}\")\n",
    "print(f\"Test punkter width: {test_width}\\nTest punkter height: {test_height}\")\"\"\""
   ]
  },
  {
   "cell_type": "markdown",
   "metadata": {},
   "source": [
    "## Plott method"
   ]
  },
  {
   "cell_type": "code",
   "execution_count": 14,
   "metadata": {},
   "outputs": [
    {
     "name": "stdout",
     "output_type": "stream",
     "text": [
      "You most likly found a Pikachu!\n"
     ]
    },
    {
     "data": {
      "text/plain": [
       "<matplotlib.legend.Legend at 0x1d635226090>"
      ]
     },
     "execution_count": 14,
     "metadata": {},
     "output_type": "execute_result"
    },
    {
     "data": {
      "image/png": "[encoded data removed]",
      "text/plain": [
       "<Figure size 600x600 with 1 Axes>"
      ]
     },
     "metadata": {},
     "output_type": "display_data"
    }
   ],
   "source": [
    "import matplotlib.pyplot as plt\n",
    "\n",
    "entity_width, entity_height = ui_console()\n",
    "\n",
    "plt.figure(figsize = (6, 6))\n",
    "plt.scatter(pikachu_width, pikachu_height, color = \"red\", label = \"Pikachu's\")\n",
    "plt.scatter(pichu_width, pichu_height, color = \"blue\", label = \"Pichu's\")\n",
    "plt.scatter(test_width, test_height, color = \"green\", label = \"Test punkter\")\n",
    "plt.scatter(entity_width, entity_height, color = \"black\", label = \"Your find\")\n",
    "plt.legend(loc = \"lower right\")"
   ]
  },
  {
   "cell_type": "markdown",
   "metadata": {},
   "source": [
    "## Fetching file and cleaning the data"
   ]
  },
  {
   "cell_type": "code",
   "execution_count": 9,
   "metadata": {},
   "outputs": [
    {
     "name": "stdout",
     "output_type": "stream",
     "text": [
      "(25, 15, 26, 22) (35, 14, 30, 45)\n"
     ]
    }
   ],
   "source": [
    "#Pikachu\n",
    "stats_path = \"../data/pikachu.txt\"                      #fetching file Data for Pikachu\n",
    "\n",
    "with open(stats_path, \"r\") as file:\n",
    "    raw_pikachu = file.read()                       \n",
    "\n",
    "pikachu_stats = raw_pikachu.split(\"\\n\")                 #Splitting string by every row and making list\n",
    "pikachu_stats = pikachu_stats[1:]                       #Taking away the first row (description) from list\n",
    "\n",
    "if pikachu_stats[-1] == \"\":                             #can be good incase the last row is empty, which it was\n",
    "    pikachu_stats.pop()                                 #deletes last row if it is empty, help from GPT\n",
    "\n",
    "pikachu_tuple = [eval(item) for item in pikachu_stats]  #using eval to take every object/row and transforming it to tuple (cordinates)\n",
    "                                                        #Eval tip from teacher, further information about eval from GPT\n",
    "pikachu_width, pikachu_height = zip(*pikachu_tuple)     #opening up tuple and transfering it over to a x, y variable\n",
    "\n",
    "\n",
    "#Pichu\n",
    "stats_path = \"../data/pichu.txt\"                        #doing the same for Pichu\n",
    "\n",
    "with open(stats_path, \"r\") as file:\n",
    "    raw_pichu = file.read()\n",
    "\n",
    "pichu_stats = raw_pichu.split(\"\\n\")\n",
    "pichu_stats = pichu_stats[1:]\n",
    "\n",
    "if pichu_stats[-1] == \"\":\n",
    "    pichu_stats.pop()\n",
    "\n",
    "pichu_tuple = [eval(item) for item in pichu_stats]\n",
    "pichu_width, pichu_height = zip(*pichu_tuple)\n",
    "\n",
    "\n",
    "#test punkter\n",
    "stats_path = \"../Data/test_points.txt\"\n",
    "with open(stats_path, \"r\") as file:\n",
    "    testpunkter_raw = file.read()\n",
    "\n",
    "testpunkter = testpunkter_raw.replace(\", \", \",\")            #tar bort oregelbunda mellanrum\n",
    "testpunkter = testpunkter.replace(\"),(\", \"), (\")            #Makes space inbetween every cordinate\n",
    "test_list = testpunkter.split(\", \")                         #Making list splitting every \", \"\n",
    "\n",
    "\n",
    "test_tuple = [eval(item) for item in test_list]             #tuple\n",
    "test_width, test_height = zip(*test_tuple)                  \n",
    "\n",
    "print(test_width, test_height)"
   ]
  },
  {
   "cell_type": "markdown",
   "metadata": {},
   "source": [
    "## Plotting Pikachu, pichu and test"
   ]
  },
  {
   "cell_type": "code",
   "execution_count": 10,
   "metadata": {},
   "outputs": [
    {
     "data": {
      "text/plain": [
       "<matplotlib.legend.Legend at 0x1d632fbe090>"
      ]
     },
     "execution_count": 10,
     "metadata": {},
     "output_type": "execute_result"
    },
    {
     "data": {
      "image/png": "[encoded data removed]",
      "text/plain": [
       "<Figure size 600x600 with 1 Axes>"
      ]
     },
     "metadata": {},
     "output_type": "display_data"
    }
   ],
   "source": [
    "import matplotlib.pyplot as plt\n",
    "\n",
    "plt.figure(figsize = (6, 6))\n",
    "plt.scatter(pikachu_width, pikachu_height, color = \"blue\", label = \"Pikachu\")   #print for pinchu graf\n",
    "plt.scatter(pichu_width, pichu_height, color = \"red\", label = \"Pichu\")          #print for pichu graf\n",
    "plt.scatter(test_width, test_height, color = \"orange\", label = \"Test punkter\")\n",
    "plt.xlabel(\"Width\")\n",
    "plt.ylabel(\"Height\")\n",
    "plt.legend(loc = \"lower right\")"
   ]
  },
  {
   "cell_type": "markdown",
   "metadata": {},
   "source": [
    "## Pikachu and Pichu mean dimensions"
   ]
  },
  {
   "cell_type": "code",
   "execution_count": 11,
   "metadata": {},
   "outputs": [
    {
     "name": "stdout",
     "output_type": "stream",
     "text": [
      "Pikachu mean width: 23.945665818409296\n",
      "Pikachu mean height: 39.82285079667779\n",
      "Pichu mean width: 18.60547397404892\n",
      "Pichu mean height: 30.084542394967194\n"
     ]
    }
   ],
   "source": [
    "\"\"\"Ide to calculate which one is closer from GPT\"\"\"\n",
    "\n",
    "##Pikachu\n",
    "width_sum_pikachu = 0\n",
    "height_sum_pikachu = 0\n",
    "i = 0\n",
    "\n",
    "for width, height in pikachu_tuple:                 #Sum of dimensions\n",
    "    width_sum_pikachu += width             \n",
    "    height_sum_pikachu += height\n",
    "    i += 1\n",
    "    \n",
    "width_mean_pikachu = width_sum_pikachu / i          #Mean calculation for pikachu\n",
    "height_mean_pikachu = height_sum_pikachu / i\n",
    "\n",
    "##Pichu\n",
    "width_sum_pichu = 0\n",
    "height_sum_pichu = 0\n",
    "i = 0\n",
    "\n",
    "for width, height in pichu_tuple:\n",
    "    width_sum_pichu += width\n",
    "    height_sum_pichu += height\n",
    "    i += 1\n",
    "    \n",
    "width_mean_pichu = width_sum_pichu / i\n",
    "height_mean_pichu = height_sum_pichu / i\n",
    "\n",
    "\n",
    "print(f\"Pikachu mean width: {width_mean_pikachu}\\nPikachu mean height: {height_mean_pikachu}\")\n",
    "print(f\"Pichu mean width: {width_mean_pichu}\\nPichu mean height: {height_mean_pichu}\")"
   ]
  },
  {
   "cell_type": "markdown",
   "metadata": {},
   "source": [
    "## Adding unidentified"
   ]
  },
  {
   "cell_type": "code",
   "execution_count": 12,
   "metadata": {},
   "outputs": [
    {
     "name": "stdout",
     "output_type": "stream",
     "text": [
      "You most likly found a Pikachu!\n"
     ]
    }
   ],
   "source": [
    "import numpy as np\n",
    "\n",
    "unidentified_width, unidentified_height = (24, 37)\n",
    "\n",
    "#Formula to count distance from GPT even though i did it it exercises...\n",
    "unidentified_distance_pikachu = np.sqrt((width_mean_pikachu - unidentified_width)**2 + (height_mean_pikachu - unidentified_height)**2) \n",
    "unidentified_distance_pichu = np.sqrt((width_mean_pichu - unidentified_width)**2 + (height_mean_pichu - unidentified_height)**2)\n",
    "\n",
    "if unidentified_distance_pikachu < unidentified_distance_pichu:             #If Pikachu distance is smaler then Pichu's\n",
    "    print(f\"You most likly found a Pikachu!\")\n",
    "\n",
    "elif unidentified_distance_pichu < unidentified_distance_pikachu:           #If Pichu distance is smaler then Pikachu's\n",
    "    print(f\"You most likly found a Pichu!\")\n",
    "\n",
    "else:\n",
    "    print(F\"I am unshore if you found a Pikachu or Pichu...\")               #If the distance are the same"
   ]
  },
  {
   "cell_type": "markdown",
   "metadata": {},
   "source": [
    "## User interface"
   ]
  },
  {
   "cell_type": "code",
   "execution_count": null,
   "metadata": {},
   "outputs": [],
   "source": [
    "\n",
    "\n"
   ]
  },
  {
   "cell_type": "markdown",
   "metadata": {},
   "source": [
    "## Plotting entity find"
   ]
  },
  {
   "cell_type": "code",
   "execution_count": 13,
   "metadata": {},
   "outputs": [
    {
     "ename": "NameError",
     "evalue": "name 'entity' is not defined",
     "output_type": "error",
     "traceback": [
      "\u001b[1;31m---------------------------------------------------------------------------\u001b[0m",
      "\u001b[1;31mNameError\u001b[0m                                 Traceback (most recent call last)",
      "Cell \u001b[1;32mIn[13], line 7\u001b[0m\n\u001b[0;32m      5\u001b[0m plt\u001b[38;5;241m.\u001b[39mscatter(pikachu_width, pikachu_height, color \u001b[38;5;241m=\u001b[39m \u001b[38;5;124m\"\u001b[39m\u001b[38;5;124mblue\u001b[39m\u001b[38;5;124m\"\u001b[39m, label \u001b[38;5;241m=\u001b[39m \u001b[38;5;124m\"\u001b[39m\u001b[38;5;124mPikachu\u001b[39m\u001b[38;5;124m\"\u001b[39m)   \u001b[38;5;66;03m#print for pinchu graf\u001b[39;00m\n\u001b[0;32m      6\u001b[0m plt\u001b[38;5;241m.\u001b[39mscatter(pichu_width, pichu_height, color \u001b[38;5;241m=\u001b[39m \u001b[38;5;124m\"\u001b[39m\u001b[38;5;124mred\u001b[39m\u001b[38;5;124m\"\u001b[39m, label \u001b[38;5;241m=\u001b[39m \u001b[38;5;124m\"\u001b[39m\u001b[38;5;124mPichu\u001b[39m\u001b[38;5;124m\"\u001b[39m)          \u001b[38;5;66;03m#print for pichu graf\u001b[39;00m\n\u001b[1;32m----> 7\u001b[0m plt\u001b[38;5;241m.\u001b[39mscatter(\u001b[43mentity\u001b[49m\u001b[38;5;241m.\u001b[39mwidth, entity\u001b[38;5;241m.\u001b[39mheight, color \u001b[38;5;241m=\u001b[39m \u001b[38;5;124m\"\u001b[39m\u001b[38;5;124mgreen\u001b[39m\u001b[38;5;124m\"\u001b[39m, label \u001b[38;5;241m=\u001b[39m \u001b[38;5;124m\"\u001b[39m\u001b[38;5;124mYour find\u001b[39m\u001b[38;5;124m\"\u001b[39m)\n\u001b[0;32m      8\u001b[0m plt\u001b[38;5;241m.\u001b[39mxlabel(\u001b[38;5;124m\"\u001b[39m\u001b[38;5;124mWidth\u001b[39m\u001b[38;5;124m\"\u001b[39m)\n\u001b[0;32m      9\u001b[0m plt\u001b[38;5;241m.\u001b[39mylabel(\u001b[38;5;124m\"\u001b[39m\u001b[38;5;124mHeight\u001b[39m\u001b[38;5;124m\"\u001b[39m)\n",
      "\u001b[1;31mNameError\u001b[0m: name 'entity' is not defined"
     ]
    },
    {
     "data": {
      "image/png": "[encoded data removed]",
      "text/plain": [
       "<Figure size 600x600 with 1 Axes>"
      ]
     },
     "metadata": {},
     "output_type": "display_data"
    }
   ],
   "source": [
    "import matplotlib.pyplot as plt\n",
    "\"\"\"Help from exercises\"\"\"   ## kanske en en if(om det var pkachu eller pichu så går den över till rätt objekt)\n",
    "                            ## En egen metod som jag slänger in i plotting metoden\n",
    "plt.figure(figsize = (6, 6))\n",
    "plt.scatter(pikachu_width, pikachu_height, color = \"blue\", label = \"Pikachu\")   #print for pinchu graf\n",
    "plt.scatter(pichu_width, pichu_height, color = \"red\", label = \"Pichu\")          #print for pichu graf\n",
    "plt.scatter(entity.width, entity.height, color = \"green\", label = \"Your find\")\n",
    "plt.xlabel(\"Width\")\n",
    "plt.ylabel(\"Height\")\n",
    "plt.legend(loc = \"lower right\")"
   ]
  },
  {
   "cell_type": "code",
   "execution_count": null,
   "metadata": {},
   "outputs": [],
   "source": []
  }
 ],
 "metadata": {
  "kernelspec": {
   "display_name": "venv",
   "language": "python",
   "name": "python3"
  },
  "language_info": {
   "codemirror_mode": {
    "name": "ipython",
    "version": 3
   },
   "file_extension": ".py",
   "mimetype": "text/x-python",
   "name": "python",
   "nbconvert_exporter": "python",
   "pygments_lexer": "ipython3",
   "version": "3.11.8"
  }
 },
 "nbformat": 4,
 "nbformat_minor": 2
}
