{
 "cells": [
  {
   "cell_type": "markdown",
   "metadata": {},
   "source": [
    "## Classes for Pikachu and Pichu"
   ]
  },
  {
   "cell_type": "code",
   "execution_count": 3,
   "metadata": {},
   "outputs": [],
   "source": [
    "from numbers import Number\n",
    "class Pikachu:\n",
    "    def __init__(self, width: float, height: float):\n",
    "        self._width = width\n",
    "        self._height = height\n",
    "        \n",
    "    def add_pikachu(self, height:int , width:int):\n",
    "        if not isinstance(height, Number) and not isinstance(width, Number):\n",
    "            raise(f\"Height and width must be a number, not '{type(height, width)}'\")\n",
    "            \n",
    "    @property\n",
    "    def height(self):\n",
    "        return self._height\n",
    "    \n",
    "    @property\n",
    "    def width(self):\n",
    "        return self._width\n",
    "\n",
    "class Pichu:\n",
    "    def __init__(self, width: float, height: float):\n",
    "        self._width = width\n",
    "        self._height = height\n",
    "        \n",
    "    def add_pichu(self, height:int , width:int):\n",
    "        if not isinstance(height, Number) and not isinstance(width, Number):\n",
    "            raise(f\"Height and width must be a number, not '{type(height, width)}'\")\n",
    "    \n",
    "    @property\n",
    "    def height(self):\n",
    "        return self._height\n",
    "    \n",
    "    @property\n",
    "    def width(self):\n",
    "        return self._width\n",
    "    "
   ]
  },
  {
   "cell_type": "markdown",
   "metadata": {},
   "source": [
    "## Fetching file and cleaning the data"
   ]
  },
  {
   "cell_type": "code",
   "execution_count": null,
   "metadata": {},
   "outputs": [],
   "source": [
    "stats_path = \"../data/pikachu.txt\"                      #fetching file Data for Pikachu\n",
    "with open(stats_path, \"r\") as file:\n",
    "    pikachu_stats = file.read()                         #reads in file to a string\n",
    "pikachu_stats = pikachu_stats.split(\"\\n\")               #splits to every new row\n",
    "pikachu_stats = pikachu_stats[1:]                       #Taking away the first row (description)\n",
    "\n",
    "if pikachu_stats[-1] == \"\":                             #can be good incase the last row is empty, which it was\n",
    "    pikachu_stats.pop()                                 #deletes last row if it is empty tip from GPT\n",
    "pikachu_tuple = [eval(item) for item in pikachu_stats]  #using eval to take every object/row and transforming it to tuple (cordinates)\n",
    "\n",
    "pikachu_width, pikachu_height = zip(*pikachu_tuple)     #opening up tuple and transfering it over to a x, y variable\n",
    "\n",
    "stats_path = \"../data/pichu.txt\"                        #doing the same for Pichu\n",
    "with open(stats_path, \"r\") as file:\n",
    "    pichu_stats = file.read()\n",
    "pichu_stats = pichu_stats.split(\"\\n\")\n",
    "pichu_stats = pichu_stats[1:]\n",
    "\n",
    "if pichu_stats[-1] == \"\":\n",
    "    pichu_stats.pop()\n",
    "pichu_tuple = [eval(item) for item in pichu_stats]\n",
    "\n",
    "pichu_width, pichu_height = zip(*pichu_tuple)"
   ]
  },
  {
   "cell_type": "markdown",
   "metadata": {},
   "source": [
    "## Plotting Pikachu and Pichu"
   ]
  },
  {
   "cell_type": "code",
   "execution_count": 41,
   "metadata": {},
   "outputs": [
    {
     "data": {
      "text/plain": [
       "<matplotlib.legend.Legend at 0x2093d0cc790>"
      ]
     },
     "execution_count": 41,
     "metadata": {},
     "output_type": "execute_result"
    },
    {
     "data": {
      "image/png": "[encoded data removed]",
      "text/plain": [
       "<Figure size 640x480 with 1 Axes>"
      ]
     },
     "metadata": {},
     "output_type": "display_data"
    }
   ],
   "source": [
    "import matplotlib.pyplot as plt\n",
    "\n",
    "plt.scatter(pikachu_width, pikachu_height, color = \"blue\", label = \"Pikachu\") #print for pinchu graf\n",
    "plt.scatter(pichu_width, pichu_height, color = \"red\", label = \"Pichu\") #print for pichu graf\n",
    "plt.legend(loc = \"lower right\")"
   ]
  },
  {
   "cell_type": "markdown",
   "metadata": {},
   "source": [
    "## Main"
   ]
  },
  {
   "cell_type": "code",
   "execution_count": null,
   "metadata": {},
   "outputs": [],
   "source": []
  }
 ],
 "metadata": {
  "kernelspec": {
   "display_name": "venv",
   "language": "python",
   "name": "python3"
  },
  "language_info": {
   "codemirror_mode": {
    "name": "ipython",
    "version": 3
   },
   "file_extension": ".py",
   "mimetype": "text/x-python",
   "name": "python",
   "nbconvert_exporter": "python",
   "pygments_lexer": "ipython3",
   "version": "3.11.8"
  }
 },
 "nbformat": 4,
 "nbformat_minor": 2
}
