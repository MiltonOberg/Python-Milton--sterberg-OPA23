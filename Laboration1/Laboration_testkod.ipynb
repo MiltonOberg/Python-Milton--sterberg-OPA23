{
 "cells": [
  {
   "cell_type": "code",
   "execution_count": 3,
   "metadata": {},
   "outputs": [],
   "source": [
    "from numbers import Number\n",
    "class Pikachu:\n",
    "    def __init__(self, width: float, height: float):\n",
    "        self._width = width\n",
    "        self._height = height\n",
    "        \n",
    "    def add_pikachu(self, height:int , width:int):\n",
    "        if not isinstance(height, Number) and not isinstance(width, Number):\n",
    "            raise(f\"Height and width must be a number, not '{type(height, width)}'\")\n",
    "            \n",
    "    @property\n",
    "    def height(self):\n",
    "        return self._height\n",
    "    \n",
    "    @property\n",
    "    def width(self):\n",
    "        return self._width\n",
    "\n",
    "class Pichu:\n",
    "    def __init__(self, width: float, height: float):\n",
    "        self._width = width\n",
    "        self._height = height\n",
    "        \n",
    "    def add_pichu(self, height:int , width:int):\n",
    "        if not isinstance(height, Number) and not isinstance(width, Number):\n",
    "            raise(f\"Height and width must be a number, not '{type(height, width)}'\")\n",
    "    \n",
    "    @property\n",
    "    def height(self):\n",
    "        return self._height\n",
    "    \n",
    "    @property\n",
    "    def width(self):\n",
    "        return self._width"
   ]
  },
  {
   "cell_type": "code",
   "execution_count": 5,
   "metadata": {},
   "outputs": [
    {
     "data": {
      "text/plain": [
       "(25, 10)"
      ]
     },
     "execution_count": 5,
     "metadata": {},
     "output_type": "execute_result"
    }
   ],
   "source": [
    "p = Pikachu(10, 25)\n",
    "p.height, p.width\n"
   ]
  },
  {
   "cell_type": "code",
   "execution_count": 28,
   "metadata": {},
   "outputs": [
    {
     "data": {
      "text/plain": [
       "[(18.137772263313835, 44.951493566608946),\n",
       " (26.648661832322336, 41.49878057639454),\n",
       " (26.180524428318897, 39.38100083914504),\n",
       " (24.44364396490554, 40.175758410355904),\n",
       " (21.201902279430513, 36.21004195868266),\n",
       " (25.691541582957697, 37.24697337031557),\n",
       " (19.338626083150515, 38.38085562147455),\n",
       " (23.21718300802926, 40.88308718457233),\n",
       " (23.444684475950478, 37.30114732596577),\n",
       " (29.445791130252964, 37.20217384451559),\n",
       " (28.51023528453833, 35.709930860090324),\n",
       " (21.16066860901309, 41.31102957270099),\n",
       " (24.00703335660358, 37.28941783811155),\n",
       " (20.143822566361578, 44.054200130061275),\n",
       " (28.951534072137846, 43.59635400253747),\n",
       " (28.4462228380412, 35.70857349888654),\n",
       " (21.581337497383593, 37.380046343689955),\n",
       " (25.66739393839206, 41.68977778296281),\n",
       " (25.30764253725807, 37.14236807370439),\n",
       " (19.834071222595618, 36.32311848725025),\n",
       " (27.150129600901813, 44.35514240580671),\n",
       " (24.472548361435507, 40.710430933252844),\n",
       " (27.3435177435667, 39.726710263117944),\n",
       " (24.36424406634213, 42.846194242907536),\n",
       " (18.006862753535323, 43.074969977666434),\n",
       " (21.889872684056076, 36.90409914361878),\n",
       " (18.233720908629987, 35.969308142288234),\n",
       " (29.149183395175406, 39.310511824063774),\n",
       " (28.54466253387821, 39.23578623019921),\n",
       " (27.97998635233415, 39.67024668036675),\n",
       " (21.690169504831935, 42.290758494598506),\n",
       " (18.69510199793025, 41.73364547293301),\n",
       " (28.536115190448484, 44.84165211365966),\n",
       " (29.36339334357593, 35.98417871151959),\n",
       " (19.027841424814547, 39.02621282102269),\n",
       " (23.831885559799368, 38.39302605394963),\n",
       " (18.830550221620605, 43.61672536352791),\n",
       " (27.12722598308678, 37.48656333920286),\n",
       " (27.190013151683853, 36.90208908440812),\n",
       " (19.540697573997154, 39.48613547833132),\n",
       " (23.703388537184775, 39.21881639834404),\n",
       " (24.597643121939328, 37.785451446669406),\n",
       " (21.18067954728071, 37.49806447882101),\n",
       " (28.46919649302309, 44.23265599276013),\n",
       " (23.077655282410642, 39.43130745053457),\n",
       " (20.541578465304983, 43.613491047618304),\n",
       " (24.4715530653535, 40.50325312449848),\n",
       " (26.759172829079716, 35.505883295248815),\n",
       " (20.41381276067635, 44.992824684127264),\n",
       " (21.74059549561074, 43.36027585079952)]"
      ]
     },
     "execution_count": 28,
     "metadata": {},
     "output_type": "execute_result"
    }
   ],
   "source": [
    "import numpy as np\n",
    "import re\n",
    "stats_path = \"../data/pikachu.txt\"\n",
    "with open(stats_path, \"r\") as file:\n",
    "    pikachu_stats = file.read()\n",
    "pikachu_stats = pikachu_stats.split(\"\\n\")\n",
    "\n",
    "\n",
    "stats_path = \"../data/pichu.txt\"\n",
    "with open(stats_path, \"r\") as file:\n",
    "    pichu_stats = file.read()\n",
    "pichu_stats = pichu_stats.split(\"\\n\")\n",
    "\n",
    "pikachu_stats = pikachu_stats[1:]\n",
    "\n",
    "if pikachu_stats[-1] == \"\":\n",
    "    pikachu_stats.pop()\n",
    "pikachu_tuple = [eval(item) for item in pikachu_stats]\n",
    "pikachu_tuple\n"
   ]
  },
  {
   "cell_type": "markdown",
   "metadata": {},
   "source": [
    "## Main"
   ]
  },
  {
   "cell_type": "code",
   "execution_count": null,
   "metadata": {},
   "outputs": [],
   "source": []
  }
 ],
 "metadata": {
  "kernelspec": {
   "display_name": "venv",
   "language": "python",
   "name": "python3"
  },
  "language_info": {
   "codemirror_mode": {
    "name": "ipython",
    "version": 3
   },
   "file_extension": ".py",
   "mimetype": "text/x-python",
   "name": "python",
   "nbconvert_exporter": "python",
   "pygments_lexer": "ipython3",
   "version": "3.11.8"
  }
 },
 "nbformat": 4,
 "nbformat_minor": 2
}
