{
 "cells": [
  {
   "cell_type": "code",
   "execution_count": 1,
   "metadata": {},
   "outputs": [],
   "source": [
    "from numbers import Number\n",
    "import re\n",
    "import numpy as np\n",
    "import matplotlib.pyplot as plt"
   ]
  },
  {
   "cell_type": "markdown",
   "metadata": {},
   "source": [
    "## Mean Pikachu and Pichu"
   ]
  },
  {
   "cell_type": "code",
   "execution_count": 2,
   "metadata": {},
   "outputs": [],
   "source": [
    "def mean_files(_width, _height):\n",
    "    mean_width = np.mean(_width)\n",
    "    mean_height = np.mean(_height)\n",
    "    return mean_width, mean_height"
   ]
  },
  {
   "cell_type": "markdown",
   "metadata": {},
   "source": [
    "## Knn Method"
   ]
  },
  {
   "cell_type": "code",
   "execution_count": 3,
   "metadata": {},
   "outputs": [],
   "source": [
    "def euclidean(a, b):\n",
    "    \"\"\"New method to calculate euclidean with 2D and iD\"\"\"      #Help with idea and formula from GPT\n",
    "    distances = np.sqrt(np.sum((a - b) ** 2, axis=1))\n",
    "    return distances\n",
    "\n",
    "def knn(labels, pika_pich, entity_dimensions):\n",
    "    \"\"\"K nearest neighbors\"\"\"\n",
    "    distances = euclidean(pika_pich, entity_dimensions)         #Using method above\n",
    "    nn_5 = np.argsort(distances)[:5]                            #Sorts out nearest 5(k)\n",
    "    nn_labels = labels[nn_5]                                    #Gets labels from nearest 5                                \n",
    "    return nn_labels\n"
   ]
  },
  {
   "cell_type": "markdown",
   "metadata": {},
   "source": [
    "## Classes for UnknownEntity, Pikachu and pichu"
   ]
  },
  {
   "cell_type": "code",
   "execution_count": 4,
   "metadata": {},
   "outputs": [],
   "source": [
    "class Pikachu:\n",
    "    \"\"\"classes for the users find, Pikachu and Pichu\"\"\"\n",
    "    def __init__(self, width: float, height: float):                                    #contructor\", whats sets when making an instance.\n",
    "        self._width = width\n",
    "        self._height = height\n",
    "        \n",
    "    def add_pikachu(self, height:float , width:float):\n",
    "        if not isinstance(height, Number) and not isinstance(width, Number):            #if input is anything nut numbers error message\n",
    "            raise(f\"Height and width must be a number, not '{type(height, width)}'\")\n",
    "            \n",
    "    @property                                                                           #property to use height instead of the private _height\n",
    "    def height(self):\n",
    "        return self._height\n",
    "    \n",
    "    @property                                                                            #property to use height instead of the private _weight\n",
    "    def width(self):\n",
    "        return self._width\n",
    "\n",
    "class Pichu:\n",
    "    def __init__(self, width: float, height: float):\n",
    "        self._width = width\n",
    "        self._height = height\n",
    "        \n",
    "    def add_pichu(self, height:float , width:float):\n",
    "        if not isinstance(height, Number) and not isinstance(width, Number):\n",
    "            raise(f\"Height and width must be a number, not '{type(height, width)}'\")\n",
    "    @property\n",
    "    def height(self):\n",
    "        return self._height                                                            \n",
    "    \n",
    "    @property\n",
    "    def width(self):\n",
    "        return self._width\n",
    "    \n",
    "class Entity:\n",
    "    def __init__(self, width: float, height: float):\n",
    "        self.width = width\n",
    "        self.height = height\n",
    "    \n",
    "    @property\n",
    "    def height(self):\n",
    "        return self._height\n",
    "    \n",
    "    @property\n",
    "    def width(self):\n",
    "        return self._width\n",
    "    \n",
    "    @height.setter\n",
    "    def height(self, value: float):\n",
    "        if not isinstance(value, Number):\n",
    "            raise ValueError(f\"Height must be a number, not {type(value)}\")\n",
    "        self._height = value\n",
    "    \n",
    "    @width.setter\n",
    "    def width(self, value: float):\n",
    "        if not isinstance(value, Number):\n",
    "            raise ValueError(f\"Width must be a number, not {type(value)}\")\n",
    "        self._width = value"
   ]
  },
  {
   "cell_type": "markdown",
   "metadata": {},
   "source": [
    "## Cleaning data method"
   ]
  },
  {
   "cell_type": "code",
   "execution_count": 5,
   "metadata": {},
   "outputs": [],
   "source": [
    "def clean_data(stats_path, from_file):\n",
    "    \"\"\"Method to clean data from files or from ex. input\"\"\"\n",
    "    if from_file:\n",
    "        with open(stats_path, \"r\") as file:                             #Reads in files to a string if it is a file we want data from\n",
    "            raw_stats = file.read()\n",
    "    else:\n",
    "        raw_stats = stats_path                                          #if input, raw stats is automaticlly the stats_path/input\n",
    "    \n",
    "    nospace_dimentions = re.sub(r\"[ ]{1,}\", \"\", raw_stats)              #Replacing underscore with \"\"\n",
    "    dimentions = re.sub(r\"[\\n]\", \",\", nospace_dimentions)               #Replacing \\n with ,\n",
    "    \n",
    "    dimentions = dimentions.split(\"),(\")                                #Splitting by unessecary ),(\n",
    "    dimentions =  [x.strip(\"()\") for x in dimentions]\n",
    "                                                                        #   Regex for pattern (number.(if needed, number.(if needed)))\n",
    "    pattern = re.compile(r\"^\\d+(\\.\\d+)?,\\d+(\\.\\d+)?$\")                  #   ^ indicates it's the start of string  $ end of string  Regex reserch GPT\n",
    "    clean_dimensions = [x for x in dimentions if pattern.match(x)]      #   Cleanng the data so it matches the pattern\n",
    "                                                                        #   (Takes away anything that's not cordinates)\n",
    "    \n",
    "    \n",
    "    cordinates = [eval(cordinate) for cordinate in clean_dimensions]    #Making string into tuples to be able to calculate them\n",
    "    _width, _height = zip(*cordinates)                                  #unzips tuple to x, y       Idea from teacher and further reserch\n",
    "    \n",
    "    return _width, _height"
   ]
  },
  {
   "cell_type": "markdown",
   "metadata": {},
   "source": [
    "## Fetching files and cleaning"
   ]
  },
  {
   "cell_type": "code",
   "execution_count": 6,
   "metadata": {},
   "outputs": [
    {
     "data": {
      "text/plain": [
       "'print(f\"Pikachu width: {pikachu_width}\\nPikachu height: {pikachu_height}\\nPichu width: {pichu_width}\\nPikachu height: {pichu_height}\")\\nprint(f\"Test punkter width: {test_width}\\nTest punkter height: {test_height}\")'"
      ]
     },
     "execution_count": 6,
     "metadata": {},
     "output_type": "execute_result"
    }
   ],
   "source": [
    "stats_path_pikachu = \"../data/pikachu.txt\" \n",
    "pikachu_width, pikachu_height = clean_data(stats_path_pikachu, from_file= True)\n",
    "\n",
    "stats_path_pichu = \"../data/pichu.txt\"\n",
    "pichu_width, pichu_height = clean_data(stats_path_pichu, from_file= True)\n",
    "\n",
    "stats_path = \"../Data/test_points.txt\"\n",
    "test_width, test_height = clean_data(stats_path, from_file= True)\n",
    "\n",
    "\"\"\"print(f\"Pikachu width: {pikachu_width}\\nPikachu height: {pikachu_height}\\nPichu width: {pichu_width}\\nPikachu height: {pichu_height}\")\n",
    "print(f\"Test punkter width: {test_width}\\nTest punkter height: {test_height}\")\"\"\""
   ]
  },
  {
   "cell_type": "markdown",
   "metadata": {},
   "source": [
    "## User Interface"
   ]
  },
  {
   "cell_type": "code",
   "execution_count": 7,
   "metadata": {},
   "outputs": [],
   "source": [
    "def ui_console():\n",
    "    \"\"\"UI for putting in users unknown find, has not gotten to SRP.\"\"\"\n",
    "    while True:                                                         #Error handling for input, only numbers\n",
    "        try:\n",
    "            input_width = float(input(\"Enter width of entity: \"))\n",
    "            input_height = float(input(\"Enter height of entity: \"))\n",
    "            entity = Entity(input_width, input_height)\n",
    "            break\n",
    "        except ValueError:\n",
    "            print(f\"Invalid: only numbers are accepted\")\n",
    "    \n",
    "    entity_dimensions = (f\"({entity.width}, {entity.height})\")\n",
    "    entity_width, entity_height = clean_data(entity_dimensions, from_file= False)       #Cleans input, incase of misinput\n",
    "    \n",
    "    pikachu_label = np.zeros(len(pikachu_height), dtype=int)        #labeling pika and pichu to 1, 0\n",
    "    pichu_label = np.ones(len(pichu_height), dtype=int)\n",
    "\n",
    "    labels = np.concatenate((pikachu_label, pichu_label))           #\"zipping\" together into numpy array               \n",
    "    pika_pich = np.concatenate((                                    #\"zipping\" together and seperates them, first pika, then Pichu\n",
    "        np.column_stack((pikachu_width, pikachu_height)), \n",
    "        np.column_stack((pichu_width, pichu_height))\n",
    "        ))\n",
    "    \n",
    "    entity_dimensions = np.concatenate((np.column_stack((entity_width, entity_height))))\n",
    "    \n",
    "\n",
    "    nn_labels = knn(labels, pika_pich, entity_dimensions)            #My KNN method for getting the first 5 nearest labels from pika and michu to entity\n",
    "    sum_pikachu = np.sum(nn_labels== 0)                              #Checks how many is 0/Pika\n",
    "    sum_pichu = 5 - sum_pikachu                                      #And Checks how many 1/Pichu\n",
    "\n",
    "    if(sum_pikachu > sum_pichu):\n",
    "        print(f\"Looks like your found a Pikachu!\")\n",
    "    else:                                                           #Decides what is most possible\n",
    "        print(f\"Looks like your found a Pichu!\")\n",
    "    print(f\"pikachu: {sum_pikachu}\\nPichu: {sum_pichu}\")\n",
    "    \n",
    "    return entity_width, entity_height"
   ]
  },
  {
   "cell_type": "markdown",
   "metadata": {},
   "source": [
    "## Plotting     /    Main"
   ]
  },
  {
   "cell_type": "code",
   "execution_count": 8,
   "metadata": {},
   "outputs": [
    {
     "name": "stdout",
     "output_type": "stream",
     "text": [
      "Looks like your found a Pikachu!\n",
      "pikachu: 5\n",
      "Pichu: 0\n"
     ]
    },
    {
     "data": {
      "text/plain": [
       "<matplotlib.legend.Legend at 0x12bf90e9750>"
      ]
     },
     "execution_count": 8,
     "metadata": {},
     "output_type": "execute_result"
    },
    {
     "data": {
      "image/png": "[encoded data removed]",
      "text/plain": [
       "<Figure size 600x600 with 1 Axes>"
      ]
     },
     "metadata": {},
     "output_type": "display_data"
    }
   ],
   "source": [
    "find_width, find_height = ui_console()                                          #Hole program is in UI right now...\n",
    "\n",
    "plt.figure(figsize = (6, 6))\n",
    "plt.scatter(pikachu_width, pikachu_height, color = \"red\", label = \"Pikachu's\")\n",
    "plt.scatter(pichu_width, pichu_height, color = \"blue\", label = \"Pichu's\")\n",
    "plt.scatter(test_width, test_height, color = \"green\", label = \"Test punkter\")\n",
    "plt.scatter(find_width, find_height, color = \"black\", label = \"Your find\")\n",
    "plt.xlabel(\"Width\")\n",
    "plt.ylabel(\"Height\")\n",
    "plt.legend(loc = \"lower right\")"
   ]
  }
 ],
 "metadata": {
  "kernelspec": {
   "display_name": "venv",
   "language": "python",
   "name": "python3"
  },
  "language_info": {
   "codemirror_mode": {
    "name": "ipython",
    "version": 3
   },
   "file_extension": ".py",
   "mimetype": "text/x-python",
   "name": "python",
   "nbconvert_exporter": "python",
   "pygments_lexer": "ipython3",
   "version": "3.11.7"
  }
 },
 "nbformat": 4,
 "nbformat_minor": 2
}
