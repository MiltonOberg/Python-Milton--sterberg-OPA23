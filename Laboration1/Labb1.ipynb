{
 "cells": [
  {
   "cell_type": "markdown",
   "metadata": {},
   "source": [
    "## Mean Pikachu and Pichu"
   ]
  },
  {
   "cell_type": "code",
   "execution_count": 198,
   "metadata": {},
   "outputs": [],
   "source": [
    "import numpy as np\n",
    "def mean_files(_width, _height):\n",
    "    mean_width = np.mean(_width)\n",
    "    mean_height = np.mean(_height)\n",
    "    return mean_width, mean_height"
   ]
  },
  {
   "cell_type": "markdown",
   "metadata": {},
   "source": [
    "## Knn Method"
   ]
  },
  {
   "cell_type": "code",
   "execution_count": 199,
   "metadata": {},
   "outputs": [],
   "source": [
    "def euclidean(a, b):\n",
    "    distances = np.sqrt(np.sum((a - b) ** 2, axis=1))\n",
    "    return distances\n",
    "\n",
    "def knn(labels, pika_pich, entity_dimensions):\n",
    "    distances = euclidean(pika_pich, entity_dimensions)\n",
    "    nn_id = np.argsort(distances)[:5]\n",
    "    nn_labels = labels[nn_id]\n",
    "    return nn_labels\n"
   ]
  },
  {
   "cell_type": "markdown",
   "metadata": {},
   "source": [
    "## Classes for UnknownEntity, Pikachu and pichu"
   ]
  },
  {
   "cell_type": "code",
   "execution_count": 200,
   "metadata": {},
   "outputs": [],
   "source": [
    "from numbers import Number\n",
    "\"\"\"Förklaring på metoder\"\"\"\n",
    "class Pikachu:\n",
    "    def __init__(self, width: float, height: float):\n",
    "        self._width = width\n",
    "        self._height = height\n",
    "        \n",
    "    def add_pikachu(self, height:float , width:float):\n",
    "        if not isinstance(height, Number) and not isinstance(width, Number):            #Kommentarer\n",
    "            raise(f\"Height and width must be a number, not '{type(height, width)}'\")\n",
    "            \n",
    "    @property\n",
    "    def height(self):\n",
    "        return self._height\n",
    "    \n",
    "    @property\n",
    "    def width(self):\n",
    "        return self._width\n",
    "\n",
    "class Pichu:\n",
    "    def __init__(self, width: float, height: float):\n",
    "        self._width = width\n",
    "        self._height = height\n",
    "        \n",
    "    def add_pichu(self, height:float , width:float):\n",
    "        if not isinstance(height, Number) and not isinstance(width, Number):\n",
    "            raise(f\"Height and width must be a number, not '{type(height, width)}'\")\n",
    "    @property\n",
    "    def height(self):\n",
    "        return self._height\n",
    "    \n",
    "    @property\n",
    "    def width(self):\n",
    "        return self._width\n",
    "    \n",
    "class Entity:\n",
    "    def __init__(self, width: float, height: float):\n",
    "        self._width = width\n",
    "        self._height = height\n",
    "    \n",
    "    def add_pichu(self, height:float , width:float):\n",
    "        if not isinstance(height, Number) and not isinstance(width, Number):\n",
    "            raise(f\"Height and width must be a number, not '{type(height, width)}'\")\n",
    "    \n",
    "    @property\n",
    "    def height(self):\n",
    "        return self._height\n",
    "    \n",
    "    @property\n",
    "    def width(self):\n",
    "        return self._width"
   ]
  },
  {
   "cell_type": "markdown",
   "metadata": {},
   "source": [
    "## Cleaning data method"
   ]
  },
  {
   "cell_type": "code",
   "execution_count": 201,
   "metadata": {},
   "outputs": [],
   "source": [
    "import re\n",
    "import numpy as np\n",
    "\n",
    "def clean_data(stats_path, from_file):\n",
    "    if from_file:\n",
    "        with open(stats_path, \"r\") as file:\n",
    "            raw_stats = file.read()\n",
    "    else:\n",
    "        raw_stats = stats_path\n",
    "    \n",
    "    nospace_dimentions = re.sub(r\"[ ]{1,}\", \"\", raw_stats)\n",
    "    dimentions = re.sub(r\"[\\n]\", \",\", nospace_dimentions)\n",
    "    \n",
    "    dimentions = dimentions.split(\"),(\")\n",
    "    dimentions =  [x.strip(\"()\") for x in dimentions]\n",
    "    \n",
    "    pattern = re.compile(r\"^\\d+(\\.\\d+)?,\\d+(\\.\\d+)?$\")\n",
    "    clean_dimensions = [x for x in dimentions if pattern.match(x)]\n",
    "    \n",
    "    cordinates = [eval(cordinate) for cordinate in clean_dimensions]\n",
    "    _width, _height = zip(*cordinates)\n",
    "    \n",
    "    return _width, _height"
   ]
  },
  {
   "cell_type": "markdown",
   "metadata": {},
   "source": [
    "## Fetching data/files"
   ]
  },
  {
   "cell_type": "code",
   "execution_count": 202,
   "metadata": {},
   "outputs": [
    {
     "data": {
      "text/plain": [
       "'print(f\"Pikachu width: {pikachu_width}\\nPikachu height: {pikachu_height}\\nPichu width: {pichu_width}\\nPikachu height: {pichu_height}\")\\nprint(f\"Test punkter width: {test_width}\\nTest punkter height: {test_height}\")'"
      ]
     },
     "execution_count": 202,
     "metadata": {},
     "output_type": "execute_result"
    }
   ],
   "source": [
    "from_file = True\n",
    "stats_path_pikachu = \"../data/pikachu.txt\" \n",
    "pikachu_width, pikachu_height = clean_data(stats_path_pikachu, from_file)\n",
    "\n",
    "stats_path_pichu = \"../data/pichu.txt\"\n",
    "pichu_width, pichu_height = clean_data(stats_path_pichu, from_file)\n",
    "\n",
    "stats_path = \"../Data/test_points.txt\"\n",
    "test_width, test_height = clean_data(stats_path, from_file)\n",
    "\n",
    "\"\"\"print(f\"Pikachu width: {pikachu_width}\\nPikachu height: {pikachu_height}\\nPichu width: {pichu_width}\\nPikachu height: {pichu_height}\")\n",
    "print(f\"Test punkter width: {test_width}\\nTest punkter height: {test_height}\")\"\"\""
   ]
  },
  {
   "cell_type": "markdown",
   "metadata": {},
   "source": [
    "## User Interface"
   ]
  },
  {
   "cell_type": "code",
   "execution_count": 203,
   "metadata": {},
   "outputs": [],
   "source": [
    "def ui_console():\n",
    "    import numpy as np\n",
    "    \n",
    "\n",
    "    entity_width = float(input(\"Enter width of entity: \"))\n",
    "    entity_height = float(input(\"Enter height of entity: \"))\n",
    "    entity_dimensions = (f\"({entity_width}, {entity_height})\")\n",
    "    pikachu_label = np.zeros(len(pikachu_height), dtype=int)\n",
    "    pichu_label = np.ones(len(pichu_height), dtype=int)\n",
    "\n",
    "    labels = np.concatenate((pikachu_label, pichu_label))\n",
    "\n",
    "    entity_dimensions = np.concatenate((np.column_stack((entity_width, entity_height))))\n",
    "    pika_pich = np.concatenate((\n",
    "        np.column_stack((pikachu_width, pikachu_height)), \n",
    "        np.column_stack((pichu_width, pichu_height))\n",
    "        ))\n",
    "\n",
    "    nn_labels = knn(labels, pika_pich, entity_dimensions)\n",
    "    sum_pikachu = np.sum(nn_labels== 0)\n",
    "    sum_pichu = np.sum(nn_labels== 1)\n",
    "\n",
    "    if(sum_pikachu > sum_pichu):\n",
    "        print(f\"Looks like your found a Pikachu!\")\n",
    "    else:\n",
    "        print(f\"Looks like your found a Pichu!\")\n",
    "    print(f\"pikachu: {sum_pikachu}\\nPichu: {sum_pichu}\")\n",
    "    \n",
    "        \n",
    "    \"\"\"entity_width, entity_height = clean_data(entity_dimensions, from_file= False)\n",
    "    \n",
    "    \n",
    "    width_pikachu, height_pikachu = clean_data(stats_path_pikachu, from_file= True)\n",
    "    width_pichu, height_pichu = clean_data(stats_path_pichu, from_file= True)\n",
    "    \n",
    "    width_mean_pikachu, height_mean_pikachu = mean_files(width_pikachu, height_pikachu)\n",
    "    width_mean_pichu, height_mean_pichu = mean_files(width_pichu, height_pichu)\n",
    "        \n",
    "    entity_distance_pikachu = np.sqrt((width_mean_pikachu - entity_width)**2 + (height_mean_pikachu - entity_height)**2) \n",
    "    entity_distance_pichu = np.sqrt((width_mean_pichu - entity_width)**2 + (height_mean_pichu - entity_height)**2)\n",
    "\n",
    "    if entity_distance_pikachu < entity_distance_pichu:\n",
    "        print(f\"You most likly found a Pikachu!\")\n",
    "        \n",
    "        entity = Entity(entity_width, entity_height)\n",
    "\n",
    "    elif entity_distance_pichu < entity_distance_pikachu:\n",
    "        print(f\"You most likly found a Pichu!\")\n",
    "        \n",
    "        entity = Entity(entity_width, entity_height)\n",
    "\n",
    "    else:\n",
    "        print(F\"I am unshore if you found a Pikachu or Pichu...\")\n",
    "    \"\"\"\n",
    "    return entity_width, entity_height"
   ]
  },
  {
   "cell_type": "markdown",
   "metadata": {},
   "source": [
    "## Plotting "
   ]
  },
  {
   "cell_type": "code",
   "execution_count": 204,
   "metadata": {},
   "outputs": [
    {
     "name": "stdout",
     "output_type": "stream",
     "text": [
      "Looks like your found a Pichu!\n",
      "pikachu: 2\n",
      "Pichu: 3\n"
     ]
    },
    {
     "data": {
      "text/plain": [
       "<matplotlib.legend.Legend at 0x15b79b89a50>"
      ]
     },
     "execution_count": 204,
     "metadata": {},
     "output_type": "execute_result"
    },
    {
     "data": {
      "image/png": "[encoded data removed]",
      "text/plain": [
       "<Figure size 600x600 with 1 Axes>"
      ]
     },
     "metadata": {},
     "output_type": "display_data"
    }
   ],
   "source": [
    "import matplotlib.pyplot as plt\n",
    "\n",
    "\n",
    "entity_width, entity_height = ui_console()\n",
    "\n",
    "plt.figure(figsize = (6, 6))\n",
    "plt.scatter(pikachu_width, pikachu_height, color = \"red\", label = \"Pikachu's\")\n",
    "plt.scatter(pichu_width, pichu_height, color = \"blue\", label = \"Pichu's\")\n",
    "plt.scatter(test_width, test_height, color = \"green\", label = \"Test punkter\")\n",
    "plt.scatter(entity_width, entity_height, color = \"black\", label = \"Your find\")\n",
    "plt.xlabel(\"Width\")\n",
    "plt.ylabel(\"Height\")\n",
    "plt.legend(loc = \"lower right\")"
   ]
  }
 ],
 "metadata": {
  "kernelspec": {
   "display_name": "venv",
   "language": "python",
   "name": "python3"
  },
  "language_info": {
   "codemirror_mode": {
    "name": "ipython",
    "version": 3
   },
   "file_extension": ".py",
   "mimetype": "text/x-python",
   "name": "python",
   "nbconvert_exporter": "python",
   "pygments_lexer": "ipython3",
   "version": "3.11.8"
  }
 },
 "nbformat": 4,
 "nbformat_minor": 2
}
