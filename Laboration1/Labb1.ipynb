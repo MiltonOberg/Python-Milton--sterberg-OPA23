{
 "cells": [
  {
   "cell_type": "markdown",
   "metadata": {},
   "source": [
    "## Mean Pikachu and Pichu"
   ]
  },
  {
   "cell_type": "code",
   "execution_count": 100,
   "metadata": {},
   "outputs": [],
   "source": [
    "import numpy as np\n",
    "def mean_files(_width, _height):\n",
    "    mean_width = np.mean(_width)\n",
    "    mean_height = np.mean(_height)\n",
    "    return mean_width, mean_height"
   ]
  },
  {
   "cell_type": "markdown",
   "metadata": {},
   "source": [
    "## Classes for UnknownEntity, Pikachu and pichu"
   ]
  },
  {
   "cell_type": "code",
   "execution_count": 101,
   "metadata": {},
   "outputs": [],
   "source": [
    "from numbers import Number\n",
    "\"\"\"Förklaring på metoder\"\"\"\n",
    "class Pikachu:\n",
    "    def __init__(self, width: float, height: float):\n",
    "        self._width = width\n",
    "        self._height = height\n",
    "        \n",
    "    def add_pikachu(self, height:float , width:float):\n",
    "        if not isinstance(height, Number) and not isinstance(width, Number):            #Kommentarer\n",
    "            raise(f\"Height and width must be a number, not '{type(height, width)}'\")\n",
    "            \n",
    "    @property\n",
    "    def height(self):\n",
    "        return self._height\n",
    "    \n",
    "    @property\n",
    "    def width(self):\n",
    "        return self._width\n",
    "\n",
    "class Pichu:\n",
    "    def __init__(self, width: float, height: float):\n",
    "        self._width = width\n",
    "        self._height = height\n",
    "        \n",
    "    def add_pichu(self, height:float , width:float):\n",
    "        if not isinstance(height, Number) and not isinstance(width, Number):\n",
    "            raise(f\"Height and width must be a number, not '{type(height, width)}'\")\n",
    "    @property\n",
    "    def height(self):\n",
    "        return self._height\n",
    "    \n",
    "    @property\n",
    "    def width(self):\n",
    "        return self._width\n",
    "    \n",
    "class Entity:\n",
    "    def __init__(self, width: float, height: float):\n",
    "        self._width = width\n",
    "        self._height = height\n",
    "    \n",
    "    def add_pichu(self, height:float , width:float):\n",
    "        if not isinstance(height, Number) and not isinstance(width, Number):\n",
    "            raise(f\"Height and width must be a number, not '{type(height, width)}'\")\n",
    "    \n",
    "    @property\n",
    "    def height(self):\n",
    "        return self._height\n",
    "    \n",
    "    @property\n",
    "    def width(self):\n",
    "        return self._width"
   ]
  },
  {
   "cell_type": "markdown",
   "metadata": {},
   "source": [
    "## Cleaning data method"
   ]
  },
  {
   "cell_type": "code",
   "execution_count": 102,
   "metadata": {},
   "outputs": [],
   "source": [
    "import re\n",
    "import numpy as np\n",
    "\n",
    "def clean_data(stats_path, from_file):\n",
    "    if from_file:\n",
    "        with open(stats_path, \"r\") as file:\n",
    "            raw_stats = file.read()\n",
    "    else:\n",
    "        raw_stats = stats_path\n",
    "    \n",
    "    nospace_dimentions = re.sub(r\"[ ]{1,}\", \"\", raw_stats)\n",
    "    dimentions = re.sub(r\"[\\n]\", \",\", nospace_dimentions)\n",
    "    \n",
    "    dimentions = dimentions.split(\"),(\")\n",
    "    dimentions =  [x.strip(\"()\") for x in dimentions]\n",
    "    \n",
    "    pattern = re.compile(r\"^\\d+(\\.\\d+)?,\\d+(\\.\\d+)?$\")\n",
    "    clean_dimensions = [x for x in dimentions if pattern.match(x)]\n",
    "    \n",
    "    cordinates = [eval(cordinate) for cordinate in clean_dimensions]\n",
    "    _width, _height = zip(*cordinates)\n",
    "    \n",
    "    return _width, _height"
   ]
  },
  {
   "cell_type": "markdown",
   "metadata": {},
   "source": [
    "## Fetching data/files"
   ]
  },
  {
   "cell_type": "code",
   "execution_count": 103,
   "metadata": {},
   "outputs": [
    {
     "data": {
      "text/plain": [
       "'print(f\"Pikachu width: {pikachu_width}\\nPikachu height: {pikachu_height}\\nPichu width: {pichu_width}\\nPikachu height: {pichu_height}\")\\nprint(f\"Test punkter width: {test_width}\\nTest punkter height: {test_height}\")'"
      ]
     },
     "execution_count": 103,
     "metadata": {},
     "output_type": "execute_result"
    }
   ],
   "source": [
    "from_file = True\n",
    "stats_path_pikachu = \"../data/pikachu.txt\" \n",
    "pikachu_width, pikachu_height = clean_data(stats_path_pikachu, from_file)\n",
    "\n",
    "stats_path_pichu = \"../data/pichu.txt\"\n",
    "pichu_width, pichu_height = clean_data(stats_path_pichu, from_file)\n",
    "\n",
    "stats_path = \"../Data/test_points.txt\"\n",
    "test_width, test_height = clean_data(stats_path, from_file)\n",
    "\n",
    "\"\"\"print(f\"Pikachu width: {pikachu_width}\\nPikachu height: {pikachu_height}\\nPichu width: {pichu_width}\\nPikachu height: {pichu_height}\")\n",
    "print(f\"Test punkter width: {test_width}\\nTest punkter height: {test_height}\")\"\"\""
   ]
  },
  {
   "cell_type": "markdown",
   "metadata": {},
   "source": [
    "## User Interface"
   ]
  },
  {
   "cell_type": "code",
   "execution_count": 104,
   "metadata": {},
   "outputs": [],
   "source": [
    "def ui_console():\n",
    "    import numpy as np\n",
    "    \n",
    "\n",
    "    entity_width = float(input(\"Enter width of entity: \"))\n",
    "    entity_height = float(input(\"Enter height of entity: \"))\n",
    "    entity_dimensions = (f\"({entity_width}, {entity_height})\")\n",
    "    entity_width, entity_height = clean_data(entity_dimensions, from_file= False)\n",
    "    \n",
    "    \n",
    "    width_pikachu, height_pikachu = clean_data(stats_path_pikachu, from_file= True)\n",
    "    width_pichu, height_pichu = clean_data(stats_path_pichu, from_file= True)\n",
    "    \n",
    "    width_mean_pikachu, height_mean_pikachu = mean_files(width_pikachu, height_pikachu)\n",
    "    width_mean_pichu, height_mean_pichu = mean_files(width_pichu, height_pichu)\n",
    "        \n",
    "    entity_distance_pikachu = np.sqrt((width_mean_pikachu - entity_width)**2 + (height_mean_pikachu - entity_height)**2) \n",
    "    entity_distance_pichu = np.sqrt((width_mean_pichu - entity_width)**2 + (height_mean_pichu - entity_height)**2)\n",
    "\n",
    "    if entity_distance_pikachu < entity_distance_pichu:\n",
    "        print(f\"You most likly found a Pikachu!\")\n",
    "        \n",
    "        entity = Entity(entity_width, entity_height)\n",
    "\n",
    "    elif entity_distance_pichu < entity_distance_pikachu:\n",
    "        print(f\"You most likly found a Pichu!\")\n",
    "        \n",
    "        entity = Entity(entity_width, entity_height)\n",
    "\n",
    "    else:\n",
    "        print(F\"I am unshore if you found a Pikachu or Pichu...\")\n",
    "    \n",
    "    return entity.width, entity.height"
   ]
  },
  {
   "cell_type": "markdown",
   "metadata": {},
   "source": [
    "## Plotting "
   ]
  },
  {
   "cell_type": "code",
   "execution_count": 105,
   "metadata": {},
   "outputs": [
    {
     "name": "stdout",
     "output_type": "stream",
     "text": [
      "You most likly found a Pichu!\n"
     ]
    },
    {
     "data": {
      "text/plain": [
       "<matplotlib.legend.Legend at 0x15b766fbcd0>"
      ]
     },
     "execution_count": 105,
     "metadata": {},
     "output_type": "execute_result"
    },
    {
     "data": {
      "image/png": "[encoded data removed]",
      "text/plain": [
       "<Figure size 600x600 with 1 Axes>"
      ]
     },
     "metadata": {},
     "output_type": "display_data"
    }
   ],
   "source": [
    "import matplotlib.pyplot as plt\n",
    "\n",
    "\n",
    "entity_width, entity_height = ui_console()\n",
    "\n",
    "plt.figure(figsize = (6, 6))\n",
    "plt.scatter(pikachu_width, pikachu_height, color = \"red\", label = \"Pikachu's\")\n",
    "plt.scatter(pichu_width, pichu_height, color = \"blue\", label = \"Pichu's\")\n",
    "plt.scatter(test_width, test_height, color = \"green\", label = \"Test punkter\")\n",
    "plt.scatter(entity_width, entity_height, color = \"black\", label = \"Your find\")\n",
    "plt.xlabel(\"Width\")\n",
    "plt.ylabel(\"Height\")\n",
    "plt.legend(loc = \"lower right\")"
   ]
  },
  {
   "cell_type": "markdown",
   "metadata": {},
   "source": [
    "## Calculate nearest 5"
   ]
  },
  {
   "cell_type": "code",
   "execution_count": 106,
   "metadata": {},
   "outputs": [
    {
     "name": "stdout",
     "output_type": "stream",
     "text": [
      "[0 0 0 0 0 0 0 0 0 0 0 0 0 0 0 0 0 0 0 0 0 0 0 0 0 0 0 0 0 0 0 0 0 0 0 0 0\n",
      " 0 0 0 0 0 0 0 0 0 0 0 0 1 1 1 1 1 1 1 1 1 1 1 1 1 1 1 1 1 1 1 1 1 1 1 1 1\n",
      " 1 1 1 1 1 1 1 1 1 1 1 1 1 1 1 1 1 1 1 1 1 1 1 1]\n",
      "[[18.13777226 44.95149357]\n",
      " [26.64866183 41.49878058]\n",
      " [26.18052443 39.38100084]\n",
      " [24.44364396 40.17575841]\n",
      " [21.20190228 36.21004196]\n",
      " [25.69154158 37.24697337]\n",
      " [19.33862608 38.38085562]\n",
      " [23.21718301 40.88308718]\n",
      " [23.44468448 37.30114733]\n",
      " [29.44579113 37.20217384]\n",
      " [28.51023528 35.70993086]\n",
      " [21.16066861 41.31102957]\n",
      " [24.00703336 37.28941784]\n",
      " [20.14382257 44.05420013]\n",
      " [28.95153407 43.596354  ]\n",
      " [28.44622284 35.7085735 ]\n",
      " [21.5813375  37.38004634]\n",
      " [25.66739394 41.68977778]\n",
      " [25.30764254 37.14236807]\n",
      " [19.83407122 36.32311849]\n",
      " [27.1501296  44.35514241]\n",
      " [24.47254836 40.71043093]\n",
      " [27.34351774 39.72671026]\n",
      " [24.36424407 42.84619424]\n",
      " [18.00686275 43.07496998]\n",
      " [21.88987268 36.90409914]\n",
      " [18.23372091 35.96930814]\n",
      " [29.1491834  39.31051182]\n",
      " [28.54466253 39.23578623]\n",
      " [27.97998635 39.67024668]\n",
      " [21.6901695  42.29075849]\n",
      " [18.695102   41.73364547]\n",
      " [28.53611519 44.84165211]\n",
      " [29.36339334 35.98417871]\n",
      " [19.02784142 39.02621282]\n",
      " [23.83188556 38.39302605]\n",
      " [18.83055022 43.61672536]\n",
      " [27.12722598 37.48656334]\n",
      " [27.19001315 36.90208908]\n",
      " [19.54069757 39.48613548]\n",
      " [23.70338854 39.2188164 ]\n",
      " [24.59764312 37.78545145]\n",
      " [21.18067955 37.49806448]\n",
      " [28.46919649 44.23265599]\n",
      " [23.07765528 39.43130745]\n",
      " [20.54157847 43.61349105]\n",
      " [24.47155307 40.50325312]\n",
      " [26.75917283 35.5058833 ]\n",
      " [20.41381276 44.99282468]\n",
      " [20.11541439 28.70180967]\n",
      " [15.20008604 27.09507031]\n",
      " [17.20023455 27.66977822]\n",
      " [16.78568591 34.36654588]\n",
      " [20.89176971 31.48035385]\n",
      " [20.4135959  31.09131006]\n",
      " [22.13743654 26.71138648]\n",
      " [15.69551066 32.29126798]\n",
      " [18.37537456 26.63402494]\n",
      " [15.23837776 28.79455442]\n",
      " [16.7491038  34.89523351]\n",
      " [19.0428423  31.3999976 ]\n",
      " [15.21228776 30.56949744]\n",
      " [16.59070121 31.84614251]\n",
      " [20.1990755  33.4285192 ]\n",
      " [19.35953184 32.75999912]\n",
      " [16.76352498 27.29048072]\n",
      " [19.71412547 25.32100244]\n",
      " [21.47544365 28.15453048]\n",
      " [15.05199008 27.67740876]\n",
      " [21.44655401 27.10982844]\n",
      " [20.58511516 34.42909714]\n",
      " [17.72200413 33.76367626]\n",
      " [16.243836   28.14677881]\n",
      " [22.65770458 31.55438665]\n",
      " [17.69275636 28.95631901]\n",
      " [15.74196675 34.1454759 ]\n",
      " [15.77373101 29.58851853]\n",
      " [21.77995493 27.64880166]\n",
      " [19.82980825 27.46627508]\n",
      " [21.45702619 30.61368134]\n",
      " [20.83785429 27.62741609]\n",
      " [19.28982473 30.8458599 ]\n",
      " [22.78492611 33.97822884]\n",
      " [18.02827502 28.99400505]\n",
      " [19.41632505 27.19320759]\n",
      " [21.63523731 34.97537606]\n",
      " [19.94815802 30.09526294]\n",
      " [21.8936552  25.90909412]\n",
      " [19.61881716 25.47116375]\n",
      " [20.63657469 26.0964913 ]\n",
      " [15.36659507 31.27446042]\n",
      " [16.82318621 32.92079364]\n",
      " [17.31510371 29.22159967]\n",
      " [15.63833582 25.63527706]\n",
      " [16.86232709 28.81619287]\n",
      " [15.80801144 34.9612138 ]\n",
      " [17.22378882 30.29114345]\n",
      " [20.08547555 34.71078378]]\n",
      "5\n",
      "Pichu\n"
     ]
    }
   ],
   "source": [
    "def euclidean(a, b):\n",
    "    distances = np.sqrt(np.sum((a - b) ** 2, axis=1))\n",
    "    return distances\n",
    "\n",
    "def knn(labels, pika_pich, entity_dimensions):\n",
    "    distances = euclidean(pika_pich, entity_dimensions)\n",
    "    nn_id = np.argsort(distances)[:5]\n",
    "    nn_labels = labels[nn_id]\n",
    "    return nn_labels\n",
    "\n",
    "pikachu_label = np.zeros(len(pikachu_height), dtype=int)\n",
    "pichu_label = np.ones(len(pichu_height), dtype=int)\n",
    "\n",
    "labels = np.concatenate((pikachu_label, pichu_label))\n",
    "\n",
    "entity_dimensions = np.concatenate((np.column_stack((entity_width, entity_height))))\n",
    "pika_pich = np.concatenate((\n",
    "    np.column_stack((pikachu_width, pikachu_height)), \n",
    "    np.column_stack((pichu_width, pichu_height))\n",
    "    ))\n",
    "\n",
    "nn_labels = knn(labels, pika_pich, entity_dimensions)\n",
    "sum_ = np.sum(nn_labels== 0)\n",
    "sum_total = 5-sum_\n",
    "\n",
    "if(sum_total < 3):\n",
    "    find = f\"Looks like your found a Pikachu!\"\n",
    "else:\n",
    "    find = f\"Looks like your found a Pichu!\"\n",
    "\n"
   ]
  },
  {
   "cell_type": "code",
   "execution_count": null,
   "metadata": {},
   "outputs": [],
   "source": []
  }
 ],
 "metadata": {
  "kernelspec": {
   "display_name": "venv",
   "language": "python",
   "name": "python3"
  },
  "language_info": {
   "codemirror_mode": {
    "name": "ipython",
    "version": 3
   },
   "file_extension": ".py",
   "mimetype": "text/x-python",
   "name": "python",
   "nbconvert_exporter": "python",
   "pygments_lexer": "ipython3",
   "version": "3.11.8"
  }
 },
 "nbformat": 4,
 "nbformat_minor": 2
}
