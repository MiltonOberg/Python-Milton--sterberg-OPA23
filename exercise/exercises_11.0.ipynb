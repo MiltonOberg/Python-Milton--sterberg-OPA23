{
 "cells": [
  {
   "cell_type": "markdown",
   "metadata": {},
   "source": [
    "## 1. Person (*)\n",
    "\n",
    "Create a class named Person, with **parameterized constructor** with the following parameters: \n",
    "- name\n",
    "- age\n",
    "- email\n",
    "\n",
    "Turn name, age, email into **properties** with following validations in their setters:\n",
    "- name - must be string\n",
    "- age - must be number between 0 and 125\n",
    "- email - must include an @ sign\n",
    "\n",
    "It should also have ```__repr__``` method to represent the Person class in a neat way. \n",
    "\n",
    "Also create a method ``` say_hello() ``` that prints \n",
    "\n",
    "```\n",
    "Hi, my name is ..., I am ... years old, my email address is ...  \n",
    "```"
   ]
  },
  {
   "cell_type": "code",
   "execution_count": 22,
   "metadata": {},
   "outputs": [],
   "source": [
    "from numbers import Number\n",
    "class Person():\n",
    "    def __init__(self, name: str, age: int, email: str) -> None:\n",
    "        try:\n",
    "            self.name = name\n",
    "            self.age = age\n",
    "            self.email = email\n",
    "        except ValueError as err:\n",
    "            print(err)\n",
    "        \n",
    "    @property\n",
    "    def name(self):\n",
    "        return self._name\n",
    "    @property\n",
    "    def age(self):\n",
    "        return self._age\n",
    "    @property\n",
    "    def email(self):\n",
    "        return self._email\n",
    "    \n",
    "    @name.setter\n",
    "    def name(self, value: str):\n",
    "        if not isinstance(value, str):\n",
    "            raise ValueError(f\"Name must be letters only. \")\n",
    "        self._name = value\n",
    "    @age.setter\n",
    "    def age(self, value: int):\n",
    "        if not isinstance(value, Number):\n",
    "            raise ValueError(f\"Age must be a number not {type(value)}\")\n",
    "        self._age = value\n",
    "        if not (0 < value < 125):\n",
    "            raise ValueError(f\"Age must be between 0-100. {type(value)} is invalid\")\n",
    "    @email.setter\n",
    "    def email(self, value: str):\n",
    "        if not (\"@\" in value):\n",
    "            raise ValueError(f\"No @ found in email adress:{value} \")\n",
    "        self._email = value"
   ]
  },
  {
   "cell_type": "code",
   "execution_count": 26,
   "metadata": {},
   "outputs": [
    {
     "data": {
      "text/plain": [
       "<__main__.Person at 0x22b41aeef10>"
      ]
     },
     "execution_count": 26,
     "metadata": {},
     "output_type": "execute_result"
    }
   ],
   "source": [
    "p1 = Person(\"Milton\", 22, \"milton@outlook.com\")\n",
    "p1\n",
    "p2 = Person(\"Kalle\", 24, \"kalle@gmail.com\")\n",
    "p2"
   ]
  },
  {
   "cell_type": "code",
   "execution_count": 29,
   "metadata": {},
   "outputs": [
    {
     "name": "stdout",
     "output_type": "stream",
     "text": [
      "Milton 22 milton@outlook.com\n"
     ]
    }
   ],
   "source": [
    "print(p1.name, p1.age, p1.email)"
   ]
  },
  {
   "cell_type": "code",
   "execution_count": null,
   "metadata": {},
   "outputs": [],
   "source": []
  }
 ],
 "metadata": {
  "kernelspec": {
   "display_name": "venv",
   "language": "python",
   "name": "python3"
  },
  "language_info": {
   "codemirror_mode": {
    "name": "ipython",
    "version": 3
   },
   "file_extension": ".py",
   "mimetype": "text/x-python",
   "name": "python",
   "nbconvert_exporter": "python",
   "pygments_lexer": "ipython3",
   "version": "3.11.8"
  }
 },
 "nbformat": 4,
 "nbformat_minor": 2
}
