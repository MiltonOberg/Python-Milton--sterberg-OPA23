{
 "cells": [
  {
   "cell_type": "markdown",
   "metadata": {},
   "source": [
    "## Exercise - while statement"
   ]
  },
  {
   "cell_type": "markdown",
   "metadata": {},
   "source": [
    "## 1.1 Count numbers (*)\n",
    "Use a while statement to count from -10 to 10 with one increment."
   ]
  },
  {
   "cell_type": "code",
   "execution_count": 4,
   "metadata": {},
   "outputs": [
    {
     "name": "stdout",
     "output_type": "stream",
     "text": [
      "-10\n",
      "-9\n",
      "-8\n",
      "-7\n",
      "-6\n",
      "-5\n",
      "-4\n",
      "-3\n",
      "-2\n",
      "-1\n",
      "0\n",
      "1\n",
      "2\n",
      "3\n",
      "4\n",
      "5\n",
      "6\n",
      "7\n",
      "8\n",
      "9\n",
      "10\n"
     ]
    }
   ],
   "source": [
    "index = -10\n",
    "while index <= 10:\n",
    "    print(index)\n",
    "    index += 1"
   ]
  },
  {
   "cell_type": "markdown",
   "metadata": {},
   "source": [
    "## 1.2 Arithmetic sum (*)\n",
    "Use a while statement to compute the following sums:\n",
    "\n",
    "  a)   1 + 2 + ... + 99 + 100\n",
    "\n",
    "  b)   1 + 3 + 5 + ... + 97 + 99"
   ]
  },
  {
   "cell_type": "code",
   "execution_count": 6,
   "metadata": {},
   "outputs": [
    {
     "name": "stdout",
     "output_type": "stream",
     "text": [
      "0\n",
      "1\n",
      "2\n",
      "3\n",
      "4\n",
      "5\n",
      "6\n",
      "7\n",
      "8\n",
      "9\n",
      "10\n",
      "11\n",
      "12\n",
      "13\n",
      "14\n",
      "15\n",
      "16\n",
      "17\n",
      "18\n",
      "19\n",
      "20\n",
      "21\n",
      "22\n",
      "23\n",
      "24\n",
      "25\n",
      "26\n",
      "27\n",
      "28\n",
      "29\n",
      "30\n",
      "31\n",
      "32\n",
      "33\n",
      "34\n",
      "35\n",
      "36\n",
      "37\n",
      "38\n",
      "39\n",
      "40\n",
      "41\n",
      "42\n",
      "43\n",
      "44\n",
      "45\n",
      "46\n",
      "47\n",
      "48\n",
      "49\n",
      "50\n",
      "51\n",
      "52\n",
      "53\n",
      "54\n",
      "55\n",
      "56\n",
      "57\n",
      "58\n",
      "59\n",
      "60\n",
      "61\n",
      "62\n",
      "63\n",
      "64\n",
      "65\n",
      "66\n",
      "67\n",
      "68\n",
      "69\n",
      "70\n",
      "71\n",
      "72\n",
      "73\n",
      "74\n",
      "75\n",
      "76\n",
      "77\n",
      "78\n",
      "79\n",
      "80\n",
      "81\n",
      "82\n",
      "83\n",
      "84\n",
      "85\n",
      "86\n",
      "87\n",
      "88\n",
      "89\n",
      "90\n",
      "91\n",
      "92\n",
      "93\n",
      "94\n",
      "95\n",
      "96\n",
      "97\n",
      "98\n",
      "99\n",
      "100\n"
     ]
    }
   ],
   "source": [
    "sum = 0\n",
    "while sum <= 100:\n",
    "    print(sum)\n",
    "    sum += 1"
   ]
  },
  {
   "cell_type": "code",
   "execution_count": 7,
   "metadata": {},
   "outputs": [
    {
     "name": "stdout",
     "output_type": "stream",
     "text": [
      "1\n",
      "3\n",
      "5\n",
      "7\n",
      "9\n",
      "11\n",
      "13\n",
      "15\n",
      "17\n",
      "19\n",
      "21\n",
      "23\n",
      "25\n",
      "27\n",
      "29\n",
      "31\n",
      "33\n",
      "35\n",
      "37\n",
      "39\n",
      "41\n",
      "43\n",
      "45\n",
      "47\n",
      "49\n",
      "51\n",
      "53\n",
      "55\n",
      "57\n",
      "59\n",
      "61\n",
      "63\n",
      "65\n",
      "67\n",
      "69\n",
      "71\n",
      "73\n",
      "75\n",
      "77\n",
      "79\n",
      "81\n",
      "83\n",
      "85\n",
      "87\n",
      "89\n",
      "91\n",
      "93\n",
      "95\n",
      "97\n",
      "99\n"
     ]
    }
   ],
   "source": [
    "sum = 1\n",
    "while sum <= 99:\n",
    "    print(sum)\n",
    "    sum += 2"
   ]
  },
  {
   "cell_type": "markdown",
   "metadata": {},
   "source": [
    "## 1.3 Guess number game (*)\n",
    "  a)   Create a guessing number game following this flow chart:\n",
    "\n",
    "\n",
    "\n",
    "  b)   Make an algorithm to automatically guess the correct number. Can you optimize to get as few guesses as possible? (**)"
   ]
  },
  {
   "cell_type": "code",
   "execution_count": 12,
   "metadata": {},
   "outputs": [
    {
     "name": "stdout",
     "output_type": "stream",
     "text": [
      "Guess lower\n",
      "Guess higher!\n",
      "Guess higher!\n",
      "Guess lower\n",
      "Guess lower\n",
      "Guess lower\n",
      "Guess lower\n",
      "Guess lower\n",
      "Guess lower\n",
      "Right! the number were 39\n"
     ]
    }
   ],
   "source": [
    "import numpy as np\n",
    "\n",
    "min_ = 1\n",
    "max_ = 101\n",
    "correct = np.random.randint(min_, max_)\n",
    "\n",
    "while True:\n",
    "    try:\n",
    "        guess = int(input(f\"Gissa på ett tal mellan {min_}-{max_ - 1}: \"))\n",
    "        if not guess == correct:\n",
    "            if guess < correct:\n",
    "                min_ = guess\n",
    "                raise ValueError(\"Guess higher!\")\n",
    "            else:\n",
    "                max_ = guess\n",
    "                raise ValueError(\"Guess lower\")\n",
    "        print(f\"Right! the number were {correct}\")\n",
    "        break\n",
    "    except ValueError as err:\n",
    "        print(err)\n",
    "    "
   ]
  },
  {
   "cell_type": "code",
   "execution_count": 2,
   "metadata": {},
   "outputs": [
    {
     "name": "stdout",
     "output_type": "stream",
     "text": [
      "YESSSSSSS!!!!!!!!!\n"
     ]
    }
   ],
   "source": [
    "import keyboard as kb\n",
    "\n",
    "min_ = 1\n",
    "max_ = 100\n",
    "input(\"Think of a number between 1-100 and i will try to guess it!\")\n",
    "\n",
    "while True:\n",
    "    guess = (max_ + min_)//2\n",
    "    answer = input(f\"I guess {guess}. Is it higher or lower? H/L/R\").lower()\n",
    "    \n",
    "    if answer == \"h\":\n",
    "        min_ = guess + 1\n",
    "    elif answer == \"l\":\n",
    "        max_ = guess - 1\n",
    "    elif answer == \"r\":\n",
    "        print(\"YESSSSSSS!!!!!!!!!\")\n",
    "        break"
   ]
  },
  {
   "cell_type": "markdown",
   "metadata": {},
   "source": [
    "## 1.4 Check convergence (**)\n",
    "Use a while statement to compute the following sums:\n",
    "\n",
    "  a)   1 + 1/2 + 1/4 + ... + 1/2^n\n",
    "\n",
    "  b)   1 - 1/3 + 1/5 - ... - (-1)^n/2n + 1\n",
    "\n",
    "Try different values on \n",
    " to see which value it converges to."
   ]
  },
  {
   "cell_type": "code",
   "execution_count": 14,
   "metadata": {},
   "outputs": [
    {
     "name": "stdout",
     "output_type": "stream",
     "text": [
      "1.9999999403953552\n"
     ]
    }
   ],
   "source": [
    "n = 1\n",
    "sum_ = 1\n",
    "\n",
    "while n < 25:\n",
    "    sum_ += 1 / (2**n)\n",
    "    n += 1\n",
    "    \n",
    "print(sum_)"
   ]
  },
  {
   "cell_type": "code",
   "execution_count": 17,
   "metadata": {},
   "outputs": [
    {
     "name": "stdout",
     "output_type": "stream",
     "text": [
      "0.7953941713587581\n"
     ]
    }
   ],
   "source": [
    "n = 1\n",
    "sum_ = 1\n",
    "\n",
    "while n < 25:\n",
    "    formula = (-1)**n / (n*2 + 1)\n",
    "    sum_ += formula\n",
    "    n += 1\n",
    "print(sum_)"
   ]
  }
 ],
 "metadata": {
  "kernelspec": {
   "display_name": "venv",
   "language": "python",
   "name": "python3"
  },
  "language_info": {
   "codemirror_mode": {
    "name": "ipython",
    "version": 3
   },
   "file_extension": ".py",
   "mimetype": "text/x-python",
   "name": "python",
   "nbconvert_exporter": "python",
   "pygments_lexer": "ipython3",
   "version": "3.11.7"
  }
 },
 "nbformat": 4,
 "nbformat_minor": 2
}
