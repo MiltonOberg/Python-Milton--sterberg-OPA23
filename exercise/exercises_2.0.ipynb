{
 "cells": [
  {
   "cell_type": "markdown",
   "metadata": {},
   "source": [
    "## Exercise - while statement"
   ]
  },
  {
   "cell_type": "markdown",
   "metadata": {},
   "source": [
    "## 1.1 Count numbers (*)\n",
    "Use a while statement to count from -10 to 10 with one increment."
   ]
  },
  {
   "cell_type": "code",
   "execution_count": 4,
   "metadata": {},
   "outputs": [
    {
     "name": "stdout",
     "output_type": "stream",
     "text": [
      "-10\n",
      "-9\n",
      "-8\n",
      "-7\n",
      "-6\n",
      "-5\n",
      "-4\n",
      "-3\n",
      "-2\n",
      "-1\n",
      "0\n",
      "1\n",
      "2\n",
      "3\n",
      "4\n",
      "5\n",
      "6\n",
      "7\n",
      "8\n",
      "9\n",
      "10\n"
     ]
    }
   ],
   "source": [
    "index = -10\n",
    "while index <= 10:\n",
    "    print(index)\n",
    "    index += 1"
   ]
  },
  {
   "cell_type": "markdown",
   "metadata": {},
   "source": [
    "## 1.2 Arithmetic sum (*)\n",
    "Use a while statement to compute the following sums:\n",
    "\n",
    "  a)   1 + 2 + ... + 99 + 100\n",
    "\n",
    "  b)   1 + 3 + 5 + ... + 97 + 99"
   ]
  },
  {
   "cell_type": "code",
   "execution_count": 9,
   "metadata": {},
   "outputs": [
    {
     "data": {
      "text/plain": [
       "5050"
      ]
     },
     "execution_count": 9,
     "metadata": {},
     "output_type": "execute_result"
    }
   ],
   "source": [
    "sum_ = 0\n",
    "times = 0\n",
    "while times <= 100:\n",
    "    sum_ += times\n",
    "    times += 1\n",
    "sum_"
   ]
  },
  {
   "cell_type": "code",
   "execution_count": 11,
   "metadata": {},
   "outputs": [
    {
     "data": {
      "text/plain": [
       "2450"
      ]
     },
     "execution_count": 11,
     "metadata": {},
     "output_type": "execute_result"
    }
   ],
   "source": [
    "sum_ = 0\n",
    "times = 0\n",
    "while (times <= 99):\n",
    "    sum_ += times\n",
    "    times += 2\n",
    "sum_\n"
   ]
  },
  {
   "cell_type": "markdown",
   "metadata": {},
   "source": [
    "## 1.3 Guess number game (*)\n",
    "  a)   Create a guessing number game following this flow chart:\n",
    "\n",
    "\n",
    "\n",
    "  b)   Make an algorithm to automatically guess the correct number. Can you optimize to get as few guesses as possible? (**)"
   ]
  },
  {
   "cell_type": "code",
   "execution_count": 12,
   "metadata": {},
   "outputs": [
    {
     "name": "stdout",
     "output_type": "stream",
     "text": [
      "Guess lower\n",
      "Guess higher!\n",
      "Guess higher!\n",
      "Guess lower\n",
      "Guess lower\n",
      "Guess lower\n",
      "Guess lower\n",
      "Guess lower\n",
      "Guess lower\n",
      "Right! the number were 39\n"
     ]
    }
   ],
   "source": [
    "import numpy as np\n",
    "\n",
    "min_ = 1\n",
    "max_ = 101\n",
    "correct = np.random.randint(min_, max_)\n",
    "\n",
    "while True:\n",
    "    try:\n",
    "        guess = int(input(f\"Gissa på ett tal mellan {min_}-{max_ - 1}: \"))\n",
    "        if not guess == correct:\n",
    "            if guess < correct:\n",
    "                min_ = guess\n",
    "                raise ValueError(\"Guess higher!\")\n",
    "            else:\n",
    "                max_ = guess\n",
    "                raise ValueError(\"Guess lower\")\n",
    "        print(f\"Right! the number were {correct}\")\n",
    "        break\n",
    "    except ValueError as err:\n",
    "        print(err)\n",
    "    "
   ]
  },
  {
   "cell_type": "code",
   "execution_count": 2,
   "metadata": {},
   "outputs": [
    {
     "name": "stdout",
     "output_type": "stream",
     "text": [
      "YESSSSSSS!!!!!!!!!\n"
     ]
    }
   ],
   "source": [
    "import keyboard as kb\n",
    "\n",
    "min_ = 1\n",
    "max_ = 100\n",
    "input(\"Think of a number between 1-100 and i will try to guess it!\")\n",
    "\n",
    "while True:\n",
    "    guess = (max_ + min_)//2\n",
    "    answer = input(f\"I guess {guess}. Is it higher or lower? H/L/R\").lower()\n",
    "    \n",
    "    if answer == \"h\":\n",
    "        min_ = guess + 1\n",
    "    elif answer == \"l\":\n",
    "        max_ = guess - 1\n",
    "    elif answer == \"r\":\n",
    "        print(\"YESSSSSSS!!!!!!!!!\")\n",
    "        break"
   ]
  },
  {
   "cell_type": "markdown",
   "metadata": {},
   "source": [
    "## 1.4 Check convergence (**)\n",
    "Use a while statement to compute the following sums:\n",
    "\n",
    "  a)   1 + 1/2 + 1/4 + ... + 1/2^n\n",
    "\n",
    "  b)   1 - 1/3 + 1/5 - ... - (-1)^n/2n + 1\n",
    "\n",
    "Try different values on \n",
    " to see which value it converges to."
   ]
  },
  {
   "cell_type": "code",
   "execution_count": 14,
   "metadata": {},
   "outputs": [
    {
     "name": "stdout",
     "output_type": "stream",
     "text": [
      "1.9999999403953552\n"
     ]
    }
   ],
   "source": [
    "n = 1\n",
    "sum_ = 1\n",
    "\n",
    "while n < 25:\n",
    "    sum_ += 1 / (2**n)\n",
    "    n += 1\n",
    "    \n",
    "print(sum_)"
   ]
  },
  {
   "cell_type": "code",
   "execution_count": 17,
   "metadata": {},
   "outputs": [
    {
     "name": "stdout",
     "output_type": "stream",
     "text": [
      "0.7953941713587581\n"
     ]
    }
   ],
   "source": [
    "n = 1\n",
    "sum_ = 1\n",
    "\n",
    "while n < 25:\n",
    "    formula = (-1)**n / (n*2 + 1)\n",
    "    sum_ += formula\n",
    "    n += 1\n",
    "print(sum_)"
   ]
  }
 ],
 "metadata": {
  "kernelspec": {
   "display_name": "venv",
   "language": "python",
   "name": "python3"
  },
  "language_info": {
   "codemirror_mode": {
    "name": "ipython",
    "version": 3
   },
   "file_extension": ".py",
   "mimetype": "text/x-python",
   "name": "python",
   "nbconvert_exporter": "python",
   "pygments_lexer": "ipython3",
   "version": "3.11.8"
  }
 },
 "nbformat": 4,
 "nbformat_minor": 2
}
