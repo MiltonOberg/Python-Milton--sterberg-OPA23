{
 "cells": [
  {
   "cell_type": "markdown",
   "metadata": {},
   "source": [
    "## Uppgift 1.0 Check sign (*)\n",
    "Ask the user to input a number and check if this number is positive, negative or zero and print it out."
   ]
  },
  {
   "cell_type": "code",
   "execution_count": 2,
   "metadata": {},
   "outputs": [
    {
     "name": "stdout",
     "output_type": "stream",
     "text": [
      "Talet är positivt\n"
     ]
    }
   ],
   "source": [
    "number = int(input())\n",
    "if number > 0:\n",
    "    print(\"Talet är positivt\")\n",
    "elif number < 0:\n",
    "    print(\"Talet är negativt\")\n",
    "else:\n",
    "    print(\"Du skrev noll\")"
   ]
  },
  {
   "cell_type": "markdown",
   "metadata": {},
   "source": [
    "## 1.1 Smallest (*)\n",
    "Ask the user to input two numbers and check which one is the smallest and print it out."
   ]
  },
  {
   "cell_type": "code",
   "execution_count": 3,
   "metadata": {},
   "outputs": [
    {
     "name": "stdout",
     "output_type": "stream",
     "text": [
      "4 är störst\n"
     ]
    }
   ],
   "source": [
    "num1 = int(input())\n",
    "num2 = int(input())\n",
    "\n",
    "if num1 > num2:\n",
    "    print(f\"{num1} är störst\")\n",
    "elif num1 < num2:\n",
    "    print(f\"{num2} är störst\")\n",
    "else:\n",
    "    print(f\"Dina tal är lika stora\")"
   ]
  },
  {
   "cell_type": "markdown",
   "metadata": {},
   "source": [
    "## 1.2 Right angle (*)\n",
    "Ask the user to input three angles and check if the triangle has a right angle. Your code should make sure that all three angles are valid and make up a triangle."
   ]
  },
  {
   "cell_type": "code",
   "execution_count": 4,
   "metadata": {},
   "outputs": [
    {
     "name": "stdout",
     "output_type": "stream",
     "text": [
      "Write three angels: \n",
      "The triangle has a 90* angle.\n"
     ]
    }
   ],
   "source": [
    "print(\"Write three angels: \")\n",
    "num1 = int(input(\"Angle 1: \"))\n",
    "num2 = int(input(\"Angle 2: \"))\n",
    "num3 = int(input(\"Angle 3: \"))\n",
    "\n",
    "if num1 + num2 + num3 == 180:\n",
    "    if num1 == 90 or num2 == 90 or num3 == 90:\n",
    "        print(\"The triangle has a 90* angle.\")\n",
    "    else:\n",
    "        print(\"The triangle doesn't have a 90* angle.\")\n",
    "else:\n",
    "    print(\"Your three numbers cannot create a triangle.\")\n",
    "\n"
   ]
  },
  {
   "cell_type": "markdown",
   "metadata": {},
   "source": [
    "## 3. Medicine (*)\n",
    "The information in the following table is stated in a medicine package. Also it is stated that for children weight is more important than age.\n",
    "\n",
    "Age\tNumber of pills\n",
    "Adults & adolescent\n",
    "\n",
    "over 40 kg\tover 12 years\t1-2st\n",
    "\n",
    "Children 26-40 kg\t7-12 years\t1/2-1st\n",
    "\n",
    "Children 15-25 kg\t3-7 years\t1/2st\n",
    "\n",
    "Let the user input an age and a weight, the program should recommend the number of pills for the user."
   ]
  },
  {
   "cell_type": "code",
   "execution_count": null,
   "metadata": {},
   "outputs": [],
   "source": [
    "age = int(input(\"Hur gammal är du?\"))\n",
    "weight = int(input(\"Hur mycket väger du?\"))\n",
    "\n",
    "if weight > 40 and age > 12:\n",
    "    print(\"Din rekommenderade dos är 1-2 tabletter.\") \n",
    "elif weight > 26 and weight < 40 and age > 7 and age < 12:\n",
    "    print(\"Din rekommenderade dos är 1/2 till 1 tablett\")"
   ]
  }
 ],
 "metadata": {
  "kernelspec": {
   "display_name": "venv",
   "language": "python",
   "name": "python3"
  },
  "language_info": {
   "codemirror_mode": {
    "name": "ipython",
    "version": 3
   },
   "file_extension": ".py",
   "mimetype": "text/x-python",
   "name": "python",
   "nbconvert_exporter": "python",
   "pygments_lexer": "ipython3",
   "version": "3.11.7"
  }
 },
 "nbformat": 4,
 "nbformat_minor": 2
}
