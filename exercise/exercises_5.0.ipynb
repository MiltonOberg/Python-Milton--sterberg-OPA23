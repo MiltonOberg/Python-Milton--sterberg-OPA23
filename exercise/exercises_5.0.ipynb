{
 "cells": [
  {
   "cell_type": "markdown",
   "metadata": {},
   "source": [
    "# Exercise - strings"
   ]
  },
  {
   "cell_type": "markdown",
   "metadata": {},
   "source": [
    "## 1.0 Counting letters (*)\n",
    "\n",
    "Let the user input a word: \n",
    "\n",
    "&nbsp; a) &nbsp; print out the number of letters in the word. (*) \n",
    "  \n",
    "&nbsp; b) &nbsp; print out the number of **uppercase** and **lowercase** letters of the word (*)   "
   ]
  },
  {
   "cell_type": "code",
   "execution_count": 1,
   "metadata": {},
   "outputs": [
    {
     "data": {
      "text/plain": [
       "6"
      ]
     },
     "execution_count": 1,
     "metadata": {},
     "output_type": "execute_result"
    }
   ],
   "source": [
    "word = input(\"Write a word: \")\n",
    "number_letters = len(word)\n",
    "number_letters"
   ]
  },
  {
   "cell_type": "code",
   "execution_count": 2,
   "metadata": {},
   "outputs": [
    {
     "name": "stdout",
     "output_type": "stream",
     "text": [
      "MiltOn has 2 uppercase and 4 lowercase\n"
     ]
    }
   ],
   "source": [
    "word = input(\"Write a word: \")\n",
    "upper_count = sum(1 for char in word if char.isupper())\n",
    "lower_count = sum(1 for char in word if char.islower())\n",
    "print(f\"{word} has {upper_count} uppercase and {lower_count} lowercase\")"
   ]
  },
  {
   "cell_type": "markdown",
   "metadata": {},
   "source": [
    "## 1.1 Counting words (*)\n",
    "\n",
    "Count the number of words in this sentence: \"A picture says more than a thousand words, a matematical formula says more than a thousand pictures.\" (*) "
   ]
  },
  {
   "cell_type": "code",
   "execution_count": 5,
   "metadata": {},
   "outputs": [
    {
     "name": "stdout",
     "output_type": "stream",
     "text": [
      "Your sentence has 5 words.\n"
     ]
    }
   ],
   "source": [
    "sentence = input(\"Write a sentence:\")\n",
    "sentence_split = sentence.split()\n",
    "sentence_length = len(sentence_split)\n",
    "print(f\"Your sentence has {sentence_length} words.\")"
   ]
  },
  {
   "cell_type": "markdown",
   "metadata": {},
   "source": [
    "## 1.2 Palindrome (*)\n",
    "\n",
    "A palindrome is a sequence of characters that is the same, when read forward as backwards (ignoring spaces). For example:\n",
    "- \"Anna\" is a palindrome\n",
    "- \"Ni talar bra latin\"\n",
    "- bjkjb \n",
    "\n",
    "Here is a flowchart of the algorithm. \n",
    "\n",
    "<img src=\"https://github.com/kokchun/assets/blob/main/python/palindrome_flowchart.png?raw=true\" width = 300 style=\"display:inline-block; text-align:left;\">\n",
    "\n",
    "Let the user input a sequence of characters and check if it is a palindrome. (*)"
   ]
  },
  {
   "cell_type": "code",
   "execution_count": 14,
   "metadata": {},
   "outputs": [
    {
     "name": "stdout",
     "output_type": "stream",
     "text": [
      "Your word isn't palindrome, hej : jeh\n",
      "Your word is palindrome, anna : anna\n"
     ]
    }
   ],
   "source": [
    "while True:\n",
    "    word = input(\"Write a word: \")\n",
    "    reverse_word = \"\".join(reversed(word))\n",
    "    if reverse_word == word:\n",
    "        print(f\"Your word is palindrome, {word} : {reverse_word}\")\n",
    "        break\n",
    "    else:\n",
    "        print(f\"Your word isn't palindrome, {word} : {reverse_word}\")"
   ]
  },
  {
   "cell_type": "markdown",
   "metadata": {},
   "source": []
  }
 ],
 "metadata": {
  "kernelspec": {
   "display_name": "venv",
   "language": "python",
   "name": "python3"
  },
  "language_info": {
   "codemirror_mode": {
    "name": "ipython",
    "version": 3
   },
   "file_extension": ".py",
   "mimetype": "text/x-python",
   "name": "python",
   "nbconvert_exporter": "python",
   "pygments_lexer": "ipython3",
   "version": "3.11.8"
  }
 },
 "nbformat": 4,
 "nbformat_minor": 2
}
