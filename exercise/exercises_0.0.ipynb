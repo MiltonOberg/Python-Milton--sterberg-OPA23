{
 "cells": [
  {
   "cell_type": "markdown",
   "metadata": {},
   "source": [
    "## Exercise - Count with Python"
   ]
  },
  {
   "cell_type": "markdown",
   "metadata": {},
   "source": [
    "## 0.1 Pythagorean theorem (*)\n",
    "  a)   A right angled triangle has the catheti: a = 3 and b = 4 length units. Compute the hypothenuse of the triangle. (*)\n",
    "\n",
    "  b)   A right angled triangle has hypothenuse c = 7.0 and a cathetus a = 5.0 length units. Compute the other cathetus and round to one decimal. (*)"
   ]
  },
  {
   "cell_type": "code",
   "execution_count": 19,
   "metadata": {},
   "outputs": [
    {
     "name": "stdout",
     "output_type": "stream",
     "text": [
      "Hypotenusan av triangeln: 5.0\n",
      "Katet b: 8.6\n"
     ]
    }
   ],
   "source": [
    "a = 3\n",
    "b = 4\n",
    "\n",
    "c = (a ** 2 + b ** 2) ** 0.5\n",
    "print(f\"Hypotenusan av triangeln: {c}\")\n",
    "\n",
    "\n",
    "c = 7\n",
    "a = 5\n",
    "\n",
    "b = round((c ** 2 - a ** 2) ** 0.5, 1)\n",
    "print(f\"Katet b: {b}\")"
   ]
  },
  {
   "cell_type": "markdown",
   "metadata": {},
   "source": [
    "## 0.2 Classification accuracy (*)\n",
    "A machine learning algorithm has been trained to predict whether or not it would rain the next day. Out of 365 predictions, it got 300 correct, compute the accuracy of this model."
   ]
  },
  {
   "cell_type": "code",
   "execution_count": 12,
   "metadata": {},
   "outputs": [
    {
     "name": "stdout",
     "output_type": "stream",
     "text": [
      "Accuracy: 82.2%\n"
     ]
    }
   ],
   "source": [
    "days = 365\n",
    "correct = 300\n",
    "\n",
    "accuracy = round((correct / days) * 100, 1)\n",
    "print(f\"Accuracy: {accuracy}%\")"
   ]
  },
  {
   "cell_type": "markdown",
   "metadata": {},
   "source": [
    "## 0.3 Classification accuracy (*)\n",
    "A machine learning model has been trained to detect fire. Here is the result of its predictions:\n",
    "\n",
    "True Positive (TP)\n",
    "Reality: fire\n",
    "Predicted: fire\n",
    "Number of TP: 2\n",
    "False Positive (FP)\n",
    "Reality: no fire\n",
    "Predicted: fire\n",
    "Number of FP: 2\n",
    "False Negative (FN)\n",
    "Reality: fire\n",
    "Predicted: no fire\n",
    "Number of FN: 11\n",
    "True Negative (TN)\n",
    "Reality: no fire\n",
    "Predicted: no fire\n",
    "Number of TN: 985\n",
    "Calculated the accuracy using the following formula:\n",
    "\n",
    " \n",
    "\n",
    "Is this a good model? Discuss with a friend."
   ]
  },
  {
   "cell_type": "markdown",
   "metadata": {},
   "source": [
    "## 0.4 Line (*)\n",
    "Compute the slope k\n",
    " and the constant term m\n",
    " of this line using the points \n",
    " a : (4, 4)\n",
    " and \n",
    " b : (0, 1)"
   ]
  },
  {
   "cell_type": "code",
   "execution_count": 31,
   "metadata": {},
   "outputs": [
    {
     "ename": "AttributeError",
     "evalue": "module 'numpy' has no attribute 'linespace'",
     "output_type": "error",
     "traceback": [
      "\u001b[1;31m---------------------------------------------------------------------------\u001b[0m",
      "\u001b[1;31mAttributeError\u001b[0m                            Traceback (most recent call last)",
      "Cell \u001b[1;32mIn[31], line 13\u001b[0m\n\u001b[0;32m     10\u001b[0m y \u001b[38;5;241m=\u001b[39m k \u001b[38;5;241m*\u001b[39m x \u001b[38;5;241m+\u001b[39m \u001b[38;5;241m1\u001b[39m\n\u001b[0;32m     12\u001b[0m \u001b[38;5;66;03m#x värden för linje\u001b[39;00m\n\u001b[1;32m---> 13\u001b[0m x_values \u001b[38;5;241m=\u001b[39m \u001b[43mny\u001b[49m\u001b[38;5;241;43m.\u001b[39;49m\u001b[43mlinespace\u001b[49m(\u001b[38;5;241m-\u001b[39m\u001b[38;5;241m10\u001b[39m, \u001b[38;5;241m10\u001b[39m, \u001b[38;5;241m100\u001b[39m)\n\u001b[0;32m     14\u001b[0m \u001b[38;5;66;03m#y värde för linje\u001b[39;00m\n\u001b[0;32m     15\u001b[0m y_values \u001b[38;5;241m=\u001b[39m k \u001b[38;5;241m*\u001b[39m y_values \u001b[38;5;241m+\u001b[39m m\n",
      "File \u001b[1;32mc:\\Users\\milto\\Documents\\github\\Python1\\Python-Milton--sterberg-OPA23\\venv\\Lib\\site-packages\\numpy\\__init__.py:347\u001b[0m, in \u001b[0;36m__getattr__\u001b[1;34m(attr)\u001b[0m\n\u001b[0;32m    344\u001b[0m     \u001b[38;5;124m\"\u001b[39m\u001b[38;5;124mRemoved in NumPy 1.25.0\u001b[39m\u001b[38;5;124m\"\u001b[39m\n\u001b[0;32m    345\u001b[0m     \u001b[38;5;28;01mraise\u001b[39;00m \u001b[38;5;167;01mRuntimeError\u001b[39;00m(\u001b[38;5;124m\"\u001b[39m\u001b[38;5;124mTester was removed in NumPy 1.25.\u001b[39m\u001b[38;5;124m\"\u001b[39m)\n\u001b[1;32m--> 347\u001b[0m \u001b[38;5;28;01mraise\u001b[39;00m \u001b[38;5;167;01mAttributeError\u001b[39;00m(\u001b[38;5;124m\"\u001b[39m\u001b[38;5;124mmodule \u001b[39m\u001b[38;5;132;01m{!r}\u001b[39;00m\u001b[38;5;124m has no attribute \u001b[39m\u001b[38;5;124m\"\u001b[39m\n\u001b[0;32m    348\u001b[0m                      \u001b[38;5;124m\"\u001b[39m\u001b[38;5;132;01m{!r}\u001b[39;00m\u001b[38;5;124m\"\u001b[39m\u001b[38;5;241m.\u001b[39mformat(\u001b[38;5;18m__name__\u001b[39m, attr))\n",
      "\u001b[1;31mAttributeError\u001b[0m: module 'numpy' has no attribute 'linespace'"
     ]
    }
   ],
   "source": [
    "import matplotlib.pyplot as plt\n",
    "import numpy as ny\n",
    "\n",
    "a = (4, 4)\n",
    "b = (0, 1)\n",
    "\n",
    "k = 3/4\n",
    "m = 1\n",
    "x = 3 / 4\n",
    "y = k * x + 1\n",
    "\n",
    "#x värden för linje\n",
    "x_values = ny.linespace(-10, 10, 100)\n",
    "#y värde för linje\n",
    "y_values = k * y_values + m\n",
    "\n",
    "label = y = {k} + {m}\n",
    "#ritar linjen\n",
    "plt.plot(x_values, y_values, label)\n",
    "\n",
    "plt.legend()\n",
    "plt.show()"
   ]
  },
  {
   "cell_type": "markdown",
   "metadata": {},
   "source": [
    "## 0.5 Euclidean distance (*)\n",
    "The Euclideam distance between the points \n",
    " P1 and P2 \n",
    " is the length of a line between them. \n",
    " Let P1 : (3, 5) and P2 : (-2, 4)\n",
    " and compute the distance between them."
   ]
  },
  {
   "cell_type": "code",
   "execution_count": 38,
   "metadata": {},
   "outputs": [
    {
     "data": {
      "text/plain": [
       "5.0990195135927845"
      ]
     },
     "execution_count": 38,
     "metadata": {},
     "output_type": "execute_result"
    }
   ],
   "source": [
    "import math\n",
    "p1 = (3, 5)\n",
    "p2 = (-2, 4)\n",
    "distace = math.sqrt((p2[0] - p1[0])**2 + (p2[1] - p1[1])**2)\n",
    "\n",
    "distace"
   ]
  },
  {
   "cell_type": "markdown",
   "metadata": {},
   "source": [
    "## 0.6 Euclidean distance in 3D (**)\n",
    "Calculate the distance between the points \n",
    "p1 : (2, 1, 4) and p2 : (3, 1, 0)"
   ]
  },
  {
   "cell_type": "code",
   "execution_count": 42,
   "metadata": {},
   "outputs": [
    {
     "data": {
      "text/plain": [
       "4.1"
      ]
     },
     "execution_count": 42,
     "metadata": {},
     "output_type": "execute_result"
    }
   ],
   "source": [
    "p1 = (2, 1, 4)\n",
    "p2 = (3, 1, 0)\n",
    "\n",
    "distance = round(math.sqrt((p2[0] - p1[0])**2 + (p2[1] - p1[1])**2 + (p2[2] - p1[2])**2), 1)\n",
    "distance"
   ]
  }
 ],
 "metadata": {
  "kernelspec": {
   "display_name": "venv",
   "language": "python",
   "name": "python3"
  },
  "language_info": {
   "codemirror_mode": {
    "name": "ipython",
    "version": 3
   },
   "file_extension": ".py",
   "mimetype": "text/x-python",
   "name": "python",
   "nbconvert_exporter": "python",
   "pygments_lexer": "ipython3",
   "version": "3.11.7"
  }
 },
 "nbformat": 4,
 "nbformat_minor": 2
}
