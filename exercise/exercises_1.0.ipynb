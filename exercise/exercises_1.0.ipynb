{
 "cells": [
  {
   "cell_type": "markdown",
   "metadata": {},
   "source": [
    "## Exercise - if-statements"
   ]
  },
  {
   "cell_type": "markdown",
   "metadata": {},
   "source": [
    "## Uppgift 1.0 Check sign (*)\n",
    "Ask the user to input a number and check if this number is positive, negative or zero and print it out."
   ]
  },
  {
   "cell_type": "code",
   "execution_count": 2,
   "metadata": {},
   "outputs": [
    {
     "name": "stdout",
     "output_type": "stream",
     "text": [
      "Talet är positivt\n"
     ]
    }
   ],
   "source": [
    "number = int(input())\n",
    "if number > 0:\n",
    "    print(\"Talet är positivt\")\n",
    "elif number < 0:\n",
    "    print(\"Talet är negativt\")\n",
    "else:\n",
    "    print(\"Du skrev noll\")"
   ]
  },
  {
   "cell_type": "markdown",
   "metadata": {},
   "source": [
    "## 1.1 Smallest (*)\n",
    "Ask the user to input two numbers and check which one is the smallest and print it out."
   ]
  },
  {
   "cell_type": "code",
   "execution_count": 3,
   "metadata": {},
   "outputs": [
    {
     "name": "stdout",
     "output_type": "stream",
     "text": [
      "4 är störst\n"
     ]
    }
   ],
   "source": [
    "num1 = int(input())\n",
    "num2 = int(input())\n",
    "\n",
    "if num1 > num2:\n",
    "    print(f\"{num1} är störst\")\n",
    "elif num1 < num2:\n",
    "    print(f\"{num2} är störst\")\n",
    "else:\n",
    "    print(f\"Dina tal är lika stora\")"
   ]
  },
  {
   "cell_type": "markdown",
   "metadata": {},
   "source": [
    "## 1.2 Right angle (*)\n",
    "Ask the user to input three angles and check if the triangle has a right angle. Your code should make sure that all three angles are valid and make up a triangle."
   ]
  },
  {
   "cell_type": "code",
   "execution_count": 4,
   "metadata": {},
   "outputs": [
    {
     "name": "stdout",
     "output_type": "stream",
     "text": [
      "Write three angels: \n",
      "The triangle has a 90* angle.\n"
     ]
    }
   ],
   "source": [
    "print(\"Write three angels: \")\n",
    "num1 = int(input(\"Angle 1: \"))\n",
    "num2 = int(input(\"Angle 2: \"))\n",
    "num3 = int(input(\"Angle 3: \"))\n",
    "\n",
    "if num1 + num2 + num3 == 180:\n",
    "    if num1 == 90 or num2 == 90 or num3 == 90:\n",
    "        print(\"The triangle has a 90* angle.\")\n",
    "    else:\n",
    "        print(\"The triangle doesn't have a 90* angle.\")\n",
    "else:\n",
    "    print(\"Your three numbers cannot create a triangle.\")"
   ]
  },
  {
   "cell_type": "markdown",
   "metadata": {},
   "source": [
    "## 1.3 Medicine (*)\n",
    "The information in the following table is stated in a medicine package. Also it is stated that for children weight is more important than age.\n",
    "\n",
    "Age\tNumber of pills\n",
    "Adults & adolescent\n",
    "\n",
    "over 40 kg\tover 12 years\t1-2st\n",
    "\n",
    "Children 26-40 kg\t7-12 years\t1/2-1st\n",
    "\n",
    "Children 15-25 kg\t3-7 years\t1/2st\n",
    "\n",
    "Let the user input an age and a weight, the program should recommend the number of pills for the user."
   ]
  },
  {
   "cell_type": "code",
   "execution_count": 9,
   "metadata": {},
   "outputs": [
    {
     "name": "stdout",
     "output_type": "stream",
     "text": [
      "Your stats doesnt fit in a category\n",
      "Your recommended dose are 1-2 pills.\n"
     ]
    }
   ],
   "source": [
    "while True: \n",
    "    try:\n",
    "        age = int(input(\"How old are you?\"))\n",
    "        weight = int(input(\"How much do you weigh?\"))\n",
    "\n",
    "        if weight >= 40 and age >= 12:\n",
    "            print(\"Your recommended dose are 1-2 pills.\")\n",
    "            break\n",
    "        elif weight >= 26 and weight <= 40 and age >= 7 and age <= 12:\n",
    "            print(\"Din rekommenderade dose are 1/2 to 1 pill\")\n",
    "            break\n",
    "        elif weight >= 15 and weight <= 25 and age <= 3 and age >= 7:\n",
    "            print(\"Yout recommendet dose are 1/2 pill\")\n",
    "            break\n",
    "        else: \n",
    "            raise ValueError(\"Your stats doesnt fit in a category\")\n",
    "    except ValueError as err:\n",
    "        print(err)"
   ]
  },
  {
   "cell_type": "markdown",
   "metadata": {},
   "source": [
    "## 1.4 Divisible (*)\n",
    "Let the user input a number. Check if the number is\n",
    "\n",
    "1. even or odd\n",
    "2. is divisible by 5\n",
    "3. is divisble by 5 and odd"
   ]
  },
  {
   "cell_type": "code",
   "execution_count": 11,
   "metadata": {},
   "outputs": [
    {
     "name": "stdout",
     "output_type": "stream",
     "text": [
      "Your number are even\n"
     ]
    }
   ],
   "source": [
    "try:\n",
    "    number = int(input(\"Write a number: \"))\n",
    "    \n",
    "    if not number % 2 == 0:\n",
    "        raise ValueError(\"Your number are odd\")\n",
    "    print(\"Your number are even\")\n",
    "    \n",
    "except ValueError as err:\n",
    "    print(err)"
   ]
  },
  {
   "cell_type": "code",
   "execution_count": 38,
   "metadata": {},
   "outputs": [
    {
     "name": "stdout",
     "output_type": "stream",
     "text": [
      "8 cant be divided by 5.\n",
      "10 can be divided by 5 and it is 2.0\n"
     ]
    }
   ],
   "source": [
    "while True:\n",
    "    try:\n",
    "        number = int(input(\"Write a number: \"))\n",
    "        \n",
    "        if not number % 5 == 0:\n",
    "            raise ValueError(f\"{number} cant be divided by 5.\")\n",
    "        print(f\"{number} can be divided by 5 and it is {number/5}\")\n",
    "        break\n",
    "    except ValueError as err:\n",
    "        print(err)"
   ]
  },
  {
   "cell_type": "code",
   "execution_count": 70,
   "metadata": {},
   "outputs": [
    {
     "name": "stdout",
     "output_type": "stream",
     "text": [
      "14 are not even and divisible by 5.\n",
      "14 are not even and divisible by 5.\n",
      "15 are not even and divisible by 5.\n",
      "20 are even and divisible by 5 and it is 4.0\n"
     ]
    }
   ],
   "source": [
    "while True:\n",
    "    try:\n",
    "        number = int(input(\"Write a number: \"))\n",
    "        \n",
    "        if not (number % 2 == 0 and number % 5 == 0):\n",
    "            raise ValueError(f\"{number} are not even and divisible by 5.\")\n",
    "        print(f\"{number} are even and divisible by 5 and it is {number/5}\")\n",
    "        break\n",
    "    except ValueError as err:\n",
    "        print(err)"
   ]
  },
  {
   "cell_type": "markdown",
   "metadata": {},
   "source": [
    "## 1.5 Luggage size (*)\n",
    "The maximum allowed luggage size for boarding an airplane is:\n",
    "\n",
    "- weight: 8kg\n",
    "- dimensions: 55x40x23cm (length x width x height)\n",
    "1. Let the user input weight, length, width and height of the luggage. \n",
    "2. The program should check if the luggage is allowed or not."
   ]
  },
  {
   "cell_type": "code",
   "execution_count": 72,
   "metadata": {},
   "outputs": [
    {
     "name": "stdout",
     "output_type": "stream",
     "text": [
      "Luggage not allowed to board. Ensure all measurements are within limits.\n",
      "Luggage allowed\n"
     ]
    }
   ],
   "source": [
    "while True:\n",
    "    try:\n",
    "        weight = float(input(\"Luggage weight (kg): \"))\n",
    "        length = float(input(\"Luggage length (cm): \"))\n",
    "        width = float(input(\"Luggage width (cm): \"))\n",
    "        height = float(input(\"Luggage height(cm): \"))\n",
    "        \n",
    "        if not (weight <= 8 and length <= 55 and width <= 40 and height <= 23):\n",
    "            raise ValueError(\"Luggage not allowed to board. Ensure all measurements are within limits.\")\n",
    "        print(\"Luggage allowed\")\n",
    "        break\n",
    "    except ValueError as err:\n",
    "        print(err)"
   ]
  }
 ],
 "metadata": {
  "kernelspec": {
   "display_name": "venv",
   "language": "python",
   "name": "python3"
  },
  "language_info": {
   "codemirror_mode": {
    "name": "ipython",
    "version": 3
   },
   "file_extension": ".py",
   "mimetype": "text/x-python",
   "name": "python",
   "nbconvert_exporter": "python",
   "pygments_lexer": "ipython3",
   "version": "3.11.7"
  }
 },
 "nbformat": 4,
 "nbformat_minor": 2
}
