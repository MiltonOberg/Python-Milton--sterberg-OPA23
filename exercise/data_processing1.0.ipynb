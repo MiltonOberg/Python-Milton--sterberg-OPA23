{
 "cells": [
  {
   "cell_type": "markdown",
   "metadata": {},
   "source": [
    "## 0. Cities in Sweden - create dataset (*)\n",
    "\n",
    "Create this DataFrame from scratch: \n",
    "\n",
    "|    | Kommun    |   Population |\n",
    "|---:|:----------|-------------:|\n",
    "|  0 | Malmö     |       347949 |\n",
    "|  1 | Stockholm |       975551 |\n",
    "|  2 | Uppsala   |       233839 |\n",
    "|  3 | Göteborg  |       583056 |\n",
    "\n",
    "&nbsp; a) Use your DataFrame to print out all the cities. (*)\n",
    "\n",
    "&nbsp; b) Select only the row which contains Göteborg. Do this by using the name Göteborg. (*)\n",
    "\n",
    "&nbsp; c) Sort the cities by population from largest to smallest. (*)\n",
    "\n",
    "&nbsp; d) Filter out the three largest cities. (*)\n",
    "\n",
    "&nbsp; e) The whole population in Sweden 2020 is 10379295. Use this number to create a new column in your sorted DataFrame named: Population (%). This column should be filled with percentage of the Swedish population for each city. "
   ]
  },
  {
   "cell_type": "code",
   "execution_count": 281,
   "metadata": {},
   "outputs": [
    {
     "name": "stdout",
     "output_type": "stream",
     "text": [
      "('Malmö', 347949)\n",
      "('Stockholm', 975551)\n",
      "('Uppsala', 233839)\n",
      "('Göteborg', 583056)\n"
     ]
    }
   ],
   "source": [
    "import pandas as pd\n",
    "city = [\"Malmö\", \"Stockholm\", \"Uppsala\", \"Göteborg\"]\n",
    "population = [347949, 975551, 233839, 583056]\n",
    "\n",
    "cities = list(zip(city, population))\n",
    "for x in cities:\n",
    "    print(x)"
   ]
  },
  {
   "cell_type": "code",
   "execution_count": 282,
   "metadata": {},
   "outputs": [
    {
     "data": {
      "text/html": [
       "<div>\n",
       "<style scoped>\n",
       "    .dataframe tbody tr th:only-of-type {\n",
       "        vertical-align: middle;\n",
       "    }\n",
       "\n",
       "    .dataframe tbody tr th {\n",
       "        vertical-align: top;\n",
       "    }\n",
       "\n",
       "    .dataframe thead th {\n",
       "        text-align: right;\n",
       "    }\n",
       "</style>\n",
       "<table border=\"1\" class=\"dataframe\">\n",
       "  <thead>\n",
       "    <tr style=\"text-align: right;\">\n",
       "      <th></th>\n",
       "      <th>City</th>\n",
       "      <th>Population</th>\n",
       "    </tr>\n",
       "  </thead>\n",
       "  <tbody>\n",
       "    <tr>\n",
       "      <th>0</th>\n",
       "      <td>Malmö</td>\n",
       "      <td>347949</td>\n",
       "    </tr>\n",
       "    <tr>\n",
       "      <th>1</th>\n",
       "      <td>Stockholm</td>\n",
       "      <td>975551</td>\n",
       "    </tr>\n",
       "    <tr>\n",
       "      <th>2</th>\n",
       "      <td>Uppsala</td>\n",
       "      <td>233839</td>\n",
       "    </tr>\n",
       "    <tr>\n",
       "      <th>3</th>\n",
       "      <td>Göteborg</td>\n",
       "      <td>583056</td>\n",
       "    </tr>\n",
       "  </tbody>\n",
       "</table>\n",
       "</div>"
      ],
      "text/plain": [
       "        City  Population\n",
       "0      Malmö      347949\n",
       "1  Stockholm      975551\n",
       "2    Uppsala      233839\n",
       "3   Göteborg      583056"
      ]
     },
     "execution_count": 282,
     "metadata": {},
     "output_type": "execute_result"
    }
   ],
   "source": [
    "matrix = pd.DataFrame(cities, columns = [\"City\", \"Population\"], index = [f\"{i}\" for i in range(4)])\n",
    "matrix"
   ]
  },
  {
   "cell_type": "code",
   "execution_count": 283,
   "metadata": {},
   "outputs": [
    {
     "name": "stdout",
     "output_type": "stream",
     "text": [
      "Malmö\n",
      "Stockholm\n",
      "Uppsala\n",
      "Göteborg\n"
     ]
    }
   ],
   "source": [
    "for city in matrix[\"City\"]:\n",
    "    print(city)"
   ]
  },
  {
   "cell_type": "code",
   "execution_count": 284,
   "metadata": {},
   "outputs": [
    {
     "name": "stdout",
     "output_type": "stream",
     "text": [
      "       City  Population\n",
      "3  Göteborg      583056\n"
     ]
    }
   ],
   "source": [
    "gothenburg_row = matrix.query(\"City == 'Göteborg'\")\n",
    "print(gothenburg_row)"
   ]
  },
  {
   "cell_type": "code",
   "execution_count": 285,
   "metadata": {},
   "outputs": [],
   "source": [
    "matrix = pd.DataFrame(cities, columns = [\"City\", \"Population\"], index = [f\"{i}\" for i in range(4)])\n",
    "cities_largest = matrix.sort_values(by=\"Population\", ascending=False)"
   ]
  },
  {
   "cell_type": "code",
   "execution_count": 286,
   "metadata": {},
   "outputs": [
    {
     "data": {
      "text/html": [
       "<div>\n",
       "<style scoped>\n",
       "    .dataframe tbody tr th:only-of-type {\n",
       "        vertical-align: middle;\n",
       "    }\n",
       "\n",
       "    .dataframe tbody tr th {\n",
       "        vertical-align: top;\n",
       "    }\n",
       "\n",
       "    .dataframe thead th {\n",
       "        text-align: right;\n",
       "    }\n",
       "</style>\n",
       "<table border=\"1\" class=\"dataframe\">\n",
       "  <thead>\n",
       "    <tr style=\"text-align: right;\">\n",
       "      <th></th>\n",
       "      <th>City</th>\n",
       "      <th>Population</th>\n",
       "    </tr>\n",
       "  </thead>\n",
       "  <tbody>\n",
       "    <tr>\n",
       "      <th>2</th>\n",
       "      <td>Uppsala</td>\n",
       "      <td>233839</td>\n",
       "    </tr>\n",
       "  </tbody>\n",
       "</table>\n",
       "</div>"
      ],
      "text/plain": [
       "      City  Population\n",
       "2  Uppsala      233839"
      ]
     },
     "execution_count": 286,
     "metadata": {},
     "output_type": "execute_result"
    }
   ],
   "source": [
    "smalest_cities = cities_largest[3:]\n",
    "smalest_cities"
   ]
  },
  {
   "cell_type": "code",
   "execution_count": 287,
   "metadata": {},
   "outputs": [
    {
     "data": {
      "text/html": [
       "<div>\n",
       "<style scoped>\n",
       "    .dataframe tbody tr th:only-of-type {\n",
       "        vertical-align: middle;\n",
       "    }\n",
       "\n",
       "    .dataframe tbody tr th {\n",
       "        vertical-align: top;\n",
       "    }\n",
       "\n",
       "    .dataframe thead th {\n",
       "        text-align: right;\n",
       "    }\n",
       "</style>\n",
       "<table border=\"1\" class=\"dataframe\">\n",
       "  <thead>\n",
       "    <tr style=\"text-align: right;\">\n",
       "      <th></th>\n",
       "      <th>City</th>\n",
       "      <th>Population</th>\n",
       "      <th>Population%</th>\n",
       "    </tr>\n",
       "  </thead>\n",
       "  <tbody>\n",
       "    <tr>\n",
       "      <th>0</th>\n",
       "      <td>Malmö</td>\n",
       "      <td>347949</td>\n",
       "      <td>3.352338</td>\n",
       "    </tr>\n",
       "    <tr>\n",
       "      <th>1</th>\n",
       "      <td>Stockholm</td>\n",
       "      <td>975551</td>\n",
       "      <td>9.399010</td>\n",
       "    </tr>\n",
       "    <tr>\n",
       "      <th>2</th>\n",
       "      <td>Uppsala</td>\n",
       "      <td>233839</td>\n",
       "      <td>2.252937</td>\n",
       "    </tr>\n",
       "    <tr>\n",
       "      <th>3</th>\n",
       "      <td>Göteborg</td>\n",
       "      <td>583056</td>\n",
       "      <td>5.617491</td>\n",
       "    </tr>\n",
       "  </tbody>\n",
       "</table>\n",
       "</div>"
      ],
      "text/plain": [
       "        City  Population  Population%\n",
       "0      Malmö      347949     3.352338\n",
       "1  Stockholm      975551     9.399010\n",
       "2    Uppsala      233839     2.252937\n",
       "3   Göteborg      583056     5.617491"
      ]
     },
     "execution_count": 287,
     "metadata": {},
     "output_type": "execute_result"
    }
   ],
   "source": [
    "swe_pop = 10379295\n",
    "matrix[\"Population%\"] = (matrix[\"Population\"]/swe_pop)*100\n",
    "matrix"
   ]
  },
  {
   "cell_type": "markdown",
   "metadata": {},
   "source": [
    "## 1. Cities in Sweden - real dataset (*)\n",
    "\n",
    "\n",
    "Download the file komtopp50_2020.xlsx from the course github repo. The data is taken from SCB. \n",
    "\n",
    "&nbsp; a) Read in the tab \"Totalt\" into a DataFrame and start exploring the data with some simple explorations such as\n",
    "\n",
    "```python\n",
    "df.head()\n",
    "df.info()\n",
    "df.describe()\n",
    "```\n",
    "\n",
    "Feel free to do more explorations. (*)\n",
    "\n",
    "&nbsp; b) Clean your data so that the head looks like this: (*)\n",
    "\n",
    "\n",
    "|    |   Rang 2020 |   Rang 2019 | Kommun   |   Folkmängd 2020 |   Folkmängd 2019 |   Förändring |\n",
    "|---:|------------:|------------:|:---------|-----------------:|-----------------:|-------------:|\n",
    "|  0 |          83 |          84 | Ale      |            31868 |            31402 |     1.48398  |\n",
    "|  1 |          64 |          64 | Alingsås |            41602 |            41420 |     0.439401 |\n",
    "|  2 |         123 |         123 | Alvesta  |            20224 |            20134 |     0.447005 |\n",
    "|  3 |         255 |         255 | Aneby    |             6821 |             6848 |    -0.394276 |\n",
    "|  4 |         169 |         167 | Arboga   |            14039 |            14087 |    -0.34074  |\n",
    "\n",
    "&nbsp; c) Sort the cities by population from largest to smallest. (*)\n",
    "\n",
    "&nbsp; d) Filter out the five smallest cities. (*)\n",
    "\n",
    "&nbsp; e) Use the DataFrame to calculate Sweden's population in 2019 and 2020. (*)\n",
    "\n",
    "&nbsp; f) Plot a bar chart for the five largest cities and the five smallest cities. (*) "
   ]
  },
  {
   "cell_type": "code",
   "execution_count": 288,
   "metadata": {},
   "outputs": [
    {
     "data": {
      "text/html": [
       "<div>\n",
       "<style scoped>\n",
       "    .dataframe tbody tr th:only-of-type {\n",
       "        vertical-align: middle;\n",
       "    }\n",
       "\n",
       "    .dataframe tbody tr th {\n",
       "        vertical-align: top;\n",
       "    }\n",
       "\n",
       "    .dataframe thead th {\n",
       "        text-align: right;\n",
       "    }\n",
       "</style>\n",
       "<table border=\"1\" class=\"dataframe\">\n",
       "  <thead>\n",
       "    <tr style=\"text-align: right;\">\n",
       "      <th></th>\n",
       "      <th>Unnamed: 0</th>\n",
       "      <th>Unnamed: 1</th>\n",
       "      <th>Unnamed: 2</th>\n",
       "      <th>Unnamed: 3</th>\n",
       "      <th>Unnamed: 4</th>\n",
       "      <th>Unnamed: 5</th>\n",
       "    </tr>\n",
       "  </thead>\n",
       "  <tbody>\n",
       "    <tr>\n",
       "      <th>0</th>\n",
       "      <td>NaN</td>\n",
       "      <td>NaN</td>\n",
       "      <td>NaN</td>\n",
       "      <td>NaN</td>\n",
       "      <td>NaN</td>\n",
       "      <td>NaN</td>\n",
       "    </tr>\n",
       "    <tr>\n",
       "      <th>1</th>\n",
       "      <td>Folkmängd per kommun 31 december 2020 jämfört ...</td>\n",
       "      <td>NaN</td>\n",
       "      <td>NaN</td>\n",
       "      <td>NaN</td>\n",
       "      <td>NaN</td>\n",
       "      <td>NaN</td>\n",
       "    </tr>\n",
       "    <tr>\n",
       "      <th>2</th>\n",
       "      <td>Sorterat i alfabetisk ordning. Rangordning frå...</td>\n",
       "      <td>NaN</td>\n",
       "      <td>NaN</td>\n",
       "      <td>NaN</td>\n",
       "      <td>NaN</td>\n",
       "      <td>NaN</td>\n",
       "    </tr>\n",
       "    <tr>\n",
       "      <th>3</th>\n",
       "      <td>NaN</td>\n",
       "      <td>NaN</td>\n",
       "      <td>NaN</td>\n",
       "      <td>NaN</td>\n",
       "      <td>NaN</td>\n",
       "      <td>NaN</td>\n",
       "    </tr>\n",
       "    <tr>\n",
       "      <th>4</th>\n",
       "      <td>Rang</td>\n",
       "      <td>NaN</td>\n",
       "      <td>Kommun</td>\n",
       "      <td>Folkmängd 31 december</td>\n",
       "      <td>NaN</td>\n",
       "      <td>Förändring</td>\n",
       "    </tr>\n",
       "  </tbody>\n",
       "</table>\n",
       "</div>"
      ],
      "text/plain": [
       "                                          Unnamed: 0  Unnamed: 1 Unnamed: 2  \\\n",
       "0                                                NaN         NaN        NaN   \n",
       "1  Folkmängd per kommun 31 december 2020 jämfört ...         NaN        NaN   \n",
       "2  Sorterat i alfabetisk ordning. Rangordning frå...         NaN        NaN   \n",
       "3                                                NaN         NaN        NaN   \n",
       "4                                               Rang         NaN     Kommun   \n",
       "\n",
       "              Unnamed: 3  Unnamed: 4  Unnamed: 5  \n",
       "0                    NaN         NaN         NaN  \n",
       "1                    NaN         NaN         NaN  \n",
       "2                    NaN         NaN         NaN  \n",
       "3                    NaN         NaN         NaN  \n",
       "4  Folkmängd 31 december         NaN  Förändring  "
      ]
     },
     "execution_count": 288,
     "metadata": {},
     "output_type": "execute_result"
    }
   ],
   "source": [
    "df = pd.read_excel(\"../Data/komtopp50_2020.xlsx\", sheet_name=\"Totalt\")\n",
    "df.head()"
   ]
  },
  {
   "cell_type": "code",
   "execution_count": 289,
   "metadata": {},
   "outputs": [],
   "source": [
    "df = df.rename(columns={\n",
    "               \"Unnamed: 0\": \"Rang 2020\",\n",
    "               \"Unnamed: 1\": \"Rang 2019\",\n",
    "               \"Unnamed: 2\": \"Kommun\",\n",
    "               \"Unnamed: 3\": \"Folkmängd 2020\",\n",
    "               \"Unnamed: 4\": \"Folkmängd 2019\",\n",
    "               \"Unnamed: 5\": \"Förändring\",\n",
    "               \" \": \"Index\"})"
   ]
  },
  {
   "cell_type": "code",
   "execution_count": 290,
   "metadata": {},
   "outputs": [],
   "source": [
    "df = df.dropna().reset_index()"
   ]
  },
  {
   "cell_type": "code",
   "execution_count": 294,
   "metadata": {},
   "outputs": [
    {
     "data": {
      "text/html": [
       "<div>\n",
       "<style scoped>\n",
       "    .dataframe tbody tr th:only-of-type {\n",
       "        vertical-align: middle;\n",
       "    }\n",
       "\n",
       "    .dataframe tbody tr th {\n",
       "        vertical-align: top;\n",
       "    }\n",
       "\n",
       "    .dataframe thead th {\n",
       "        text-align: right;\n",
       "    }\n",
       "</style>\n",
       "<table border=\"1\" class=\"dataframe\">\n",
       "  <thead>\n",
       "    <tr style=\"text-align: right;\">\n",
       "      <th></th>\n",
       "      <th>index</th>\n",
       "      <th>Rang 2020</th>\n",
       "      <th>Rang 2019</th>\n",
       "      <th>Kommun</th>\n",
       "      <th>Folkmängd 2020</th>\n",
       "      <th>Folkmängd 2019</th>\n",
       "      <th>Förändring</th>\n",
       "    </tr>\n",
       "  </thead>\n",
       "  <tbody>\n",
       "    <tr>\n",
       "      <th>0</th>\n",
       "      <td>6</td>\n",
       "      <td>83</td>\n",
       "      <td>84.0</td>\n",
       "      <td>Ale</td>\n",
       "      <td>31868</td>\n",
       "      <td>31402.0</td>\n",
       "      <td>1.483982</td>\n",
       "    </tr>\n",
       "    <tr>\n",
       "      <th>1</th>\n",
       "      <td>7</td>\n",
       "      <td>64</td>\n",
       "      <td>64.0</td>\n",
       "      <td>Alingsås</td>\n",
       "      <td>41602</td>\n",
       "      <td>41420.0</td>\n",
       "      <td>0.439401</td>\n",
       "    </tr>\n",
       "    <tr>\n",
       "      <th>2</th>\n",
       "      <td>8</td>\n",
       "      <td>123</td>\n",
       "      <td>123.0</td>\n",
       "      <td>Alvesta</td>\n",
       "      <td>20224</td>\n",
       "      <td>20134.0</td>\n",
       "      <td>0.447005</td>\n",
       "    </tr>\n",
       "    <tr>\n",
       "      <th>3</th>\n",
       "      <td>9</td>\n",
       "      <td>255</td>\n",
       "      <td>255.0</td>\n",
       "      <td>Aneby</td>\n",
       "      <td>6821</td>\n",
       "      <td>6848.0</td>\n",
       "      <td>-0.394276</td>\n",
       "    </tr>\n",
       "    <tr>\n",
       "      <th>4</th>\n",
       "      <td>10</td>\n",
       "      <td>169</td>\n",
       "      <td>167.0</td>\n",
       "      <td>Arboga</td>\n",
       "      <td>14039</td>\n",
       "      <td>14087.0</td>\n",
       "      <td>-0.34074</td>\n",
       "    </tr>\n",
       "  </tbody>\n",
       "</table>\n",
       "</div>"
      ],
      "text/plain": [
       "   index Rang 2020  Rang 2019    Kommun Folkmängd 2020  Folkmängd 2019  \\\n",
       "0      6        83       84.0       Ale          31868         31402.0   \n",
       "1      7        64       64.0  Alingsås          41602         41420.0   \n",
       "2      8       123      123.0   Alvesta          20224         20134.0   \n",
       "3      9       255      255.0     Aneby           6821          6848.0   \n",
       "4     10       169      167.0    Arboga          14039         14087.0   \n",
       "\n",
       "  Förändring  \n",
       "0   1.483982  \n",
       "1   0.439401  \n",
       "2   0.447005  \n",
       "3  -0.394276  \n",
       "4   -0.34074  "
      ]
     },
     "execution_count": 294,
     "metadata": {},
     "output_type": "execute_result"
    }
   ],
   "source": [
    "df.head()"
   ]
  },
  {
   "cell_type": "code",
   "execution_count": null,
   "metadata": {},
   "outputs": [],
   "source": []
  }
 ],
 "metadata": {
  "kernelspec": {
   "display_name": "venv",
   "language": "python",
   "name": "python3"
  },
  "language_info": {
   "codemirror_mode": {
    "name": "ipython",
    "version": 3
   },
   "file_extension": ".py",
   "mimetype": "text/x-python",
   "name": "python",
   "nbconvert_exporter": "python",
   "pygments_lexer": "ipython3",
   "version": "3.11.8"
  }
 },
 "nbformat": 4,
 "nbformat_minor": 2
}
