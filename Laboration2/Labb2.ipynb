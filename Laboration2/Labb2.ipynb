{
 "cells": [
  {
   "cell_type": "code",
   "execution_count": 6,
   "metadata": {},
   "outputs": [],
   "source": [
    "import pandas as pd\n",
    "import matplotlib.pyplot as plt"
   ]
  },
  {
   "cell_type": "markdown",
   "metadata": {},
   "source": [
    "## Reads in all sheets in Riket"
   ]
  },
  {
   "cell_type": "code",
   "execution_count": 8,
   "metadata": {},
   "outputs": [],
   "source": [
    "df_country_english= pd.read_excel(\"../Data/riket2023_åk9_np.xlsx\", sheet_name= \"Engelska\", skiprows= 7)\n",
    "df_country_math= pd.read_excel(\"../Data/riket2023_åk9_np.xlsx\", sheet_name= \"Matematik\", skiprows= 7)\n",
    "df_country_swedish= pd.read_excel(\"../Data/riket2023_åk9_np.xlsx\", sheet_name= \"Svenska\", skiprows= 7)\n",
    "df_country_swedish2= pd.read_excel(\"../Data/riket2023_åk9_np.xlsx\", sheet_name= \"Svenska som andraspråk\", skiprows= 7)\n",
    "df_country_rapport= pd.read_excel(\"../Data/riket2023_åk9_np.xlsx\", sheet_name= \"Rapportbeskrivning och def.\")"
   ]
  },
  {
   "cell_type": "code",
   "execution_count": null,
   "metadata": {},
   "outputs": [],
   "source": []
  }
 ],
 "metadata": {
  "kernelspec": {
   "display_name": "venv",
   "language": "python",
   "name": "python3"
  },
  "language_info": {
   "codemirror_mode": {
    "name": "ipython",
    "version": 3
   },
   "file_extension": ".py",
   "mimetype": "text/x-python",
   "name": "python",
   "nbconvert_exporter": "python",
   "pygments_lexer": "ipython3",
   "version": "3.11.8"
  }
 },
 "nbformat": 4,
 "nbformat_minor": 2
}
