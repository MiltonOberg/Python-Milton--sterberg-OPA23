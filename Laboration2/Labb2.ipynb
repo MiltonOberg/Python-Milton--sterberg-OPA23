{
 "cells": [
  {
   "cell_type": "code",
   "execution_count": 21,
   "metadata": {},
   "outputs": [],
   "source": [
    "import numpy as np\n",
    "import pandas as pd\n",
    "import matplotlib.pyplot as plt"
   ]
  },
  {
   "cell_type": "markdown",
   "metadata": {},
   "source": [
    "## Reads in all sheets in Riket"
   ]
  },
  {
   "cell_type": "markdown",
   "metadata": {},
   "source": [
    "## A)"
   ]
  },
  {
   "cell_type": "code",
   "execution_count": 22,
   "metadata": {},
   "outputs": [
    {
     "data": {
      "text/html": [
       "<div>\n",
       "<style scoped>\n",
       "    .dataframe tbody tr th:only-of-type {\n",
       "        vertical-align: middle;\n",
       "    }\n",
       "\n",
       "    .dataframe tbody tr th {\n",
       "        vertical-align: top;\n",
       "    }\n",
       "\n",
       "    .dataframe thead th {\n",
       "        text-align: right;\n",
       "    }\n",
       "</style>\n",
       "<table border=\"1\" class=\"dataframe\">\n",
       "  <thead>\n",
       "    <tr style=\"text-align: right;\">\n",
       "      <th></th>\n",
       "      <th>Riket</th>\n",
       "      <th>Typ av huvudman</th>\n",
       "      <th>Totalt</th>\n",
       "      <th>Flickor</th>\n",
       "      <th>Pojkar</th>\n",
       "      <th>Totalt</th>\n",
       "      <th>Flickor</th>\n",
       "      <th>Pojkar</th>\n",
       "      <th>Totalt</th>\n",
       "      <th>Flickor</th>\n",
       "      <th>Pojkar</th>\n",
       "    </tr>\n",
       "  </thead>\n",
       "  <tbody>\n",
       "    <tr>\n",
       "      <th>0</th>\n",
       "      <td>Riket</td>\n",
       "      <td>Samtliga</td>\n",
       "      <td>106941</td>\n",
       "      <td>51864</td>\n",
       "      <td>55077</td>\n",
       "      <td>97.0</td>\n",
       "      <td>97.1</td>\n",
       "      <td>97.0</td>\n",
       "      <td>15.7</td>\n",
       "      <td>15.8</td>\n",
       "      <td>15.7</td>\n",
       "    </tr>\n",
       "    <tr>\n",
       "      <th>1</th>\n",
       "      <td>Riket</td>\n",
       "      <td>Kommunal</td>\n",
       "      <td>84310</td>\n",
       "      <td>40675</td>\n",
       "      <td>43635</td>\n",
       "      <td>96.6</td>\n",
       "      <td>96.6</td>\n",
       "      <td>96.6</td>\n",
       "      <td>15.4</td>\n",
       "      <td>15.5</td>\n",
       "      <td>15.4</td>\n",
       "    </tr>\n",
       "    <tr>\n",
       "      <th>2</th>\n",
       "      <td>Riket</td>\n",
       "      <td>Enskild</td>\n",
       "      <td>22582</td>\n",
       "      <td>11165</td>\n",
       "      <td>11417</td>\n",
       "      <td>98.7</td>\n",
       "      <td>98.8</td>\n",
       "      <td>98.7</td>\n",
       "      <td>16.9</td>\n",
       "      <td>17.0</td>\n",
       "      <td>16.8</td>\n",
       "    </tr>\n",
       "    <tr>\n",
       "      <th>3</th>\n",
       "      <td>Riket</td>\n",
       "      <td>Skolverket</td>\n",
       "      <td>49</td>\n",
       "      <td>24</td>\n",
       "      <td>25</td>\n",
       "      <td>100.0</td>\n",
       "      <td>100.0</td>\n",
       "      <td>100.0</td>\n",
       "      <td>18.5</td>\n",
       "      <td>18.9</td>\n",
       "      <td>18.2</td>\n",
       "    </tr>\n",
       "  </tbody>\n",
       "</table>\n",
       "</div>"
      ],
      "text/plain": [
       "   Riket Typ av huvudman  Totalt  Flickor  Pojkar  Totalt   Flickor   Pojkar   \\\n",
       "0  Riket        Samtliga  106941    51864   55077     97.0      97.1     97.0   \n",
       "1  Riket        Kommunal   84310    40675   43635     96.6      96.6     96.6   \n",
       "2  Riket         Enskild   22582    11165   11417     98.7      98.8     98.7   \n",
       "3  Riket      Skolverket      49       24      25    100.0     100.0    100.0   \n",
       "\n",
       "   Totalt    Flickor    Pojkar    \n",
       "0      15.7       15.8      15.7  \n",
       "1      15.4       15.5      15.4  \n",
       "2      16.9       17.0      16.8  \n",
       "3      18.5       18.9      18.2  "
      ]
     },
     "execution_count": 22,
     "metadata": {},
     "output_type": "execute_result"
    }
   ],
   "source": [
    "df_country_english= pd.read_excel(\"../Data/riket2023_åk9_np.xlsx\", sheet_name= \"Engelska\", skiprows= 8)\n",
    "df_country_math= pd.read_excel(\"../Data/riket2023_åk9_np.xlsx\", sheet_name= \"Matematik\", skiprows= 8)\n",
    "df_country_swedish= pd.read_excel(\"../Data/riket2023_åk9_np.xlsx\", sheet_name= \"Svenska\", skiprows= 8)\n",
    "df_country_swedish2= pd.read_excel(\"../Data/riket2023_åk9_np.xlsx\", sheet_name= \"Svenska som andraspråk\", skiprows= 8)\n",
    "df_country_rapport= pd.read_excel(\"../Data/riket2023_åk9_np.xlsx\", sheet_name= \"Rapportbeskrivning och def.\")\n",
    "df_country_english"
   ]
  },
  {
   "cell_type": "code",
   "execution_count": 23,
   "metadata": {},
   "outputs": [
    {
     "name": "stderr",
     "output_type": "stream",
     "text": [
      "C:\\Users\\milto\\AppData\\Local\\Temp\\ipykernel_19712\\1773548713.py:26: FutureWarning: Downcasting behavior in `replace` is deprecated and will be removed in a future version. To retain the old behavior, explicitly call `result.infer_objects(copy=False)`. To opt-in to the future behavior, set `pd.set_option('future.no_silent_downcasting', True)`\n",
      "  dfs[subject][column] = dfs[subject][column].replace(\"..\", 0)\n"
     ]
    },
    {
     "data": {
      "text/html": [
       "<div>\n",
       "<style scoped>\n",
       "    .dataframe tbody tr th:only-of-type {\n",
       "        vertical-align: middle;\n",
       "    }\n",
       "\n",
       "    .dataframe tbody tr th {\n",
       "        vertical-align: top;\n",
       "    }\n",
       "\n",
       "    .dataframe thead th {\n",
       "        text-align: right;\n",
       "    }\n",
       "</style>\n",
       "<table border=\"1\" class=\"dataframe\">\n",
       "  <thead>\n",
       "    <tr style=\"text-align: right;\">\n",
       "      <th></th>\n",
       "      <th>Riket</th>\n",
       "      <th>Huvudman</th>\n",
       "      <th>Totalt(A-F)</th>\n",
       "      <th>Flickor(A-F)</th>\n",
       "      <th>Pojkar(A-F)</th>\n",
       "      <th>Totalt%(A-E)</th>\n",
       "      <th>Flickor%(A-E)</th>\n",
       "      <th>Pojkar%(A-E)</th>\n",
       "      <th>Totalt(Poäng)</th>\n",
       "      <th>Flickor(Poäng)</th>\n",
       "      <th>Pojkar(Poäng)</th>\n",
       "    </tr>\n",
       "  </thead>\n",
       "  <tbody>\n",
       "    <tr>\n",
       "      <th>0</th>\n",
       "      <td>Riket</td>\n",
       "      <td>Samtliga</td>\n",
       "      <td>14092</td>\n",
       "      <td>6447</td>\n",
       "      <td>7645</td>\n",
       "      <td>77.7</td>\n",
       "      <td>81.6</td>\n",
       "      <td>74.3</td>\n",
       "      <td>9.4</td>\n",
       "      <td>10.2</td>\n",
       "      <td>8.7</td>\n",
       "    </tr>\n",
       "    <tr>\n",
       "      <th>1</th>\n",
       "      <td>Riket</td>\n",
       "      <td>Kommunal</td>\n",
       "      <td>11963</td>\n",
       "      <td>5495</td>\n",
       "      <td>6468</td>\n",
       "      <td>75.9</td>\n",
       "      <td>80.0</td>\n",
       "      <td>72.4</td>\n",
       "      <td>9.0</td>\n",
       "      <td>9.9</td>\n",
       "      <td>8.3</td>\n",
       "    </tr>\n",
       "    <tr>\n",
       "      <th>2</th>\n",
       "      <td>Riket</td>\n",
       "      <td>Enskild</td>\n",
       "      <td>2122</td>\n",
       "      <td>949</td>\n",
       "      <td>1173</td>\n",
       "      <td>87.7</td>\n",
       "      <td>90.9</td>\n",
       "      <td>85.2</td>\n",
       "      <td>11.1</td>\n",
       "      <td>12.0</td>\n",
       "      <td>10.4</td>\n",
       "    </tr>\n",
       "    <tr>\n",
       "      <th>3</th>\n",
       "      <td>Riket</td>\n",
       "      <td>Skolverket</td>\n",
       "      <td>0</td>\n",
       "      <td>0</td>\n",
       "      <td>0</td>\n",
       "      <td>0.0</td>\n",
       "      <td>0.0</td>\n",
       "      <td>0.0</td>\n",
       "      <td>0.0</td>\n",
       "      <td>0.0</td>\n",
       "      <td>0.0</td>\n",
       "    </tr>\n",
       "  </tbody>\n",
       "</table>\n",
       "</div>"
      ],
      "text/plain": [
       "   Riket    Huvudman  Totalt(A-F)  Flickor(A-F)  Pojkar(A-F)  Totalt%(A-E)  \\\n",
       "0  Riket    Samtliga        14092          6447         7645          77.7   \n",
       "1  Riket    Kommunal        11963          5495         6468          75.9   \n",
       "2  Riket     Enskild         2122           949         1173          87.7   \n",
       "3  Riket  Skolverket            0             0            0           0.0   \n",
       "\n",
       "   Flickor%(A-E)  Pojkar%(A-E)  Totalt(Poäng)  Flickor(Poäng)  Pojkar(Poäng)  \n",
       "0           81.6          74.3            9.4            10.2            8.7  \n",
       "1           80.0          72.4            9.0             9.9            8.3  \n",
       "2           90.9          85.2           11.1            12.0           10.4  \n",
       "3            0.0           0.0            0.0             0.0            0.0  "
      ]
     },
     "execution_count": 23,
     "metadata": {},
     "output_type": "execute_result"
    }
   ],
   "source": [
    "dfs= {\n",
    "    \"English\": df_country_english,\n",
    "    \"Math\": df_country_math,\n",
    "    \"Swedish\": df_country_swedish,\n",
    "    \"Swedish2\": df_country_swedish2,\n",
    "    \"Report\": df_country_rapport\n",
    "}\n",
    "labels= [\n",
    "    \"\",\n",
    "    \"\",\n",
    "    \"(A-F)\",\n",
    "    \"(A-F)\",\n",
    "    \"(A-F)\",\n",
    "    \"%(A-E)\",\n",
    "    \"%(A-E)\",\n",
    "    \"%(A-E)\",\n",
    "    \"(Poäng)\",\n",
    "    \"(Poäng)\",\n",
    "    \"(Poäng)\"\n",
    "]\n",
    "columns_copy= []\n",
    "\n",
    "for subject in dfs:\n",
    "    \n",
    "    for column in dfs[subject].columns:\n",
    "        dfs[subject][column] = dfs[subject][column].replace(\"..\", 0)\n",
    "        \n",
    "        \n",
    "    dfs[subject].columns= dfs[subject].columns.str.replace(\" \"[0:], \"\")\n",
    "    dfs[subject]= dfs[subject].rename(columns= {\"Typavhuvudman\": \"Huvudman\"})\n",
    "    columns_copy= dfs[subject].columns.tolist()\n",
    "    columns_copy= [f\"{col}{label}\" for col, label in zip(dfs[subject].columns, labels)]\n",
    "    \n",
    "    dfs[subject].columns= columns_copy\n",
    "    \n",
    "df_country_english= dfs[\"English\"]\n",
    "df_country_math= dfs[\"Math\"]\n",
    "df_country_swedish= dfs[\"Swedish\"]\n",
    "df_country_swedish2= dfs[\"Swedish2\"]\n",
    "df_country_rapport= dfs[\"Report\"]\n",
    "df_country_swedish2"
   ]
  },
  {
   "cell_type": "markdown",
   "metadata": {},
   "source": [
    "## B)"
   ]
  },
  {
   "cell_type": "code",
   "execution_count": 24,
   "metadata": {},
   "outputs": [
    {
     "data": {
      "text/html": [
       "<div>\n",
       "<style scoped>\n",
       "    .dataframe tbody tr th:only-of-type {\n",
       "        vertical-align: middle;\n",
       "    }\n",
       "\n",
       "    .dataframe tbody tr th {\n",
       "        vertical-align: top;\n",
       "    }\n",
       "\n",
       "    .dataframe thead th {\n",
       "        text-align: right;\n",
       "    }\n",
       "</style>\n",
       "<table border=\"1\" class=\"dataframe\">\n",
       "  <thead>\n",
       "    <tr style=\"text-align: right;\">\n",
       "      <th></th>\n",
       "      <th>Riket</th>\n",
       "      <th>Huvudman</th>\n",
       "      <th>Totalt(A-F)</th>\n",
       "      <th>Flickor(A-F)</th>\n",
       "      <th>Pojkar(A-F)</th>\n",
       "      <th>Totalt%(A-E)</th>\n",
       "      <th>Flickor%(A-E)</th>\n",
       "      <th>Pojkar%(A-E)</th>\n",
       "      <th>Totalt(Poäng)</th>\n",
       "      <th>Flickor(Poäng)</th>\n",
       "      <th>Pojkar(Poäng)</th>\n",
       "    </tr>\n",
       "  </thead>\n",
       "  <tbody>\n",
       "    <tr>\n",
       "      <th>0</th>\n",
       "      <td>Riket</td>\n",
       "      <td>Samtliga</td>\n",
       "      <td>106766</td>\n",
       "      <td>51548</td>\n",
       "      <td>55218</td>\n",
       "      <td>89.1</td>\n",
       "      <td>88.7</td>\n",
       "      <td>89.5</td>\n",
       "      <td>11.9</td>\n",
       "      <td>11.8</td>\n",
       "      <td>12.0</td>\n",
       "    </tr>\n",
       "    <tr>\n",
       "      <th>1</th>\n",
       "      <td>Riket</td>\n",
       "      <td>Kommunal</td>\n",
       "      <td>84163</td>\n",
       "      <td>40386</td>\n",
       "      <td>43777</td>\n",
       "      <td>88.1</td>\n",
       "      <td>87.7</td>\n",
       "      <td>88.5</td>\n",
       "      <td>11.6</td>\n",
       "      <td>11.5</td>\n",
       "      <td>11.7</td>\n",
       "    </tr>\n",
       "    <tr>\n",
       "      <th>2</th>\n",
       "      <td>Riket</td>\n",
       "      <td>Enskild</td>\n",
       "      <td>22553</td>\n",
       "      <td>11137</td>\n",
       "      <td>11416</td>\n",
       "      <td>92.9</td>\n",
       "      <td>92.2</td>\n",
       "      <td>93.5</td>\n",
       "      <td>13.0</td>\n",
       "      <td>12.8</td>\n",
       "      <td>13.1</td>\n",
       "    </tr>\n",
       "    <tr>\n",
       "      <th>3</th>\n",
       "      <td>Riket</td>\n",
       "      <td>Skolverket</td>\n",
       "      <td>50</td>\n",
       "      <td>25</td>\n",
       "      <td>25</td>\n",
       "      <td>~100</td>\n",
       "      <td>~100</td>\n",
       "      <td>~100</td>\n",
       "      <td>14.1</td>\n",
       "      <td>13.5</td>\n",
       "      <td>14.7</td>\n",
       "    </tr>\n",
       "  </tbody>\n",
       "</table>\n",
       "</div>"
      ],
      "text/plain": [
       "   Riket    Huvudman  Totalt(A-F)  Flickor(A-F)  Pojkar(A-F) Totalt%(A-E)  \\\n",
       "0  Riket    Samtliga       106766         51548        55218         89.1   \n",
       "1  Riket    Kommunal        84163         40386        43777         88.1   \n",
       "2  Riket     Enskild        22553         11137        11416         92.9   \n",
       "3  Riket  Skolverket           50            25           25         ~100   \n",
       "\n",
       "  Flickor%(A-E) Pojkar%(A-E)  Totalt(Poäng)  Flickor(Poäng)  Pojkar(Poäng)  \n",
       "0          88.7         89.5           11.9            11.8           12.0  \n",
       "1          87.7         88.5           11.6            11.5           11.7  \n",
       "2          92.2         93.5           13.0            12.8           13.1  \n",
       "3          ~100         ~100           14.1            13.5           14.7  "
      ]
     },
     "execution_count": 24,
     "metadata": {},
     "output_type": "execute_result"
    }
   ],
   "source": [
    "df_country_math"
   ]
  },
  {
   "cell_type": "code",
   "execution_count": 25,
   "metadata": {},
   "outputs": [
    {
     "data": {
      "text/plain": [
       "11622.81"
      ]
     },
     "execution_count": 25,
     "metadata": {},
     "output_type": "execute_result"
    }
   ],
   "source": [
    "girls_f= round(df_country_math.loc[0, \"Flickor(A-F)\"]- df_country_math.loc[0, \"Flickor(A-F)\"]* (df_country_math.loc[0, \"Flickor%(A-E)\"]/ 100), 2)\n",
    "boys_f= round(df_country_math.loc[0, \"Pojkar(A-F)\"]- df_country_math.loc[0, \"Pojkar(A-F)\"]* (df_country_math.loc[0, \"Pojkar%(A-E)\"]/ 100), 2)\n",
    "grades_f= round(girls_f+ boys_f, 2)\n",
    "grades_f"
   ]
  },
  {
   "cell_type": "markdown",
   "metadata": {},
   "source": [
    "## C)"
   ]
  },
  {
   "cell_type": "code",
   "execution_count": 26,
   "metadata": {},
   "outputs": [
    {
     "data": {
      "image/png": "[encoded data removed]",
      "text/plain": [
       "<Figure size 640x480 with 1 Axes>"
      ]
     },
     "metadata": {},
     "output_type": "display_data"
    }
   ],
   "source": [
    "subject_score = {\n",
    "    \"English\": df_country_english.loc[1, \"Totalt(Poäng)\"],\n",
    "    \"Math\": df_country_math.loc[1, \"Totalt(Poäng)\"],\n",
    "    \"Swedish\": df_country_swedish.loc[1, \"Totalt(Poäng)\"],\n",
    "    \"Swedish2\": df_country_swedish2.loc[1, \"Totalt(Poäng)\"]\n",
    "}\n",
    "colors= {\n",
    "    \"RED1\": \"#D60C00\",\n",
    "    \"YELLOW1\": \"#F4D000\",\n",
    "    \"BLUE1\": \"#1400F4\",\n",
    "    \"BLUE2\": \"#00204E\",\n",
    "    \"GREEN1\": \"#4DF400\"\n",
    "}\n",
    "bar_colors= [\n",
    "    colors[\"BLUE1\"],\n",
    "    colors[\"RED1\"],\n",
    "    colors[\"YELLOW1\"],\n",
    "    colors[\"GREEN1\"]\n",
    "]\n",
    "\n",
    "subjects = list(subject_score.keys())\n",
    "scores = list(subject_score.values())\n",
    "\n",
    "############################################\n",
    "fig, ax_subjects= plt.subplots()\n",
    "ax_subjects.bar(subjects, scores, color= bar_colors)\n",
    "\n",
    "ax_subjects.spines[\"top\"].set_visible(False)\n",
    "ax_subjects.spines[\"right\"].set_visible(False)\n",
    "ax_subjects.spines[\"bottom\"].set_color(colors[\"BLUE2\"])\n",
    "ax_subjects.spines[\"left\"].set_color(colors[\"BLUE2\"])\n",
    "ax_subjects.tick_params(colors= colors[\"BLUE2\"])"
   ]
  },
  {
   "cell_type": "markdown",
   "metadata": {},
   "source": [
    "## D)"
   ]
  },
  {
   "cell_type": "code",
   "execution_count": 27,
   "metadata": {},
   "outputs": [
    {
     "data": {
      "text/html": [
       "<div>\n",
       "<style scoped>\n",
       "    .dataframe tbody tr th:only-of-type {\n",
       "        vertical-align: middle;\n",
       "    }\n",
       "\n",
       "    .dataframe tbody tr th {\n",
       "        vertical-align: top;\n",
       "    }\n",
       "\n",
       "    .dataframe thead th {\n",
       "        text-align: right;\n",
       "    }\n",
       "</style>\n",
       "<table border=\"1\" class=\"dataframe\">\n",
       "  <thead>\n",
       "    <tr style=\"text-align: right;\">\n",
       "      <th></th>\n",
       "      <th>Riket</th>\n",
       "      <th>Huvudman</th>\n",
       "      <th>Totalt(A-F)</th>\n",
       "      <th>Flickor(A-F)</th>\n",
       "      <th>Pojkar(A-F)</th>\n",
       "      <th>Totalt%(A-E)</th>\n",
       "      <th>Flickor%(A-E)</th>\n",
       "      <th>Pojkar%(A-E)</th>\n",
       "      <th>Totalt(Poäng)</th>\n",
       "      <th>Flickor(Poäng)</th>\n",
       "      <th>Pojkar(Poäng)</th>\n",
       "    </tr>\n",
       "  </thead>\n",
       "  <tbody>\n",
       "    <tr>\n",
       "      <th>0</th>\n",
       "      <td>Riket</td>\n",
       "      <td>Samtliga</td>\n",
       "      <td>14092</td>\n",
       "      <td>6447</td>\n",
       "      <td>7645</td>\n",
       "      <td>77.7</td>\n",
       "      <td>81.6</td>\n",
       "      <td>74.3</td>\n",
       "      <td>9.4</td>\n",
       "      <td>10.2</td>\n",
       "      <td>8.7</td>\n",
       "    </tr>\n",
       "    <tr>\n",
       "      <th>1</th>\n",
       "      <td>Riket</td>\n",
       "      <td>Kommunal</td>\n",
       "      <td>11963</td>\n",
       "      <td>5495</td>\n",
       "      <td>6468</td>\n",
       "      <td>75.9</td>\n",
       "      <td>80.0</td>\n",
       "      <td>72.4</td>\n",
       "      <td>9.0</td>\n",
       "      <td>9.9</td>\n",
       "      <td>8.3</td>\n",
       "    </tr>\n",
       "    <tr>\n",
       "      <th>2</th>\n",
       "      <td>Riket</td>\n",
       "      <td>Enskild</td>\n",
       "      <td>2122</td>\n",
       "      <td>949</td>\n",
       "      <td>1173</td>\n",
       "      <td>87.7</td>\n",
       "      <td>90.9</td>\n",
       "      <td>85.2</td>\n",
       "      <td>11.1</td>\n",
       "      <td>12.0</td>\n",
       "      <td>10.4</td>\n",
       "    </tr>\n",
       "    <tr>\n",
       "      <th>3</th>\n",
       "      <td>Riket</td>\n",
       "      <td>Skolverket</td>\n",
       "      <td>0</td>\n",
       "      <td>0</td>\n",
       "      <td>0</td>\n",
       "      <td>0.0</td>\n",
       "      <td>0.0</td>\n",
       "      <td>0.0</td>\n",
       "      <td>0.0</td>\n",
       "      <td>0.0</td>\n",
       "      <td>0.0</td>\n",
       "    </tr>\n",
       "  </tbody>\n",
       "</table>\n",
       "</div>"
      ],
      "text/plain": [
       "   Riket    Huvudman  Totalt(A-F)  Flickor(A-F)  Pojkar(A-F)  Totalt%(A-E)  \\\n",
       "0  Riket    Samtliga        14092          6447         7645          77.7   \n",
       "1  Riket    Kommunal        11963          5495         6468          75.9   \n",
       "2  Riket     Enskild         2122           949         1173          87.7   \n",
       "3  Riket  Skolverket            0             0            0           0.0   \n",
       "\n",
       "   Flickor%(A-E)  Pojkar%(A-E)  Totalt(Poäng)  Flickor(Poäng)  Pojkar(Poäng)  \n",
       "0           81.6          74.3            9.4            10.2            8.7  \n",
       "1           80.0          72.4            9.0             9.9            8.3  \n",
       "2           90.9          85.2           11.1            12.0           10.4  \n",
       "3            0.0           0.0            0.0             0.0            0.0  "
      ]
     },
     "execution_count": 27,
     "metadata": {},
     "output_type": "execute_result"
    }
   ],
   "source": [
    "df_country_swedish2"
   ]
  },
  {
   "cell_type": "code",
   "execution_count": 30,
   "metadata": {},
   "outputs": [
    {
     "data": {
      "image/png": "[encoded data removed]",
      "text/plain": [
       "<Figure size 640x480 with 1 Axes>"
      ]
     },
     "metadata": {},
     "output_type": "display_data"
    },
    {
     "data": {
      "image/png": "[encoded data removed]",
      "text/plain": [
       "<Figure size 640x480 with 1 Axes>"
      ]
     },
     "metadata": {},
     "output_type": "display_data"
    },
    {
     "data": {
      "image/png": "[encoded data removed]",
      "text/plain": [
       "<Figure size 640x480 with 1 Axes>"
      ]
     },
     "metadata": {},
     "output_type": "display_data"
    },
    {
     "data": {
      "image/png": "[encoded data removed]",
      "text/plain": [
       "<Figure size 640x480 with 1 Axes>"
      ]
     },
     "metadata": {},
     "output_type": "display_data"
    }
   ],
   "source": [
    "fig, ax= plt.subplots()\n",
    "\n",
    "ax= df_country_english.plot(kind= \"bar\", x= \"Huvudman\", y= \"Totalt(Poäng)\")\n",
    "ax= df_country_math.plot(kind= \"bar\", x= \"Huvudman\", y= \"Totalt(Poäng)\")\n",
    "ax= df_country_swedish.plot(kind= \"bar\", x= \"Huvudman\", y= \"Totalt(Poäng)\")\n",
    "ax= df_country_swedish2.plot(kind= \"bar\", x= \"Huvudman\", y= \"Totalt(Poäng)\")     #vad vill chun ha för lösning på \"..\" vilken metod\n",
    "\n",
    "ax.spines[\"top\"].set_visible(False)\n",
    "ax.spines[\"right\"].set_visible(False)"
   ]
  },
  {
   "cell_type": "code",
   "execution_count": null,
   "metadata": {},
   "outputs": [],
   "source": []
  }
 ],
 "metadata": {
  "kernelspec": {
   "display_name": "venv",
   "language": "python",
   "name": "python3"
  },
  "language_info": {
   "codemirror_mode": {
    "name": "ipython",
    "version": 3
   },
   "file_extension": ".py",
   "mimetype": "text/x-python",
   "name": "python",
   "nbconvert_exporter": "python",
   "pygments_lexer": "ipython3",
   "version": "3.11.7"
  }
 },
 "nbformat": 4,
 "nbformat_minor": 2
}
