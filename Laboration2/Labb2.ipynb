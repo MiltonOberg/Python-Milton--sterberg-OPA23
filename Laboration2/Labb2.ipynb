{
 "cells": [
  {
   "cell_type": "code",
   "execution_count": 218,
   "metadata": {},
   "outputs": [],
   "source": [
    "import numpy as np\n",
    "import pandas as pd\n",
    "import matplotlib.pyplot as plt"
   ]
  },
  {
   "cell_type": "markdown",
   "metadata": {},
   "source": [
    "## Reads in all sheets in Riket / 0"
   ]
  },
  {
   "cell_type": "markdown",
   "metadata": {},
   "source": [
    "## A)"
   ]
  },
  {
   "cell_type": "code",
   "execution_count": 219,
   "metadata": {},
   "outputs": [
    {
     "data": {
      "text/html": [
       "<div>\n",
       "<style scoped>\n",
       "    .dataframe tbody tr th:only-of-type {\n",
       "        vertical-align: middle;\n",
       "    }\n",
       "\n",
       "    .dataframe tbody tr th {\n",
       "        vertical-align: top;\n",
       "    }\n",
       "\n",
       "    .dataframe thead th {\n",
       "        text-align: right;\n",
       "    }\n",
       "</style>\n",
       "<table border=\"1\" class=\"dataframe\">\n",
       "  <thead>\n",
       "    <tr style=\"text-align: right;\">\n",
       "      <th></th>\n",
       "      <th>Riket</th>\n",
       "      <th>Typ av huvudman</th>\n",
       "      <th>Totalt</th>\n",
       "      <th>Flickor</th>\n",
       "      <th>Pojkar</th>\n",
       "      <th>Totalt</th>\n",
       "      <th>Flickor</th>\n",
       "      <th>Pojkar</th>\n",
       "      <th>Totalt</th>\n",
       "      <th>Flickor</th>\n",
       "      <th>Pojkar</th>\n",
       "    </tr>\n",
       "  </thead>\n",
       "  <tbody>\n",
       "    <tr>\n",
       "      <th>0</th>\n",
       "      <td>Riket</td>\n",
       "      <td>Samtliga</td>\n",
       "      <td>106941</td>\n",
       "      <td>51864</td>\n",
       "      <td>55077</td>\n",
       "      <td>97.0</td>\n",
       "      <td>97.1</td>\n",
       "      <td>97.0</td>\n",
       "      <td>15.7</td>\n",
       "      <td>15.8</td>\n",
       "      <td>15.7</td>\n",
       "    </tr>\n",
       "    <tr>\n",
       "      <th>1</th>\n",
       "      <td>Riket</td>\n",
       "      <td>Kommunal</td>\n",
       "      <td>84310</td>\n",
       "      <td>40675</td>\n",
       "      <td>43635</td>\n",
       "      <td>96.6</td>\n",
       "      <td>96.6</td>\n",
       "      <td>96.6</td>\n",
       "      <td>15.4</td>\n",
       "      <td>15.5</td>\n",
       "      <td>15.4</td>\n",
       "    </tr>\n",
       "    <tr>\n",
       "      <th>2</th>\n",
       "      <td>Riket</td>\n",
       "      <td>Enskild</td>\n",
       "      <td>22582</td>\n",
       "      <td>11165</td>\n",
       "      <td>11417</td>\n",
       "      <td>98.7</td>\n",
       "      <td>98.8</td>\n",
       "      <td>98.7</td>\n",
       "      <td>16.9</td>\n",
       "      <td>17.0</td>\n",
       "      <td>16.8</td>\n",
       "    </tr>\n",
       "    <tr>\n",
       "      <th>3</th>\n",
       "      <td>Riket</td>\n",
       "      <td>Skolverket</td>\n",
       "      <td>49</td>\n",
       "      <td>24</td>\n",
       "      <td>25</td>\n",
       "      <td>100.0</td>\n",
       "      <td>100.0</td>\n",
       "      <td>100.0</td>\n",
       "      <td>18.5</td>\n",
       "      <td>18.9</td>\n",
       "      <td>18.2</td>\n",
       "    </tr>\n",
       "  </tbody>\n",
       "</table>\n",
       "</div>"
      ],
      "text/plain": [
       "   Riket Typ av huvudman  Totalt  Flickor  Pojkar  Totalt   Flickor   Pojkar   \\\n",
       "0  Riket        Samtliga  106941    51864   55077     97.0      97.1     97.0   \n",
       "1  Riket        Kommunal   84310    40675   43635     96.6      96.6     96.6   \n",
       "2  Riket         Enskild   22582    11165   11417     98.7      98.8     98.7   \n",
       "3  Riket      Skolverket      49       24      25    100.0     100.0    100.0   \n",
       "\n",
       "   Totalt    Flickor    Pojkar    \n",
       "0      15.7       15.8      15.7  \n",
       "1      15.4       15.5      15.4  \n",
       "2      16.9       17.0      16.8  \n",
       "3      18.5       18.9      18.2  "
      ]
     },
     "execution_count": 219,
     "metadata": {},
     "output_type": "execute_result"
    }
   ],
   "source": [
    "df_english= pd.read_excel(\"../Data/Data_processing/riket2023_åk9_np.xlsx\", sheet_name= \"Engelska\", skiprows= 8)\n",
    "df_math= pd.read_excel(\"../Data/Data_processing/riket2023_åk9_np.xlsx\", sheet_name= \"Matematik\", skiprows= 8)\n",
    "df_swedish= pd.read_excel(\"../Data/Data_processing/riket2023_åk9_np.xlsx\", sheet_name= \"Svenska\", skiprows= 8)\n",
    "df_swedish2= pd.read_excel(\"../Data/Data_processing/riket2023_åk9_np.xlsx\", sheet_name= \"Svenska som andraspråk\", skiprows= 8)\n",
    "df_rapport= pd.read_excel(\"../Data/Data_processing/riket2023_åk9_np.xlsx\", sheet_name= \"Rapportbeskrivning och def.\")\n",
    "df_english"
   ]
  },
  {
   "cell_type": "code",
   "execution_count": 220,
   "metadata": {},
   "outputs": [
    {
     "name": "stderr",
     "output_type": "stream",
     "text": [
      "C:\\Users\\milto\\AppData\\Local\\Temp\\ipykernel_19920\\3370189821.py:26: FutureWarning: Downcasting behavior in `replace` is deprecated and will be removed in a future version. To retain the old behavior, explicitly call `result.infer_objects(copy=False)`. To opt-in to the future behavior, set `pd.set_option('future.no_silent_downcasting', True)`\n",
      "  dfs[subject][column] = dfs[subject][column].replace(\"..\", 0)\n"
     ]
    },
    {
     "data": {
      "text/html": [
       "<div>\n",
       "<style scoped>\n",
       "    .dataframe tbody tr th:only-of-type {\n",
       "        vertical-align: middle;\n",
       "    }\n",
       "\n",
       "    .dataframe tbody tr th {\n",
       "        vertical-align: top;\n",
       "    }\n",
       "\n",
       "    .dataframe thead th {\n",
       "        text-align: right;\n",
       "    }\n",
       "</style>\n",
       "<table border=\"1\" class=\"dataframe\">\n",
       "  <thead>\n",
       "    <tr style=\"text-align: right;\">\n",
       "      <th></th>\n",
       "      <th>Riket</th>\n",
       "      <th>Huvudman</th>\n",
       "      <th>Totalt(A-F)</th>\n",
       "      <th>Flickor(A-F)</th>\n",
       "      <th>Pojkar(A-F)</th>\n",
       "      <th>Totalt%(A-E)</th>\n",
       "      <th>Flickor%(A-E)</th>\n",
       "      <th>Pojkar%(A-E)</th>\n",
       "      <th>Totalt(Poäng)</th>\n",
       "      <th>Flickor(Poäng)</th>\n",
       "      <th>Pojkar(Poäng)</th>\n",
       "    </tr>\n",
       "  </thead>\n",
       "  <tbody>\n",
       "    <tr>\n",
       "      <th>0</th>\n",
       "      <td>Riket</td>\n",
       "      <td>Samtliga</td>\n",
       "      <td>14092</td>\n",
       "      <td>6447</td>\n",
       "      <td>7645</td>\n",
       "      <td>77.7</td>\n",
       "      <td>81.6</td>\n",
       "      <td>74.3</td>\n",
       "      <td>9.4</td>\n",
       "      <td>10.2</td>\n",
       "      <td>8.7</td>\n",
       "    </tr>\n",
       "    <tr>\n",
       "      <th>1</th>\n",
       "      <td>Riket</td>\n",
       "      <td>Kommunal</td>\n",
       "      <td>11963</td>\n",
       "      <td>5495</td>\n",
       "      <td>6468</td>\n",
       "      <td>75.9</td>\n",
       "      <td>80.0</td>\n",
       "      <td>72.4</td>\n",
       "      <td>9.0</td>\n",
       "      <td>9.9</td>\n",
       "      <td>8.3</td>\n",
       "    </tr>\n",
       "    <tr>\n",
       "      <th>2</th>\n",
       "      <td>Riket</td>\n",
       "      <td>Enskild</td>\n",
       "      <td>2122</td>\n",
       "      <td>949</td>\n",
       "      <td>1173</td>\n",
       "      <td>87.7</td>\n",
       "      <td>90.9</td>\n",
       "      <td>85.2</td>\n",
       "      <td>11.1</td>\n",
       "      <td>12.0</td>\n",
       "      <td>10.4</td>\n",
       "    </tr>\n",
       "    <tr>\n",
       "      <th>3</th>\n",
       "      <td>Riket</td>\n",
       "      <td>Skolverket</td>\n",
       "      <td>0</td>\n",
       "      <td>0</td>\n",
       "      <td>0</td>\n",
       "      <td>0.0</td>\n",
       "      <td>0.0</td>\n",
       "      <td>0.0</td>\n",
       "      <td>0.0</td>\n",
       "      <td>0.0</td>\n",
       "      <td>0.0</td>\n",
       "    </tr>\n",
       "  </tbody>\n",
       "</table>\n",
       "</div>"
      ],
      "text/plain": [
       "   Riket    Huvudman  Totalt(A-F)  Flickor(A-F)  Pojkar(A-F)  Totalt%(A-E)  \\\n",
       "0  Riket    Samtliga        14092          6447         7645          77.7   \n",
       "1  Riket    Kommunal        11963          5495         6468          75.9   \n",
       "2  Riket     Enskild         2122           949         1173          87.7   \n",
       "3  Riket  Skolverket            0             0            0           0.0   \n",
       "\n",
       "   Flickor%(A-E)  Pojkar%(A-E)  Totalt(Poäng)  Flickor(Poäng)  Pojkar(Poäng)  \n",
       "0           81.6          74.3            9.4            10.2            8.7  \n",
       "1           80.0          72.4            9.0             9.9            8.3  \n",
       "2           90.9          85.2           11.1            12.0           10.4  \n",
       "3            0.0           0.0            0.0             0.0            0.0  "
      ]
     },
     "execution_count": 220,
     "metadata": {},
     "output_type": "execute_result"
    }
   ],
   "source": [
    "dfs= {\n",
    "    \"English\": df_english,\n",
    "    \"Math\": df_math,\n",
    "    \"Swedish\": df_swedish,\n",
    "    \"Swedish2\": df_swedish2,\n",
    "    \"Report\": df_rapport\n",
    "}\n",
    "labels= [\n",
    "    \"\",\n",
    "    \"\",\n",
    "    \"(A-F)\",\n",
    "    \"(A-F)\",\n",
    "    \"(A-F)\",\n",
    "    \"%(A-E)\",\n",
    "    \"%(A-E)\",\n",
    "    \"%(A-E)\",\n",
    "    \"(Poäng)\",\n",
    "    \"(Poäng)\",\n",
    "    \"(Poäng)\"\n",
    "]\n",
    "columns_copy= []\n",
    "\n",
    "for subject in dfs:\n",
    "    \n",
    "    for column in dfs[subject].columns:\n",
    "        dfs[subject][column] = dfs[subject][column].replace(\"..\", 0)\n",
    "        \n",
    "    dfs[subject].columns= dfs[subject].columns.str.replace(\" \"[0:], \"\")\n",
    "    dfs[subject]= dfs[subject].rename(columns= {\"Typavhuvudman\": \"Huvudman\"})\n",
    "    columns_copy= dfs[subject].columns.tolist()\n",
    "    columns_copy= [f\"{col}{label}\" for col, label in zip(dfs[subject].columns, labels)]\n",
    "    \n",
    "    dfs[subject].columns= columns_copy\n",
    "    \n",
    "df_english= dfs[\"English\"]\n",
    "df_math= dfs[\"Math\"]\n",
    "df_swedish= dfs[\"Swedish\"]\n",
    "df_swedish2= dfs[\"Swedish2\"]\n",
    "df_rapport= dfs[\"Report\"]\n",
    "df_swedish2"
   ]
  },
  {
   "cell_type": "markdown",
   "metadata": {},
   "source": [
    "## Collections"
   ]
  },
  {
   "cell_type": "code",
   "execution_count": 221,
   "metadata": {},
   "outputs": [],
   "source": [
    "dfs= [\n",
    "    df_english,\n",
    "    df_math,\n",
    "    df_swedish,\n",
    "    df_swedish2\n",
    "]\n",
    "colors = {\n",
    "    \"RED1\": \"#D60C00\",\n",
    "    \"YELLOW1\": \"#F4D000\",\n",
    "    \"BLUE1\": \"#1400F4\",\n",
    "    \"BLUE2\": \"#00204E\",\n",
    "    \"GREEN1\": \"#4DF400\",\n",
    "    \"GRAY1\": \"#131313\"\n",
    "}\n",
    "bar_colors = [\n",
    "    colors[\"BLUE1\"],\n",
    "    colors[\"RED1\"],\n",
    "    colors[\"YELLOW1\"],\n",
    "    colors[\"GREEN1\"]\n",
    "]\n",
    "subjects = [\n",
    "    \"English\",\n",
    "    \"Math\",\n",
    "    \"Swedish\",\n",
    "    \"Swedish2\"\n",
    "]\n",
    "total_points= [df.loc[0, \"Totalt(Poäng)\"]for df in dfs]"
   ]
  },
  {
   "cell_type": "markdown",
   "metadata": {},
   "source": [
    "## B)"
   ]
  },
  {
   "cell_type": "code",
   "execution_count": 222,
   "metadata": {},
   "outputs": [
    {
     "data": {
      "text/html": [
       "<div>\n",
       "<style scoped>\n",
       "    .dataframe tbody tr th:only-of-type {\n",
       "        vertical-align: middle;\n",
       "    }\n",
       "\n",
       "    .dataframe tbody tr th {\n",
       "        vertical-align: top;\n",
       "    }\n",
       "\n",
       "    .dataframe thead th {\n",
       "        text-align: right;\n",
       "    }\n",
       "</style>\n",
       "<table border=\"1\" class=\"dataframe\">\n",
       "  <thead>\n",
       "    <tr style=\"text-align: right;\">\n",
       "      <th></th>\n",
       "      <th>Riket</th>\n",
       "      <th>Huvudman</th>\n",
       "      <th>Totalt(A-F)</th>\n",
       "      <th>Flickor(A-F)</th>\n",
       "      <th>Pojkar(A-F)</th>\n",
       "      <th>Totalt%(A-E)</th>\n",
       "      <th>Flickor%(A-E)</th>\n",
       "      <th>Pojkar%(A-E)</th>\n",
       "      <th>Totalt(Poäng)</th>\n",
       "      <th>Flickor(Poäng)</th>\n",
       "      <th>Pojkar(Poäng)</th>\n",
       "    </tr>\n",
       "  </thead>\n",
       "  <tbody>\n",
       "    <tr>\n",
       "      <th>0</th>\n",
       "      <td>Riket</td>\n",
       "      <td>Samtliga</td>\n",
       "      <td>106766</td>\n",
       "      <td>51548</td>\n",
       "      <td>55218</td>\n",
       "      <td>89.1</td>\n",
       "      <td>88.7</td>\n",
       "      <td>89.5</td>\n",
       "      <td>11.9</td>\n",
       "      <td>11.8</td>\n",
       "      <td>12.0</td>\n",
       "    </tr>\n",
       "    <tr>\n",
       "      <th>1</th>\n",
       "      <td>Riket</td>\n",
       "      <td>Kommunal</td>\n",
       "      <td>84163</td>\n",
       "      <td>40386</td>\n",
       "      <td>43777</td>\n",
       "      <td>88.1</td>\n",
       "      <td>87.7</td>\n",
       "      <td>88.5</td>\n",
       "      <td>11.6</td>\n",
       "      <td>11.5</td>\n",
       "      <td>11.7</td>\n",
       "    </tr>\n",
       "    <tr>\n",
       "      <th>2</th>\n",
       "      <td>Riket</td>\n",
       "      <td>Enskild</td>\n",
       "      <td>22553</td>\n",
       "      <td>11137</td>\n",
       "      <td>11416</td>\n",
       "      <td>92.9</td>\n",
       "      <td>92.2</td>\n",
       "      <td>93.5</td>\n",
       "      <td>13.0</td>\n",
       "      <td>12.8</td>\n",
       "      <td>13.1</td>\n",
       "    </tr>\n",
       "    <tr>\n",
       "      <th>3</th>\n",
       "      <td>Riket</td>\n",
       "      <td>Skolverket</td>\n",
       "      <td>50</td>\n",
       "      <td>25</td>\n",
       "      <td>25</td>\n",
       "      <td>~100</td>\n",
       "      <td>~100</td>\n",
       "      <td>~100</td>\n",
       "      <td>14.1</td>\n",
       "      <td>13.5</td>\n",
       "      <td>14.7</td>\n",
       "    </tr>\n",
       "  </tbody>\n",
       "</table>\n",
       "</div>"
      ],
      "text/plain": [
       "   Riket    Huvudman  Totalt(A-F)  Flickor(A-F)  Pojkar(A-F) Totalt%(A-E)  \\\n",
       "0  Riket    Samtliga       106766         51548        55218         89.1   \n",
       "1  Riket    Kommunal        84163         40386        43777         88.1   \n",
       "2  Riket     Enskild        22553         11137        11416         92.9   \n",
       "3  Riket  Skolverket           50            25           25         ~100   \n",
       "\n",
       "  Flickor%(A-E) Pojkar%(A-E)  Totalt(Poäng)  Flickor(Poäng)  Pojkar(Poäng)  \n",
       "0          88.7         89.5           11.9            11.8           12.0  \n",
       "1          87.7         88.5           11.6            11.5           11.7  \n",
       "2          92.2         93.5           13.0            12.8           13.1  \n",
       "3          ~100         ~100           14.1            13.5           14.7  "
      ]
     },
     "execution_count": 222,
     "metadata": {},
     "output_type": "execute_result"
    }
   ],
   "source": [
    "df_math"
   ]
  },
  {
   "cell_type": "code",
   "execution_count": 223,
   "metadata": {},
   "outputs": [
    {
     "data": {
      "text/plain": [
       "11622.81"
      ]
     },
     "execution_count": 223,
     "metadata": {},
     "output_type": "execute_result"
    }
   ],
   "source": [
    "girls_f= round(df_math.loc[0, \"Flickor(A-F)\"]- df_math.loc[0, \"Flickor(A-F)\"]* (df_math.loc[0, \"Flickor%(A-E)\"]/ 100), 2)\n",
    "boys_f= round(df_math.loc[0, \"Pojkar(A-F)\"]- df_math.loc[0, \"Pojkar(A-F)\"]* (df_math.loc[0, \"Pojkar%(A-E)\"]/ 100), 2)\n",
    "grades_f= round(girls_f+ boys_f, 2)\n",
    "grades_f"
   ]
  },
  {
   "cell_type": "markdown",
   "metadata": {},
   "source": [
    "## C)"
   ]
  },
  {
   "cell_type": "code",
   "execution_count": 224,
   "metadata": {},
   "outputs": [
    {
     "data": {
      "text/plain": [
       "Text(0.5, 1.0, 'Total subject score in Sweden')"
      ]
     },
     "execution_count": 224,
     "metadata": {},
     "output_type": "execute_result"
    },
    {
     "data": {
      "image/png": "[encoded data removed]",
      "text/plain": [
       "<Figure size 600x500 with 1 Axes>"
      ]
     },
     "metadata": {},
     "output_type": "display_data"
    }
   ],
   "source": [
    "fig, ax= plt.subplots(figsize= (6, 5))\n",
    "ax.bar(subjects, total_points, color= bar_colors)\n",
    "\n",
    "ax.spines[\"top\"].set_visible(False)\n",
    "ax.spines[\"right\"].set_visible(False)\n",
    "ax.spines[\"bottom\"].set_color(colors[\"BLUE2\"])\n",
    "ax.spines[\"left\"].set_color(colors[\"BLUE2\"])\n",
    "ax.tick_params(colors= colors[\"BLUE2\"])\n",
    "ax.set_title(\"Total subject score in Sweden\", color= colors[\"GRAY1\"], fontsize= 16)"
   ]
  },
  {
   "cell_type": "markdown",
   "metadata": {},
   "source": [
    "## D)"
   ]
  },
  {
   "cell_type": "code",
   "execution_count": 225,
   "metadata": {},
   "outputs": [
    {
     "data": {
      "image/png": "[encoded data removed]",
      "text/plain": [
       "<Figure size 1500x1000 with 4 Axes>"
      ]
     },
     "metadata": {},
     "output_type": "display_data"
    }
   ],
   "source": [
    "huvudmann= [\"Samtliga\", \"Kommunal\", \"Enskild\", \"Skolverket\"]\n",
    "fig, axs= plt.subplots(int(len(huvudmann)/2), int(len(huvudmann)/2), figsize= (15, 10))\n",
    "\n",
    "\n",
    "for ax, df, huvudman in zip(axs.flatten(), dfs, huvudmann):\n",
    "\n",
    "    ax.bar(subjects, df[\"Totalt(Poäng)\"], color= bar_colors)\n",
    "    \n",
    "    for x, point in enumerate(df[\"Totalt(Poäng)\"]):\n",
    "        if point <= 0:\n",
    "            ax.text(x-0.35, 0.1, \"No data found\")\n",
    "    ax.set(title= huvudman)\n",
    "    ax.spines[\"top\"].set_visible(False)\n",
    "    ax.spines[\"right\"].set_visible(False)\n",
    "    "
   ]
  },
  {
   "cell_type": "markdown",
   "metadata": {},
   "source": [
    "# Betyg och prov / 1"
   ]
  },
  {
   "cell_type": "code",
   "execution_count": 226,
   "metadata": {},
   "outputs": [],
   "source": [
    "df_1a_raw= pd.read_excel(\"../Data/Data_processing/betyg_o_prov_riksnivå.xlsx\", sheet_name= \"Tabell 1A\", skiprows= 9)\n",
    "df_1b_raw= pd.read_excel(\"../Data/Data_processing/betyg_o_prov_riksnivå.xlsx\", sheet_name= \"Tabell 1B\", skiprows= 7)"
   ]
  },
  {
   "cell_type": "code",
   "execution_count": 227,
   "metadata": {},
   "outputs": [],
   "source": [
    "df_1a= df_1a_raw.rename(columns= {\n",
    "    \"Unnamed: 0\": \"\",\n",
    "    \"Unnamed: 1\": \"Totalt1\",\n",
    "    \"Unnamed: 2\": \"Flickor1\",\n",
    "    \"Unnamed: 3\": \"Pojkar1\"\n",
    "})\n",
    "df_1b= df_1b_raw.rename(columns= {\n",
    "    \"Unnamed: 0\": \"\"\n",
    "})"
   ]
  },
  {
   "cell_type": "code",
   "execution_count": 228,
   "metadata": {},
   "outputs": [
    {
     "data": {
      "text/html": [
       "<div>\n",
       "<style scoped>\n",
       "    .dataframe tbody tr th:only-of-type {\n",
       "        vertical-align: middle;\n",
       "    }\n",
       "\n",
       "    .dataframe tbody tr th {\n",
       "        vertical-align: top;\n",
       "    }\n",
       "\n",
       "    .dataframe thead th {\n",
       "        text-align: right;\n",
       "    }\n",
       "</style>\n",
       "<table border=\"1\" class=\"dataframe\">\n",
       "  <thead>\n",
       "    <tr style=\"text-align: right;\">\n",
       "      <th></th>\n",
       "      <th></th>\n",
       "      <th>Totalt1</th>\n",
       "      <th>Flickor1</th>\n",
       "      <th>Pojkar1</th>\n",
       "      <th>Totalt</th>\n",
       "      <th>Flickor</th>\n",
       "      <th>Pojkar</th>\n",
       "      <th>Totalt.1</th>\n",
       "      <th>Flickor.1</th>\n",
       "      <th>Pojkar.1</th>\n",
       "    </tr>\n",
       "  </thead>\n",
       "  <tbody>\n",
       "    <tr>\n",
       "      <th>0</th>\n",
       "      <td>2018/19</td>\n",
       "      <td>112731.0</td>\n",
       "      <td>54667.0</td>\n",
       "      <td>58064.0</td>\n",
       "      <td>112280</td>\n",
       "      <td>54430</td>\n",
       "      <td>57850</td>\n",
       "      <td>110663</td>\n",
       "      <td>53757</td>\n",
       "      <td>56906</td>\n",
       "    </tr>\n",
       "    <tr>\n",
       "      <th>1</th>\n",
       "      <td>2019/20</td>\n",
       "      <td>115023.0</td>\n",
       "      <td>55670.0</td>\n",
       "      <td>59353.0</td>\n",
       "      <td>114444</td>\n",
       "      <td>55389</td>\n",
       "      <td>59055</td>\n",
       "      <td>112728</td>\n",
       "      <td>54711</td>\n",
       "      <td>58017</td>\n",
       "    </tr>\n",
       "    <tr>\n",
       "      <th>2</th>\n",
       "      <td>2020/21</td>\n",
       "      <td>116359.0</td>\n",
       "      <td>56715.0</td>\n",
       "      <td>59644.0</td>\n",
       "      <td>115710</td>\n",
       "      <td>56394</td>\n",
       "      <td>59316</td>\n",
       "      <td>114136</td>\n",
       "      <td>55721</td>\n",
       "      <td>58415</td>\n",
       "    </tr>\n",
       "    <tr>\n",
       "      <th>3</th>\n",
       "      <td>2021/22</td>\n",
       "      <td>120525.0</td>\n",
       "      <td>58513.0</td>\n",
       "      <td>62012.0</td>\n",
       "      <td>119891</td>\n",
       "      <td>58207</td>\n",
       "      <td>61684</td>\n",
       "      <td>117935</td>\n",
       "      <td>57312</td>\n",
       "      <td>60623</td>\n",
       "    </tr>\n",
       "    <tr>\n",
       "      <th>4</th>\n",
       "      <td>2022/23</td>\n",
       "      <td>121369.0</td>\n",
       "      <td>59043.0</td>\n",
       "      <td>62326.0</td>\n",
       "      <td>120742</td>\n",
       "      <td>58703</td>\n",
       "      <td>62039</td>\n",
       "      <td>118736</td>\n",
       "      <td>57781</td>\n",
       "      <td>60955</td>\n",
       "    </tr>\n",
       "  </tbody>\n",
       "</table>\n",
       "</div>"
      ],
      "text/plain": [
       "             Totalt1  Flickor1  Pojkar1  Totalt Flickor Pojkar Totalt.1  \\\n",
       "0  2018/19  112731.0   54667.0  58064.0  112280   54430  57850   110663   \n",
       "1  2019/20  115023.0   55670.0  59353.0  114444   55389  59055   112728   \n",
       "2  2020/21  116359.0   56715.0  59644.0  115710   56394  59316   114136   \n",
       "3  2021/22  120525.0   58513.0  62012.0  119891   58207  61684   117935   \n",
       "4  2022/23  121369.0   59043.0  62326.0  120742   58703  62039   118736   \n",
       "\n",
       "  Flickor.1 Pojkar.1  \n",
       "0     53757    56906  \n",
       "1     54711    58017  \n",
       "2     55721    58415  \n",
       "3     57312    60623  \n",
       "4     57781    60955  "
      ]
     },
     "execution_count": 228,
     "metadata": {},
     "output_type": "execute_result"
    }
   ],
   "source": [
    "df_1a.head()"
   ]
  },
  {
   "cell_type": "code",
   "execution_count": 229,
   "metadata": {},
   "outputs": [
    {
     "data": {
      "text/html": [
       "<div>\n",
       "<style scoped>\n",
       "    .dataframe tbody tr th:only-of-type {\n",
       "        vertical-align: middle;\n",
       "    }\n",
       "\n",
       "    .dataframe tbody tr th {\n",
       "        vertical-align: top;\n",
       "    }\n",
       "\n",
       "    .dataframe thead th {\n",
       "        text-align: right;\n",
       "    }\n",
       "</style>\n",
       "<table border=\"1\" class=\"dataframe\">\n",
       "  <thead>\n",
       "    <tr style=\"text-align: right;\">\n",
       "      <th></th>\n",
       "      <th></th>\n",
       "      <th>Totalt</th>\n",
       "      <th>Flickor</th>\n",
       "      <th>Pojkar</th>\n",
       "      <th>Totalt.1</th>\n",
       "      <th>Flickor.1</th>\n",
       "      <th>Pojkar.1</th>\n",
       "      <th>Totalt.2</th>\n",
       "      <th>Flickor.2</th>\n",
       "      <th>Pojkar.2</th>\n",
       "    </tr>\n",
       "  </thead>\n",
       "  <tbody>\n",
       "    <tr>\n",
       "      <th>0</th>\n",
       "      <td>2018/19</td>\n",
       "      <td>221.7</td>\n",
       "      <td>234.3</td>\n",
       "      <td>209.8</td>\n",
       "      <td>229.8</td>\n",
       "      <td>243.3</td>\n",
       "      <td>217.0</td>\n",
       "      <td>24.5</td>\n",
       "      <td>21.7</td>\n",
       "      <td>27.2</td>\n",
       "    </tr>\n",
       "    <tr>\n",
       "      <th>1</th>\n",
       "      <td>2019/20</td>\n",
       "      <td>222.9</td>\n",
       "      <td>235.7</td>\n",
       "      <td>210.9</td>\n",
       "      <td>231.1</td>\n",
       "      <td>244.9</td>\n",
       "      <td>218.2</td>\n",
       "      <td>23.9</td>\n",
       "      <td>21.4</td>\n",
       "      <td>26.3</td>\n",
       "    </tr>\n",
       "    <tr>\n",
       "      <th>2</th>\n",
       "      <td>2020/21</td>\n",
       "      <td>223.9</td>\n",
       "      <td>235.4</td>\n",
       "      <td>212.9</td>\n",
       "      <td>232.1</td>\n",
       "      <td>244.4</td>\n",
       "      <td>220.3</td>\n",
       "      <td>23.9</td>\n",
       "      <td>21.9</td>\n",
       "      <td>25.9</td>\n",
       "    </tr>\n",
       "    <tr>\n",
       "      <th>3</th>\n",
       "      <td>2021/22</td>\n",
       "      <td>221.2</td>\n",
       "      <td>231.6</td>\n",
       "      <td>211.4</td>\n",
       "      <td>229.2</td>\n",
       "      <td>240.3</td>\n",
       "      <td>218.8</td>\n",
       "      <td>25.9</td>\n",
       "      <td>24.2</td>\n",
       "      <td>27.5</td>\n",
       "    </tr>\n",
       "    <tr>\n",
       "      <th>4</th>\n",
       "      <td>2022/23</td>\n",
       "      <td>220.6</td>\n",
       "      <td>229.7</td>\n",
       "      <td>211.9</td>\n",
       "      <td>228.5</td>\n",
       "      <td>238.2</td>\n",
       "      <td>219.3</td>\n",
       "      <td>26.8</td>\n",
       "      <td>25.5</td>\n",
       "      <td>28.0</td>\n",
       "    </tr>\n",
       "  </tbody>\n",
       "</table>\n",
       "</div>"
      ],
      "text/plain": [
       "            Totalt  Flickor  Pojkar  Totalt.1  Flickor.1  Pojkar.1  Totalt.2  \\\n",
       "0  2018/19   221.7    234.3   209.8     229.8      243.3     217.0      24.5   \n",
       "1  2019/20   222.9    235.7   210.9     231.1      244.9     218.2      23.9   \n",
       "2  2020/21   223.9    235.4   212.9     232.1      244.4     220.3      23.9   \n",
       "3  2021/22   221.2    231.6   211.4     229.2      240.3     218.8      25.9   \n",
       "4  2022/23   220.6    229.7   211.9     228.5      238.2     219.3      26.8   \n",
       "\n",
       "   Flickor.2  Pojkar.2  \n",
       "0       21.7      27.2  \n",
       "1       21.4      26.3  \n",
       "2       21.9      25.9  \n",
       "3       24.2      27.5  \n",
       "4       25.5      28.0  "
      ]
     },
     "execution_count": 229,
     "metadata": {},
     "output_type": "execute_result"
    }
   ],
   "source": [
    "df_1b.head()"
   ]
  },
  {
   "cell_type": "code",
   "execution_count": 230,
   "metadata": {},
   "outputs": [
    {
     "data": {
      "text/plain": [
       "0    54.3165\n",
       "1    53.2731\n",
       "2    53.5121\n",
       "3    57.2908\n",
       "4    59.1208\n",
       "dtype: float64"
      ]
     },
     "execution_count": 230,
     "metadata": {},
     "output_type": "execute_result"
    }
   ],
   "source": [
    "total_f= df_1b.loc[0:4, \"Totalt\"]* df_1b.loc[0:4, \"Totalt.2\"]/ 100\n",
    "girls_f= df_1b.loc[0:4, \"Flickor\"].values* df_1b.loc[0:4, \"Flickor.2\"].values/ 100\n",
    "boys_f= df_1b.loc[0:4, \"Pojkar\"].values* df_1b.loc[0:4, \"Pojkar.2\"].values/ 100\n",
    "years= df_1b.loc[0:4, \"\"].values"
   ]
  },
  {
   "cell_type": "code",
   "execution_count": 231,
   "metadata": {},
   "outputs": [
    {
     "data": {
      "image/png": "[encoded data removed]",
      "text/plain": [
       "<Figure size 800x600 with 1 Axes>"
      ]
     },
     "metadata": {},
     "output_type": "display_data"
    }
   ],
   "source": [
    "fig, ax= plt.subplots(figsize= (8, 6))\n",
    "\n",
    "ax.plot(years, total_f, color= colors[\"GREEN1\"])\n",
    "ax.plot(years, girls_f, color= colors[\"RED1\"])\n",
    "ax.plot(years, boys_f, color= colors[\"BLUE1\"])\n",
    "plt.show()"
   ]
  },
  {
   "cell_type": "code",
   "execution_count": null,
   "metadata": {},
   "outputs": [],
   "source": []
  }
 ],
 "metadata": {
  "kernelspec": {
   "display_name": "venv",
   "language": "python",
   "name": "python3"
  },
  "language_info": {
   "codemirror_mode": {
    "name": "ipython",
    "version": 3
   },
   "file_extension": ".py",
   "mimetype": "text/x-python",
   "name": "python",
   "nbconvert_exporter": "python",
   "pygments_lexer": "ipython3",
   "version": "3.11.7"
  }
 },
 "nbformat": 4,
 "nbformat_minor": 2
}
