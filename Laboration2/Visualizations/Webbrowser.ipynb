{
 "cells": [
  {
   "cell_type": "code",
   "execution_count": 11,
   "metadata": {},
   "outputs": [
    {
     "name": "stdout",
     "output_type": "stream",
     "text": [
      "file://c:\\Users\\milto\\Documents\\skola\\Python-Milton--sterberg-OPA23\\Laboration2\\Visualizations\\plot_1.A.html\n"
     ]
    }
   ],
   "source": [
    "import webbrowser\n",
    "import os\n",
    "\"\"\"Ville testa men tror jag har spärrar på datorn som inte låter mig se om det funkar\"\"\"\n",
    "file_path= \"../Visualizations/plot_1.A.html\"\n",
    "file_path= os.path.abspath(file_path)\n",
    "url= \"file://\" + file_path\n",
    "webbrowser.open_new_tab(url)\n",
    "print(url)\n"
   ]
  },
  {
   "cell_type": "code",
   "execution_count": null,
   "metadata": {},
   "outputs": [],
   "source": []
  }
 ],
 "metadata": {
  "kernelspec": {
   "display_name": "venv",
   "language": "python",
   "name": "python3"
  },
  "language_info": {
   "codemirror_mode": {
    "name": "ipython",
    "version": 3
   },
   "file_extension": ".py",
   "mimetype": "text/x-python",
   "name": "python",
   "nbconvert_exporter": "python",
   "pygments_lexer": "ipython3",
   "version": "3.11.7"
  }
 },
 "nbformat": 4,
 "nbformat_minor": 2
}
